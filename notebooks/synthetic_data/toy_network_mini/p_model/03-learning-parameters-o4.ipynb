{
 "cells": [
  {
   "attachments": {},
   "cell_type": "markdown",
   "metadata": {},
   "source": [
    "#### Prerequesites:\n",
    "* Define schema (make figure) \n",
    "* Define structure (make figure)\n",
    "* Define schema class in python (src/models/model_schemata.py)\n",
    "* Convert schema + structure into model template (models/templates/p_model.pl)\n",
    "\n",
    "#### Procedure:\n",
    "* Load data\n",
    "* Adjust model script for lfi accordingly\n",
    "* Create evidence file (if I don't need different evidence files, move to builmodel notebook)\n",
    "* LFI"
   ]
  },
  {
   "attachments": {},
   "cell_type": "markdown",
   "metadata": {},
   "source": [
    "Multiple instances, X pst, 3 or 4 enzymes, one sample and pst per instance, multiple enzymes per instance, test how many psts feasible, how computing time depends on number of enzymes, how computing time depends on N p::f for 60 samples and X psts"
   ]
  },
  {
   "cell_type": "code",
   "execution_count": 15,
   "metadata": {},
   "outputs": [
    {
     "name": "stdout",
     "output_type": "stream",
     "text": [
      "The autoreload extension is already loaded. To reload it, use:\n",
      "  %reload_ext autoreload\n"
     ]
    }
   ],
   "source": [
    "%load_ext autoreload\n",
    "%autoreload 2"
   ]
  },
  {
   "cell_type": "code",
   "execution_count": 16,
   "metadata": {},
   "outputs": [],
   "source": [
    "# Importing libraries\n",
    "import pandas as pd\n",
    "import numpy as np\n",
    "import os\n",
    "import random\n",
    "\n",
    "import matplotlib.pyplot as plt\n",
    "import seaborn as sns\n",
    "from scipy.optimize import curve_fit\n",
    "\n",
    "from src.models import model_schemata as schema\n",
    "from src.models import build_model as build\n",
    "from src.visualization import visualize as viz"
   ]
  },
  {
   "cell_type": "code",
   "execution_count": 17,
   "metadata": {},
   "outputs": [],
   "source": [
    "os.chdir('/Users/magdalena/OneDrive - Queen Mary, University of London/bezzlab/research/projects/phospho_pi/')\n",
    "# os.chdir('/home/mhuebner/Desktop/bezzlab/research/projects/phospho_pi/')"
   ]
  },
  {
   "attachments": {},
   "cell_type": "markdown",
   "metadata": {},
   "source": [
    "#### Training/Testing"
   ]
  },
  {
   "cell_type": "code",
   "execution_count": 4,
   "metadata": {},
   "outputs": [
    {
     "data": {
      "text/html": [
       "<div>\n",
       "<style scoped>\n",
       "    .dataframe tbody tr th:only-of-type {\n",
       "        vertical-align: middle;\n",
       "    }\n",
       "\n",
       "    .dataframe tbody tr th {\n",
       "        vertical-align: top;\n",
       "    }\n",
       "\n",
       "    .dataframe thead th {\n",
       "        text-align: right;\n",
       "    }\n",
       "</style>\n",
       "<table border=\"1\" class=\"dataframe\">\n",
       "  <thead>\n",
       "    <tr style=\"text-align: right;\">\n",
       "      <th></th>\n",
       "      <th>phosphosite</th>\n",
       "      <th>sample</th>\n",
       "      <th>value</th>\n",
       "      <th>prob</th>\n",
       "    </tr>\n",
       "  </thead>\n",
       "  <tbody>\n",
       "    <tr>\n",
       "      <th>0</th>\n",
       "      <td>p0</td>\n",
       "      <td>s1</td>\n",
       "      <td>dec</td>\n",
       "      <td>0.751050</td>\n",
       "    </tr>\n",
       "    <tr>\n",
       "      <th>1</th>\n",
       "      <td>p0</td>\n",
       "      <td>s10</td>\n",
       "      <td>dec</td>\n",
       "      <td>0.884666</td>\n",
       "    </tr>\n",
       "    <tr>\n",
       "      <th>2</th>\n",
       "      <td>p0</td>\n",
       "      <td>s100</td>\n",
       "      <td>inc</td>\n",
       "      <td>0.885386</td>\n",
       "    </tr>\n",
       "    <tr>\n",
       "      <th>3</th>\n",
       "      <td>p0</td>\n",
       "      <td>s11</td>\n",
       "      <td>inc</td>\n",
       "      <td>0.707411</td>\n",
       "    </tr>\n",
       "    <tr>\n",
       "      <th>4</th>\n",
       "      <td>p0</td>\n",
       "      <td>s12</td>\n",
       "      <td>dec</td>\n",
       "      <td>0.851823</td>\n",
       "    </tr>\n",
       "    <tr>\n",
       "      <th>...</th>\n",
       "      <td>...</td>\n",
       "      <td>...</td>\n",
       "      <td>...</td>\n",
       "      <td>...</td>\n",
       "    </tr>\n",
       "    <tr>\n",
       "      <th>95</th>\n",
       "      <td>p0</td>\n",
       "      <td>s95</td>\n",
       "      <td>dec</td>\n",
       "      <td>0.714859</td>\n",
       "    </tr>\n",
       "    <tr>\n",
       "      <th>96</th>\n",
       "      <td>p0</td>\n",
       "      <td>s96</td>\n",
       "      <td>dec</td>\n",
       "      <td>0.549454</td>\n",
       "    </tr>\n",
       "    <tr>\n",
       "      <th>97</th>\n",
       "      <td>p0</td>\n",
       "      <td>s97</td>\n",
       "      <td>dec</td>\n",
       "      <td>0.840331</td>\n",
       "    </tr>\n",
       "    <tr>\n",
       "      <th>98</th>\n",
       "      <td>p0</td>\n",
       "      <td>s98</td>\n",
       "      <td>inc</td>\n",
       "      <td>0.700061</td>\n",
       "    </tr>\n",
       "    <tr>\n",
       "      <th>99</th>\n",
       "      <td>p0</td>\n",
       "      <td>s99</td>\n",
       "      <td>base</td>\n",
       "      <td>0.554254</td>\n",
       "    </tr>\n",
       "  </tbody>\n",
       "</table>\n",
       "<p>100 rows × 4 columns</p>\n",
       "</div>"
      ],
      "text/plain": [
       "   phosphosite sample value      prob\n",
       "0           p0     s1   dec  0.751050\n",
       "1           p0    s10   dec  0.884666\n",
       "2           p0   s100   inc  0.885386\n",
       "3           p0    s11   inc  0.707411\n",
       "4           p0    s12   dec  0.851823\n",
       "..         ...    ...   ...       ...\n",
       "95          p0    s95   dec  0.714859\n",
       "96          p0    s96   dec  0.549454\n",
       "97          p0    s97   dec  0.840331\n",
       "98          p0    s98   inc  0.700061\n",
       "99          p0    s99  base  0.554254\n",
       "\n",
       "[100 rows x 4 columns]"
      ]
     },
     "execution_count": 4,
     "metadata": {},
     "output_type": "execute_result"
    }
   ],
   "source": [
    "# reading csv from files into dict\n",
    "data = {}\n",
    "data['e_activity'] = pd.read_csv('data/processed/synthetic_data/toy_network_mini/p_model/e_activity.csv')\n",
    "data['p_occupancy'] = pd.read_csv('data/processed/synthetic_data/toy_network_mini/p_model/p_occupancy.csv')\n",
    "data['p_occupancy']"
   ]
  },
  {
   "cell_type": "code",
   "execution_count": 15,
   "metadata": {},
   "outputs": [
    {
     "data": {
      "text/html": [
       "<div>\n",
       "<style scoped>\n",
       "    .dataframe tbody tr th:only-of-type {\n",
       "        vertical-align: middle;\n",
       "    }\n",
       "\n",
       "    .dataframe tbody tr th {\n",
       "        vertical-align: top;\n",
       "    }\n",
       "\n",
       "    .dataframe thead th {\n",
       "        text-align: right;\n",
       "    }\n",
       "</style>\n",
       "<table border=\"1\" class=\"dataframe\">\n",
       "  <thead>\n",
       "    <tr style=\"text-align: right;\">\n",
       "      <th></th>\n",
       "      <th>phosphosite</th>\n",
       "      <th>sample</th>\n",
       "      <th>value</th>\n",
       "      <th>prob</th>\n",
       "    </tr>\n",
       "  </thead>\n",
       "  <tbody>\n",
       "    <tr>\n",
       "      <th>0</th>\n",
       "      <td>p0</td>\n",
       "      <td>s1</td>\n",
       "      <td>dec</td>\n",
       "      <td>0.751050</td>\n",
       "    </tr>\n",
       "    <tr>\n",
       "      <th>1</th>\n",
       "      <td>p0</td>\n",
       "      <td>s10</td>\n",
       "      <td>dec</td>\n",
       "      <td>0.884666</td>\n",
       "    </tr>\n",
       "    <tr>\n",
       "      <th>2</th>\n",
       "      <td>p0</td>\n",
       "      <td>s100</td>\n",
       "      <td>inc</td>\n",
       "      <td>0.885386</td>\n",
       "    </tr>\n",
       "    <tr>\n",
       "      <th>3</th>\n",
       "      <td>p0</td>\n",
       "      <td>s11</td>\n",
       "      <td>inc</td>\n",
       "      <td>0.707411</td>\n",
       "    </tr>\n",
       "    <tr>\n",
       "      <th>4</th>\n",
       "      <td>p0</td>\n",
       "      <td>s12</td>\n",
       "      <td>dec</td>\n",
       "      <td>0.851823</td>\n",
       "    </tr>\n",
       "    <tr>\n",
       "      <th>...</th>\n",
       "      <td>...</td>\n",
       "      <td>...</td>\n",
       "      <td>...</td>\n",
       "      <td>...</td>\n",
       "    </tr>\n",
       "    <tr>\n",
       "      <th>1995</th>\n",
       "      <td>p19</td>\n",
       "      <td>s95</td>\n",
       "      <td>dec</td>\n",
       "      <td>0.714859</td>\n",
       "    </tr>\n",
       "    <tr>\n",
       "      <th>1996</th>\n",
       "      <td>p19</td>\n",
       "      <td>s96</td>\n",
       "      <td>dec</td>\n",
       "      <td>0.549454</td>\n",
       "    </tr>\n",
       "    <tr>\n",
       "      <th>1997</th>\n",
       "      <td>p19</td>\n",
       "      <td>s97</td>\n",
       "      <td>dec</td>\n",
       "      <td>0.840331</td>\n",
       "    </tr>\n",
       "    <tr>\n",
       "      <th>1998</th>\n",
       "      <td>p19</td>\n",
       "      <td>s98</td>\n",
       "      <td>inc</td>\n",
       "      <td>0.700061</td>\n",
       "    </tr>\n",
       "    <tr>\n",
       "      <th>1999</th>\n",
       "      <td>p19</td>\n",
       "      <td>s99</td>\n",
       "      <td>base</td>\n",
       "      <td>0.554254</td>\n",
       "    </tr>\n",
       "  </tbody>\n",
       "</table>\n",
       "<p>2000 rows × 4 columns</p>\n",
       "</div>"
      ],
      "text/plain": [
       "     phosphosite sample value      prob\n",
       "0             p0     s1   dec  0.751050\n",
       "1             p0    s10   dec  0.884666\n",
       "2             p0   s100   inc  0.885386\n",
       "3             p0    s11   inc  0.707411\n",
       "4             p0    s12   dec  0.851823\n",
       "...          ...    ...   ...       ...\n",
       "1995         p19    s95   dec  0.714859\n",
       "1996         p19    s96   dec  0.549454\n",
       "1997         p19    s97   dec  0.840331\n",
       "1998         p19    s98   inc  0.700061\n",
       "1999         p19    s99  base  0.554254\n",
       "\n",
       "[2000 rows x 4 columns]"
      ]
     },
     "execution_count": 15,
     "metadata": {},
     "output_type": "execute_result"
    }
   ],
   "source": [
    "# duplicate data['p_occupancy'] * n and replace p0 in the new df with pn\n",
    "# use pd.concat\n",
    "n = 20\n",
    "new_occ = data['p_occupancy'].copy()\n",
    "for i in range(1, n):\n",
    "    new_phos = data['p_occupancy'].copy()\n",
    "    new_phos['phosphosite'] = new_phos['phosphosite'].replace('p0', 'p' + str(i))\n",
    "    new_occ = pd.concat([new_occ, new_phos], ignore_index=True)\n",
    "new_occ"
   ]
  },
  {
   "cell_type": "code",
   "execution_count": 16,
   "metadata": {},
   "outputs": [
    {
     "data": {
      "text/html": [
       "<div>\n",
       "<style scoped>\n",
       "    .dataframe tbody tr th:only-of-type {\n",
       "        vertical-align: middle;\n",
       "    }\n",
       "\n",
       "    .dataframe tbody tr th {\n",
       "        vertical-align: top;\n",
       "    }\n",
       "\n",
       "    .dataframe thead th {\n",
       "        text-align: right;\n",
       "    }\n",
       "</style>\n",
       "<table border=\"1\" class=\"dataframe\">\n",
       "  <thead>\n",
       "    <tr style=\"text-align: right;\">\n",
       "      <th></th>\n",
       "      <th>enzyme</th>\n",
       "      <th>sample</th>\n",
       "      <th>value</th>\n",
       "      <th>prob</th>\n",
       "    </tr>\n",
       "  </thead>\n",
       "  <tbody>\n",
       "    <tr>\n",
       "      <th>0</th>\n",
       "      <td>e1</td>\n",
       "      <td>s1</td>\n",
       "      <td>inc</td>\n",
       "      <td>0.667479</td>\n",
       "    </tr>\n",
       "    <tr>\n",
       "      <th>1</th>\n",
       "      <td>e1</td>\n",
       "      <td>s10</td>\n",
       "      <td>dec</td>\n",
       "      <td>0.869338</td>\n",
       "    </tr>\n",
       "    <tr>\n",
       "      <th>2</th>\n",
       "      <td>e1</td>\n",
       "      <td>s100</td>\n",
       "      <td>inc</td>\n",
       "      <td>0.962838</td>\n",
       "    </tr>\n",
       "    <tr>\n",
       "      <th>3</th>\n",
       "      <td>e1</td>\n",
       "      <td>s11</td>\n",
       "      <td>base</td>\n",
       "      <td>0.883589</td>\n",
       "    </tr>\n",
       "    <tr>\n",
       "      <th>4</th>\n",
       "      <td>e1</td>\n",
       "      <td>s12</td>\n",
       "      <td>dec</td>\n",
       "      <td>0.708652</td>\n",
       "    </tr>\n",
       "    <tr>\n",
       "      <th>...</th>\n",
       "      <td>...</td>\n",
       "      <td>...</td>\n",
       "      <td>...</td>\n",
       "      <td>...</td>\n",
       "    </tr>\n",
       "    <tr>\n",
       "      <th>395</th>\n",
       "      <td>e4</td>\n",
       "      <td>s95</td>\n",
       "      <td>dec</td>\n",
       "      <td>0.917158</td>\n",
       "    </tr>\n",
       "    <tr>\n",
       "      <th>396</th>\n",
       "      <td>e4</td>\n",
       "      <td>s96</td>\n",
       "      <td>base</td>\n",
       "      <td>0.830064</td>\n",
       "    </tr>\n",
       "    <tr>\n",
       "      <th>397</th>\n",
       "      <td>e4</td>\n",
       "      <td>s97</td>\n",
       "      <td>dec</td>\n",
       "      <td>0.586687</td>\n",
       "    </tr>\n",
       "    <tr>\n",
       "      <th>398</th>\n",
       "      <td>e4</td>\n",
       "      <td>s98</td>\n",
       "      <td>inc</td>\n",
       "      <td>0.852893</td>\n",
       "    </tr>\n",
       "    <tr>\n",
       "      <th>399</th>\n",
       "      <td>e4</td>\n",
       "      <td>s99</td>\n",
       "      <td>inc</td>\n",
       "      <td>0.795218</td>\n",
       "    </tr>\n",
       "  </tbody>\n",
       "</table>\n",
       "<p>400 rows × 4 columns</p>\n",
       "</div>"
      ],
      "text/plain": [
       "    enzyme sample value      prob\n",
       "0       e1     s1   inc  0.667479\n",
       "1       e1    s10   dec  0.869338\n",
       "2       e1   s100   inc  0.962838\n",
       "3       e1    s11  base  0.883589\n",
       "4       e1    s12   dec  0.708652\n",
       "..     ...    ...   ...       ...\n",
       "395     e4    s95   dec  0.917158\n",
       "396     e4    s96  base  0.830064\n",
       "397     e4    s97   dec  0.586687\n",
       "398     e4    s98   inc  0.852893\n",
       "399     e4    s99   inc  0.795218\n",
       "\n",
       "[400 rows x 4 columns]"
      ]
     },
     "execution_count": 16,
     "metadata": {},
     "output_type": "execute_result"
    }
   ],
   "source": [
    "# duplicate data['e_activity'] * n and replace e1 in the new df with en\n",
    "# use pd.concat\n",
    "n = 2\n",
    "new_act = data['e_activity'].copy()\n",
    "for i in range(1, n):\n",
    "    new_enz = data['e_activity'].loc[data['e_activity']['enzyme'] == f'e1'].copy()\n",
    "    new_enz['enzyme'] = new_enz['enzyme'].replace('e1', 'e' + str(i+3))\n",
    "    new_act = pd.concat([new_act, new_enz], ignore_index=True)\n",
    "new_act"
   ]
  },
  {
   "attachments": {},
   "cell_type": "markdown",
   "metadata": {},
   "source": [
    "Splitting data into training/testing"
   ]
  },
  {
   "cell_type": "code",
   "execution_count": 17,
   "metadata": {},
   "outputs": [
    {
     "name": "stdout",
     "output_type": "stream",
     "text": [
      "['s34', 's33', 's72', 's79', 's77', 's75', 's99', 's2', 's5', 's44', 's89', 's28', 's100', 's16', 's58', 's65', 's17', 's54', 's63', 's18', 's84', 's35', 's73', 's95', 's30', 's6', 's68', 's70', 's71', 's39', 's66', 's94', 's20', 's91', 's81', 's31', 's69', 's82', 's50', 's86', 's22', 's1', 's3', 's25', 's85', 's90', 's64', 's96', 's27', 's9', 's23', 's78', 's98', 's32', 's4', 's53', 's29', 's51', 's87', 's14']\n"
     ]
    }
   ],
   "source": [
    "# getting sample names (union of all samples in all datasets)\n",
    "samples = list(set(data['e_activity']['sample']).union(set(data['p_occupancy']['sample'])))\n",
    "samples.sort()\n",
    "# sample x% of samples randomly without replacement with seed\n",
    "random.seed(612)\n",
    "train = random.sample(samples, int(len(samples)*0.6))\n",
    "print(train)\n",
    "# train = ['s1', 's2', 's3']\n",
    "# filter data\n",
    "training_data = {}\n",
    "training_data['e_activity'] = new_act[new_act['sample'].isin(train)].reset_index(drop=True)\n",
    "training_data['p_occupancy'] = new_occ[new_occ['sample'].isin(train)].reset_index(drop=True)"
   ]
  },
  {
   "cell_type": "code",
   "execution_count": 18,
   "metadata": {},
   "outputs": [],
   "source": [
    "# Mapping data to Problog predicates\n",
    "predicates = {}\n",
    "predicates['e_ksea'] = schema.EKseaPredicate()\n",
    "predicates['e_ksea'].add_data(training_data['e_activity'], 'enzyme', 'sample', 'value')\n",
    "predicates['p_fc'] = schema.PFoldChangePredicate()\n",
    "predicates['p_fc'].add_data(training_data['p_occupancy'], 'phosphosite', 'sample', 'value')"
   ]
  },
  {
   "cell_type": "code",
   "execution_count": 19,
   "metadata": {},
   "outputs": [],
   "source": [
    "samples = list(set(training_data['e_activity']['sample']).union(set(training_data['p_occupancy']['sample'])))\n",
    "phosphosites = list(set(training_data['p_occupancy']['phosphosite']))\n",
    "evidence_dict = {}\n",
    "for s in samples:\n",
    "    evidence_dict[s] = {}\n",
    "    evidence = []\n",
    "    evid_generator = build.ProblogStatementGenerator(predicates['e_ksea'])\n",
    "    evidence = evidence + evid_generator.generate_facts(build.EvidenceTemplate, select=[s])\n",
    "    for p in phosphosites:\n",
    "        evid_generator = build.ProblogStatementGenerator(predicates['p_fc'])\n",
    "        evidence_p = evidence + evid_generator.generate_facts(build.EvidenceTemplate, select=[s, p])\n",
    "        evidence_dict[s][p] = evidence_p"
   ]
  },
  {
   "cell_type": "code",
   "execution_count": 20,
   "metadata": {},
   "outputs": [],
   "source": [
    "# write evidence_dict to text file: loop over samples and separate by line of hyphens\n",
    "with open('models/synthetic_data/toy_network_mini/p_model/evidence_o5.pl', 'w') as f:\n",
    "    for s in evidence_dict:\n",
    "        for p in evidence_dict[s]:\n",
    "            for e in evidence_dict[s][p]:\n",
    "                f.write(e + '\\n')\n",
    "            f.write('--------------------' + '\\n')"
   ]
  },
  {
   "attachments": {},
   "cell_type": "markdown",
   "metadata": {},
   "source": [
    "LFI"
   ]
  },
  {
   "cell_type": "code",
   "execution_count": null,
   "metadata": {},
   "outputs": [],
   "source": [
    "DIR = 'models/synthetic_data/toy_network_mini/p_model/'\n",
    "max_iter = 3\n",
    "# learning from interpretation\n",
    "cmd = f'problog lfi {DIR}p_model_lfi_o5.pl {DIR}evidence_o5.pl -O {DIR}p_model_o5.pl -k ddnnf -v -n {max_iter}'\n",
    "os.system(cmd)"
   ]
  },
  {
   "cell_type": "markdown",
   "metadata": {},
   "source": [
    "Grounding"
   ]
  },
  {
   "cell_type": "code",
   "execution_count": 42,
   "metadata": {},
   "outputs": [
    {
     "name": "stderr",
     "output_type": "stream",
     "text": [
      "(True, 't(0.33,e1,s33)::e_activity(e1,s33,base); t(0.33,e1,s33)::e_activity(e1,s33,dec); t(0.33,e1,s33)::e_activity(e1,s33,inc).\\n0.189::e_ksea(e1,s33,dec) :- e_activity(e1,s33,base).\\n0.6221::e_ksea(e1,s33,dec) :- e_activity(e1,s33,dec).\\n0.001::e_ksea(e1,s33,dec) :- e_activity(e1,s33,inc).\\nt(0.33,e2,s33)::e_activity(e2,s33,base); t(0.33,e2,s33)::e_activity(e2,s33,dec); t(0.33,e2,s33)::e_activity(e2,s33,inc).\\n0.6221::e_ksea(e2,s33,base) :- e_activity(e2,s33,base).\\n0.3769::e_ksea(e2,s33,base) :- e_activity(e2,s33,dec).\\n0.3769::e_ksea(e2,s33,base) :- e_activity(e2,s33,inc).\\nt(0.33,e3,s33)::e_activity(e3,s33,base); t(0.33,e3,s33)::e_activity(e3,s33,dec); t(0.33,e3,s33)::e_activity(e3,s33,inc).\\n0.6221::e_ksea(e3,s33,base) :- e_activity(e3,s33,base).\\n0.3769::e_ksea(e3,s33,base) :- e_activity(e3,s33,dec).\\n0.3769::e_ksea(e3,s33,base) :- e_activity(e3,s33,inc).\\nt(0.33,e4,s33)::e_activity(e4,s33,base); t(0.33,e4,s33)::e_activity(e4,s33,dec); t(0.33,e4,s33)::e_activity(e4,s33,inc).\\n0.189::e_ksea(e4,s33,dec) :- e_activity(e4,s33,base).\\n0.6221::e_ksea(e4,s33,dec) :- e_activity(e4,s33,dec).\\n0.001::e_ksea(e4,s33,dec) :- e_activity(e4,s33,inc).\\nt(0.7,e1,p0)::occ_dec(p0,s33) :- e_activity(e1,s33,dec).\\nt(0.7,e2,p0)::occ_dec(p0,s33) :- e_activity(e2,s33,dec).\\nt(0.7,e4,p0)::occ_dec(p0,s33) :- e_activity(e4,s33,dec).\\nt(0.7,e3,p0)::occ_dec(p0,s33) :- e_activity(e3,s33,inc).\\nt(0.7,e1,p0)::occ_base(p0,s33) :- e_activity(e1,s33,base).\\nt(0.7,e2,p0)::occ_base(p0,s33) :- e_activity(e2,s33,base).\\nt(0.7,e4,p0)::occ_base(p0,s33) :- e_activity(e4,s33,base).\\nt(0.7,e3,p0)::occ_base(p0,s33) :- e_activity(e3,s33,base).\\nt(0.7,e1,p0)::occ_inc(p0,s33) :- e_activity(e1,s33,inc).\\nt(0.7,e2,p0)::occ_inc(p0,s33) :- e_activity(e2,s33,inc).\\nt(0.7,e4,p0)::occ_inc(p0,s33) :- e_activity(e4,s33,inc).\\nt(0.7,e3,p0)::occ_inc(p0,s33) :- e_activity(e3,s33,dec).\\nt(0.0)::p_occupancy(p0,s33,base); t(1.0)::p_occupancy(p0,s33,dec); t(0.0)::p_occupancy(p0,s33,inc) :- occ_dec(p0,s33), occ_base(p0,s33), \\\\+occ_inc(p0,s33).\\nt(0.0)::p_occupancy(p0,s33,base); t(0.0)::p_occupancy(p0,s33,dec); t(1.0)::p_occupancy(p0,s33,inc) :- \\\\+occ_dec(p0,s33), occ_base(p0,s33), occ_inc(p0,s33).\\nt(0.5)::p_occupancy(p0,s33,base); t(0.25)::p_occupancy(p0,s33,dec); t(0.25)::p_occupancy(p0,s33,inc) :- occ_dec(p0,s33), occ_base(p0,s33), occ_inc(p0,s33).\\nt(1.0)::p_occupancy(p0,s33,base); t(0.0)::p_occupancy(p0,s33,dec); t(0.0)::p_occupancy(p0,s33,inc) :- \\\\+occ_dec(p0,s33), occ_base(p0,s33), \\\\+occ_inc(p0,s33).\\nt(0.0)::p_occupancy(p0,s33,base); t(1.0)::p_occupancy(p0,s33,dec); t(0.0)::p_occupancy(p0,s33,inc) :- occ_dec(p0,s33), \\\\+occ_base(p0,s33), \\\\+occ_inc(p0,s33).\\nt(0.0)::p_occupancy(p0,s33,base); t(0.0)::p_occupancy(p0,s33,dec); t(1.0)::p_occupancy(p0,s33,inc) :- \\\\+occ_dec(p0,s33), \\\\+occ_base(p0,s33), occ_inc(p0,s33).\\nt(0.5)::p_occupancy(p0,s33,base); t(0.25)::p_occupancy(p0,s33,dec); t(0.25)::p_occupancy(p0,s33,inc) :- occ_dec(p0,s33), \\\\+occ_base(p0,s33), occ_inc(p0,s33).\\nt(1.0)::p_occupancy(p0,s33,base); t(0.0)::p_occupancy(p0,s33,dec); t(0.0)::p_occupancy(p0,s33,inc) :- \\\\+occ_dec(p0,s33), \\\\+occ_base(p0,s33), \\\\+occ_inc(p0,s33).\\n0.2191::p_fc(p0,s33,dec) :- p_occupancy(p0,s33,base).\\n0.5618::p_fc(p0,s33,dec) :- p_occupancy(p0,s33,dec).\\n0.001::p_fc(p0,s33,dec) :- p_occupancy(p0,s33,inc).\\nevidence(e_ksea(e1,s33,dec)).\\nevidence(e_ksea(e2,s33,base)).\\nevidence(e_ksea(e3,s33,base)).\\nevidence(e_ksea(e4,s33,dec)).\\nevidence(p_fc(p0,s33,dec)).')\n"
     ]
    },
    {
     "data": {
      "text/plain": [
       "256"
      ]
     },
     "execution_count": 42,
     "metadata": {},
     "output_type": "execute_result"
    }
   ],
   "source": [
    "DIR = 'models/synthetic_data/toy_network_mini/p_model/'\n",
    "# learning from interpretation\n",
    "cmd = f'problog ground {DIR}p_model_lfi_o5.pl -o {DIR}p_model_o5_ground.pl --format pl'\n",
    "os.system(cmd)"
   ]
  },
  {
   "cell_type": "markdown",
   "metadata": {},
   "source": [
    "Analysis"
   ]
  },
  {
   "cell_type": "code",
   "execution_count": 18,
   "metadata": {},
   "outputs": [],
   "source": [
    "# n_enz = 3 and samples = 60 and n_facts = 32, n_pfacts_e = 36, n_params = 54\n",
    "n_pst = np.array([1, 2, 10, 20])\n",
    "t_compile_3e = np.array([4.365966, 8.492228, 38.934952, 88.935894])\n",
    "t_total_3e = np.array([39.1, 73.3, 373.4, 750.7])"
   ]
  },
  {
   "cell_type": "code",
   "execution_count": 19,
   "metadata": {},
   "outputs": [],
   "source": [
    "# n_enz = 4 and samples = 60 and n_pfacts = 39, n_pfacts_e = 44, n_params = 63\n",
    "t_compile_4e = np.array([5.090752, 9.722220, 50.372830, 98.166294])\n",
    "t_total_4e = np.array([96.4, 200.2, 949.2, 1947.9])"
   ]
  },
  {
   "cell_type": "markdown",
   "metadata": {},
   "source": [
    "Plot E"
   ]
  },
  {
   "cell_type": "code",
   "execution_count": 20,
   "metadata": {},
   "outputs": [],
   "source": [
    "x_features_e = {'3 Enzymes': n_pst, '4 Enzymes': n_pst}\n",
    "y_time_e = {'3 Enzymes': t_total_3e, '4 Enzymes': t_total_4e}\n",
    "# viz.plot_multiple_time_lin(x_features, y_time, 'Number of phosphosites', 'Total time [s]', 10000, title=None)"
   ]
  },
  {
   "cell_type": "code",
   "execution_count": 27,
   "metadata": {},
   "outputs": [
    {
     "name": "stdout",
     "output_type": "stream",
     "text": [
      "Predicted y-value for x = 10000: 375190.78453355696s = 6253.17974222595min = 104.21966237043249h\n",
      "Predicted y-value for x = 10000: 970943.6886164891s = 16182.394810274818min = 269.70658017124697h\n"
     ]
    },
    {
     "data": {
      "image/png": "[encoded data removed]",
      "text/plain": [
       "<Figure size 800x500 with 1 Axes>"
      ]
     },
     "metadata": {},
     "output_type": "display_data"
    }
   ],
   "source": [
    "def plot_multiple_time_lin_e(x_dict, y_data_dict, x_label, y_label, x_predict, title = 'Linear Fit'):\n",
    "    \n",
    "    # Define the linear function you want to fit\n",
    "    def linear_func(x, a, b):\n",
    "        return a * x + b\n",
    "\n",
    "    sns.set_style('whitegrid')\n",
    "    plt.figure(figsize=(8, 5), dpi=100)  # Create a larger figure for better visualization\n",
    "    \n",
    "    custom_labels = []\n",
    "    custom_handles = []\n",
    "    \n",
    "    for i, (key, x_data) in enumerate(x_dict.items()):\n",
    "\n",
    "        # Define color based on key\n",
    "        if \"4\" in key:\n",
    "            linestyle = '-'\n",
    "            alpha = 1\n",
    "            marker='o'\n",
    "        elif \"3\" in key:\n",
    "            linestyle = '--'\n",
    "            alpha = 0.5\n",
    "            marker='v'\n",
    "\n",
    "        y_data = y_data_dict[key]\n",
    "        # Fit the linear function to the data\n",
    "        params, covariance = curve_fit(linear_func, x_data, y_data)\n",
    "\n",
    "        # Parameters of the fitted linear function\n",
    "        a_fit, b_fit = params\n",
    "\n",
    "        # Predict y-value\n",
    "        y_predict = linear_func(x_predict, a_fit, b_fit)\n",
    "\n",
    "        # Calculate R^2\n",
    "        residuals = y_data - linear_func(x_data, a_fit, b_fit)\n",
    "        ss_res = np.sum(residuals**2)\n",
    "        ss_tot = np.sum((y_data - np.mean(y_data))**2)\n",
    "        r_squared = 1 - (ss_res / ss_tot)\n",
    "\n",
    "        # Plot the original data\n",
    "        plt.scatter(x_data, y_data, label=f'{key}', color='darkblue', alpha=alpha, marker=marker)\n",
    "        x_range = np.linspace(min(x_data), max(x_data), 100)\n",
    "        line, = plt.plot(x_range, linear_func(x_range, a_fit, b_fit), color='darkblue', linestyle=linestyle, linewidth=1.5)  # Get line for color\n",
    "\n",
    "        # Collect custom labels and handles\n",
    "        custom_labels.append(f'R^2={r_squared:.4f}')\n",
    "        custom_handles.append(line)\n",
    "\n",
    "        print(f'Predicted y-value for x = {x_predict}: {y_predict}s = {y_predict/60}min = {y_predict/3600}h')\n",
    "\n",
    "    plt.xlabel(x_label, fontsize = 14)\n",
    "    plt.ylabel(y_label, fontsize = 14)\n",
    "    plt.tick_params(axis='both', which='major', labelsize=12)\n",
    "\n",
    "    # Create the first legend for the line labels\n",
    "    legend1 = plt.legend(loc='upper left', bbox_to_anchor=(0, 1), fontsize=12)\n",
    "    # Add the first legend manually to the current Axes\n",
    "    # plt.gca().add_artist(legend1)\n",
    "    # Create the second legend for the custom labels\n",
    "    # plt.legend(custom_handles, custom_labels, loc='upper left', bbox_to_anchor=(0, 0.84), fontsize=12)\n",
    "\n",
    "    plt.grid(True, linestyle='--', linewidth=0.5)\n",
    "\n",
    "    plt.xticks(np.arange(0, max(x_data) + 1, 2.0))\n",
    "\n",
    "    plt.show()\n",
    "\n",
    "plot_multiple_time_lin_e(x_features_e, y_time_e, 'Number of phosphosites (total)', 'Total time [s]', 10000, title=None)"
   ]
  }
 ],
 "metadata": {
  "kernelspec": {
   "display_name": "phospho_pi",
   "language": "python",
   "name": "python3"
  },
  "language_info": {
   "codemirror_mode": {
    "name": "ipython",
    "version": 3
   },
   "file_extension": ".py",
   "mimetype": "text/x-python",
   "name": "python",
   "nbconvert_exporter": "python",
   "pygments_lexer": "ipython3",
   "version": "3.10.13"
  },
  "orig_nbformat": 4
 },
 "nbformat": 4,
 "nbformat_minor": 2
}
