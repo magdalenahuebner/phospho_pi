{
 "cells": [
  {
   "attachments": {},
   "cell_type": "markdown",
   "metadata": {},
   "source": [
    "#### Prerequesites:\n",
    "* Define schema (make figure) \n",
    "* Define structure (make figure)\n",
    "* Define schema class in python (src/models/model_schemata.py)\n",
    "* Convert schema + structure into model template (models/templates/p_model.pl)\n",
    "\n",
    "#### Procedure:\n",
    "* Load data\n",
    "* Adjust model script for lfi accordingly\n",
    "* Create evidence file (if I don't need different evidence files, move to builmodel notebook)\n",
    "* LFI"
   ]
  },
  {
   "attachments": {},
   "cell_type": "markdown",
   "metadata": {},
   "source": [
    "1 single instance, 1 pst, 3 enzymes, all samples in one instance, test how many samples can be in one instance, how computing time depends on N p::f"
   ]
  },
  {
   "cell_type": "code",
   "execution_count": 11,
   "metadata": {},
   "outputs": [
    {
     "name": "stdout",
     "output_type": "stream",
     "text": [
      "The autoreload extension is already loaded. To reload it, use:\n",
      "  %reload_ext autoreload\n"
     ]
    }
   ],
   "source": [
    "%load_ext autoreload\n",
    "%autoreload 2"
   ]
  },
  {
   "cell_type": "code",
   "execution_count": 12,
   "metadata": {},
   "outputs": [],
   "source": [
    "# Importing libraries\n",
    "import pandas as pd\n",
    "import numpy as np\n",
    "import os\n",
    "import random\n",
    "\n",
    "from src.models import model_schemata as schema\n",
    "from src.models import build_model as build\n",
    "from src.visualization import visualize as viz"
   ]
  },
  {
   "cell_type": "code",
   "execution_count": 13,
   "metadata": {},
   "outputs": [],
   "source": [
    "# os.chdir('/Users/magdalena/OneDrive - Queen Mary, University of London/bezzlab/research/projects/phospho_pi/')\n",
    "os.chdir('/home/mhuebner/Desktop/bezzlab/research/projects/phospho_pi/')"
   ]
  },
  {
   "attachments": {},
   "cell_type": "markdown",
   "metadata": {},
   "source": [
    "#### Training/Testing"
   ]
  },
  {
   "cell_type": "code",
   "execution_count": 14,
   "metadata": {},
   "outputs": [
    {
     "data": {
      "text/html": [
       "<div>\n",
       "<style scoped>\n",
       "    .dataframe tbody tr th:only-of-type {\n",
       "        vertical-align: middle;\n",
       "    }\n",
       "\n",
       "    .dataframe tbody tr th {\n",
       "        vertical-align: top;\n",
       "    }\n",
       "\n",
       "    .dataframe thead th {\n",
       "        text-align: right;\n",
       "    }\n",
       "</style>\n",
       "<table border=\"1\" class=\"dataframe\">\n",
       "  <thead>\n",
       "    <tr style=\"text-align: right;\">\n",
       "      <th></th>\n",
       "      <th>enzyme</th>\n",
       "      <th>sample</th>\n",
       "      <th>value</th>\n",
       "      <th>prob</th>\n",
       "    </tr>\n",
       "  </thead>\n",
       "  <tbody>\n",
       "    <tr>\n",
       "      <th>0</th>\n",
       "      <td>e1</td>\n",
       "      <td>s1</td>\n",
       "      <td>inc</td>\n",
       "      <td>0.774553</td>\n",
       "    </tr>\n",
       "    <tr>\n",
       "      <th>1</th>\n",
       "      <td>e1</td>\n",
       "      <td>s10</td>\n",
       "      <td>dec</td>\n",
       "      <td>0.617971</td>\n",
       "    </tr>\n",
       "    <tr>\n",
       "      <th>2</th>\n",
       "      <td>e1</td>\n",
       "      <td>s100</td>\n",
       "      <td>inc</td>\n",
       "      <td>0.796040</td>\n",
       "    </tr>\n",
       "    <tr>\n",
       "      <th>3</th>\n",
       "      <td>e1</td>\n",
       "      <td>s11</td>\n",
       "      <td>base</td>\n",
       "      <td>0.650127</td>\n",
       "    </tr>\n",
       "    <tr>\n",
       "      <th>4</th>\n",
       "      <td>e1</td>\n",
       "      <td>s12</td>\n",
       "      <td>dec</td>\n",
       "      <td>0.748834</td>\n",
       "    </tr>\n",
       "    <tr>\n",
       "      <th>...</th>\n",
       "      <td>...</td>\n",
       "      <td>...</td>\n",
       "      <td>...</td>\n",
       "      <td>...</td>\n",
       "    </tr>\n",
       "    <tr>\n",
       "      <th>295</th>\n",
       "      <td>e3</td>\n",
       "      <td>s95</td>\n",
       "      <td>inc</td>\n",
       "      <td>0.644811</td>\n",
       "    </tr>\n",
       "    <tr>\n",
       "      <th>296</th>\n",
       "      <td>e3</td>\n",
       "      <td>s96</td>\n",
       "      <td>inc</td>\n",
       "      <td>0.550137</td>\n",
       "    </tr>\n",
       "    <tr>\n",
       "      <th>297</th>\n",
       "      <td>e3</td>\n",
       "      <td>s97</td>\n",
       "      <td>inc</td>\n",
       "      <td>0.812202</td>\n",
       "    </tr>\n",
       "    <tr>\n",
       "      <th>298</th>\n",
       "      <td>e3</td>\n",
       "      <td>s98</td>\n",
       "      <td>dec</td>\n",
       "      <td>0.783041</td>\n",
       "    </tr>\n",
       "    <tr>\n",
       "      <th>299</th>\n",
       "      <td>e3</td>\n",
       "      <td>s99</td>\n",
       "      <td>inc</td>\n",
       "      <td>0.769849</td>\n",
       "    </tr>\n",
       "  </tbody>\n",
       "</table>\n",
       "<p>300 rows × 4 columns</p>\n",
       "</div>"
      ],
      "text/plain": [
       "    enzyme sample value      prob\n",
       "0       e1     s1   inc  0.774553\n",
       "1       e1    s10   dec  0.617971\n",
       "2       e1   s100   inc  0.796040\n",
       "3       e1    s11  base  0.650127\n",
       "4       e1    s12   dec  0.748834\n",
       "..     ...    ...   ...       ...\n",
       "295     e3    s95   inc  0.644811\n",
       "296     e3    s96   inc  0.550137\n",
       "297     e3    s97   inc  0.812202\n",
       "298     e3    s98   dec  0.783041\n",
       "299     e3    s99   inc  0.769849\n",
       "\n",
       "[300 rows x 4 columns]"
      ]
     },
     "execution_count": 14,
     "metadata": {},
     "output_type": "execute_result"
    }
   ],
   "source": [
    "# reading csv from files into dict\n",
    "data = {}\n",
    "data['e_activity'] = pd.read_csv('data/processed/synthetic_data/toy_network_mini/p_model/e_activity.csv')\n",
    "data['p_occupancy'] = pd.read_csv('data/processed/synthetic_data/toy_network_mini/p_model/p_occupancy.csv')\n",
    "data['e_activity']"
   ]
  },
  {
   "cell_type": "code",
   "execution_count": 15,
   "metadata": {},
   "outputs": [],
   "source": [
    "data['p_occupancy']['prob'] = np.where(data['p_occupancy']['value'] == 'base', 1 - data['p_occupancy']['prob'], data['p_occupancy']['prob'])\n",
    "data['p_occupancy']['value'] = np.where(data['p_occupancy']['value'] == 'base', np.random.choice(['inc', 'dec'], size=len(data['p_occupancy']['value']), p=[0.5, 0.5]), data['p_occupancy']['value'])\n",
    "data['e_activity']['prob'] = np.where(data['e_activity']['value'] == 'base', 1 - data['e_activity']['prob'], data['e_activity']['prob'])\n",
    "data['e_activity']['value'] = np.where(data['e_activity']['value'] == 'base', np.random.choice(['inc', 'dec'], size=len(data['e_activity']['value']), p=[0.5, 0.5]), data['e_activity']['value'])"
   ]
  },
  {
   "attachments": {},
   "cell_type": "markdown",
   "metadata": {},
   "source": [
    "Splitting data into training/testing"
   ]
  },
  {
   "cell_type": "code",
   "execution_count": 31,
   "metadata": {},
   "outputs": [
    {
     "data": {
      "text/plain": [
       "['s40', 's23', 's22', 's99', 's7', 's61', 's62', 's63', 's10', 's2']"
      ]
     },
     "execution_count": 31,
     "metadata": {},
     "output_type": "execute_result"
    }
   ],
   "source": [
    "# getting sample names (union of all samples in all datasets)\n",
    "samples = list(set(data['e_activity']['sample']).union(set(data['p_occupancy']['sample'])))\n",
    "samples.sort()\n",
    "# sample x% of samples randomly without replacement with seed\n",
    "random.seed(613)\n",
    "train = random.sample(samples, int(len(samples)*0.1))\n",
    "# train = ['s40', 's23', 's22', 's99', 's7', 's61', 's62', 's63']\n",
    "# filter data\n",
    "training_data = {}\n",
    "training_data['e_activity'] = data['e_activity'][data['e_activity']['sample'].isin(train)].reset_index(drop=True)\n",
    "training_data['p_occupancy'] = data['p_occupancy'][data['p_occupancy']['sample'].isin(train)].reset_index(drop=True)\n",
    "train"
   ]
  },
  {
   "cell_type": "code",
   "execution_count": 32,
   "metadata": {},
   "outputs": [],
   "source": [
    "# Mapping data to Problog predicates\n",
    "predicates = {}\n",
    "predicates['e_ksea'] = schema.EKseaPredicate()\n",
    "predicates['e_ksea'].add_data(training_data['e_activity'], 'enzyme', 'sample', 'value')\n",
    "predicates['p_fc'] = schema.PFoldChangePredicate()\n",
    "predicates['p_fc'].add_data(training_data['p_occupancy'], 'phosphosite', 'sample', 'value')"
   ]
  },
  {
   "cell_type": "code",
   "execution_count": 33,
   "metadata": {},
   "outputs": [
    {
     "data": {
      "text/plain": [
       "['evidence(e_ksea(e1, s10, dec)).',\n",
       " 'evidence(e_ksea(e1, s2, inc)).',\n",
       " 'evidence(e_ksea(e1, s22, dec)).',\n",
       " 'evidence(e_ksea(e1, s23, inc)).',\n",
       " 'evidence(e_ksea(e1, s40, dec)).',\n",
       " 'evidence(e_ksea(e1, s61, inc)).',\n",
       " 'evidence(e_ksea(e1, s62, dec)).',\n",
       " 'evidence(e_ksea(e1, s63, inc)).',\n",
       " 'evidence(e_ksea(e1, s7, dec)).',\n",
       " 'evidence(e_ksea(e1, s99, inc)).']"
      ]
     },
     "execution_count": 33,
     "metadata": {},
     "output_type": "execute_result"
    }
   ],
   "source": [
    "evidence = []\n",
    "for predicate in predicates:\n",
    "    evid_generator = build.ProblogStatementGenerator(predicates[predicate])\n",
    "    evidence = evidence + evid_generator.generate_facts(build.EvidenceTemplate)\n",
    "evidence[:10]"
   ]
  },
  {
   "cell_type": "code",
   "execution_count": 34,
   "metadata": {},
   "outputs": [],
   "source": [
    "# write evidence to text file\n",
    "with open('models/synthetic_data/toy_network_mini/p_model/evidence_o1b.pl', 'w') as f:\n",
    "    for item in evidence:\n",
    "        f.write(\"%s\\n\" % item)"
   ]
  },
  {
   "attachments": {},
   "cell_type": "markdown",
   "metadata": {},
   "source": [
    "LFI"
   ]
  },
  {
   "cell_type": "code",
   "execution_count": 35,
   "metadata": {},
   "outputs": [
    {
     "name": "stdout",
     "output_type": "stream",
     "text": [
      "[INFO] Output level: INFO\n",
      "[INFO] Number of examples: 1\n",
      "[INFO] Compile time: 0.546465\n",
      "[INFO] Weights to learn: [t(_,E,S)::e_ksea(E,S,dec), t(_,E,S)::e_ksea(E,S,inc), t(_,P,S)::p_fc(P,S,dec), t(_,P,S)::p_fc(P,S,inc), t(0.33,E,S)::e_activity(E,S,dec), t(0.33,E,S)::e_activity(E,S,inc), t(0.7,E,P)::occ_dec(P,S), t(0.7,E,P)::occ_dec(P,S), t(0.7,E,P)::occ_inc(P,S), t(0.7,E,P)::occ_inc(P,S), t(1.0)::p_occupancy(P,S,dec), t(0.0)::p_occupancy(P,S,inc), t(0.0)::p_occupancy(P,S,dec), t(1.0)::p_occupancy(P,S,inc), t(0.5)::p_occupancy(P,S,dec), t(0.5)::p_occupancy(P,S,inc), t(0.0)::p_occupancy(P,S,dec), t(0.0)::p_occupancy(P,S,inc)]\n",
      "[INFO] Bodies: [lfi_body(0,t(E,S),E,S,dec), lfi_body(1,t(E,S),E,S,inc), lfi_body(2,t(P,S),P,S,dec), lfi_body(3,t(P,S),P,S,inc), lfi_body(4,t(E,S),E,S,dec), lfi_body(5,t(E,S),E,S,inc), lfi_body(6,t(E,P),P,S), lfi_body(7,t(E,P),P,S), lfi_body(8,t(E,P),P,S), lfi_body(9,t(E,P),P,S), lfi_body(10,t,P,S,dec), lfi_body(11,t,P,S,inc), lfi_body(12,t,P,S,dec), lfi_body(13,t,P,S,inc), lfi_body(14,t,P,S,dec), lfi_body(15,t,P,S,inc), lfi_body(16,t,P,S,dec), lfi_body(17,t,P,S,inc)]\n",
      "[INFO] Parents: [lfi_par(0,t(E,S),E,S,dec), lfi_par(1,t(E,S),E,S,inc), lfi_par(2,t(P,S),P,S,dec), lfi_par(3,t(P,S),P,S,inc), lfi_par(4,t(E,S),E,S,dec), lfi_par(5,t(E,S),E,S,inc), lfi_par(6,t(E,P),P,S), lfi_par(7,t(E,P),P,S), lfi_par(8,t(E,P),P,S), lfi_par(9,t(E,P),P,S), lfi_par(10,t,P,S,dec), lfi_par(11,t,P,S,inc), lfi_par(12,t,P,S,dec), lfi_par(13,t,P,S,inc), lfi_par(14,t,P,S,dec), lfi_par(15,t,P,S,inc), lfi_par(16,t,P,S,dec), lfi_par(17,t,P,S,inc)]\n",
      "[INFO] Initial weights: [0.5674313743756525, 0.08086162735083413, 0.38592037677563423, 0.1881968861770375, 0.33, 0.33, 0.7, 0.7, 0.7, 0.7, 1.0, 0.0, 0.0, 1.0, 0.5, 0.5, 0.0, 0.0]\n",
      "[INFO] \n",
      "[INFO] Iteration 1\n",
      "[WARNING] Ignoring example 1/1\n",
      "[INFO] Weights after iteration 1: [{t: 0.8752699363783207}, {t: 0.12473006362167931}, {t: 0.6721978273059666}, {t: 0.32780217269403344}, {t: 0.5}, {t: 0.5}, 0.7, 0.7, 0.7, 0.7, {t: 1.0}, {t: 0.0}, {t: 0.0}, {t: 1.0}, {t: 0.5}, {t: 0.5}, {t: 0.0}, {t: 0.0}]\n",
      "[INFO] Score after iteration 1: 0.0\n",
      "[INFO] \n",
      "[INFO] Iteration 2\n",
      "[ERROR] \n",
      "[ERROR] Error encountered:\t\n",
      "[ERROR] Traceback (most recent call last):\n",
      "[ERROR]   File \"/home/mhuebner/anaconda3/envs/phospho_pi/lib/python3.11/site-packages/problog/learning/lfi.py\", line 1544, in main\n",
      "[ERROR]     results = run_lfi(program, examples, knowledge=knowledge, **options)\n",
      "[ERROR]               ^^^^^^^^^^^^^^^^^^^^^^^^^^^^^^^^^^^^^^^^^^^^^^^^^^^^^^^^^^\n",
      "[ERROR]   File \"/home/mhuebner/anaconda3/envs/phospho_pi/lib/python3.11/site-packages/problog/learning/lfi.py\", line 1371, in run_lfi\n",
      "[ERROR]     score = lfi.run()\n",
      "[ERROR]             ^^^^^^^^^\n",
      "[ERROR]   File \"/home/mhuebner/anaconda3/envs/phospho_pi/lib/python3.11/site-packages/problog/learning/lfi.py\", line 984, in run\n",
      "[ERROR]     score = self.step()\n",
      "[ERROR]             ^^^^^^^^^^^\n",
      "[ERROR]   File \"/home/mhuebner/anaconda3/envs/phospho_pi/lib/python3.11/site-packages/problog/learning/lfi.py\", line 951, in step\n",
      "[ERROR]     results = self._evaluate_examples()\n",
      "[ERROR]               ^^^^^^^^^^^^^^^^^^^^^^^^^\n",
      "[ERROR]   File \"/home/mhuebner/anaconda3/envs/phospho_pi/lib/python3.11/site-packages/problog/learning/lfi.py\", line 823, in _evaluate_examples\n",
      "[ERROR]     result = evaluator(example)\n",
      "[ERROR]              ^^^^^^^^^^^^^^^^^^\n",
      "[ERROR]   File \"/home/mhuebner/anaconda3/envs/phospho_pi/lib/python3.11/site-packages/problog/learning/lfi.py\", line 1190, in __call__\n",
      "[ERROR]     self._call_internal(\n",
      "[ERROR]   File \"/home/mhuebner/anaconda3/envs/phospho_pi/lib/python3.11/site-packages/problog/learning/lfi.py\", line 1216, in _call_internal\n",
      "[ERROR]     evaluator = comp.get_evaluator(semiring=self, evidence=evidence)\n",
      "[ERROR]                 ^^^^^^^^^^^^^^^^^^^^^^^^^^^^^^^^^^^^^^^^^^^^^^^^^^^^\n",
      "[ERROR]   File \"/home/mhuebner/anaconda3/envs/phospho_pi/lib/python3.11/site-packages/problog/evaluator.py\", line 408, in get_evaluator\n",
      "[ERROR]     evaluator.propagate()\n",
      "[ERROR]   File \"/home/mhuebner/anaconda3/envs/phospho_pi/lib/python3.11/site-packages/problog/ddnnf_formula.py\", line 84, in propagate\n",
      "[ERROR]     self._initialize()\n",
      "[ERROR]   File \"/home/mhuebner/anaconda3/envs/phospho_pi/lib/python3.11/site-packages/problog/ddnnf_formula.py\", line 73, in _initialize\n",
      "[ERROR]     model_weights = self.formula.extract_weights(self.semiring, self.given_weights)\n",
      "[ERROR]                     ^^^^^^^^^^^^^^^^^^^^^^^^^^^^^^^^^^^^^^^^^^^^^^^^^^^^^^^^^^^^^^^\n",
      "[ERROR]   File \"/home/mhuebner/anaconda3/envs/phospho_pi/lib/python3.11/site-packages/problog/formula.py\", line 189, in extract_weights\n",
      "[ERROR]     semiring.pos_value(w, name),\n",
      "[ERROR]     ^^^^^^^^^^^^^^^^^^^^^^^^^^^\n",
      "[ERROR]   File \"/home/mhuebner/anaconda3/envs/phospho_pi/lib/python3.11/site-packages/problog/evaluator.py\", line 107, in pos_value\n",
      "[ERROR]     return self.value(a)\n",
      "[ERROR]            ^^^^^^^^^^^^^\n",
      "[ERROR]   File \"/home/mhuebner/anaconda3/envs/phospho_pi/lib/python3.11/site-packages/problog/learning/lfi.py\", line 1183, in value\n",
      "[ERROR]     return self._get_weight(*a.args)\n",
      "[ERROR]            ^^^^^^^^^^^^^^^^^^^^^^^^^\n",
      "[ERROR]   File \"/home/mhuebner/anaconda3/envs/phospho_pi/lib/python3.11/site-packages/problog/learning/lfi.py\", line 1159, in _get_weight\n",
      "[ERROR]     return weight[args]\n",
      "[ERROR]            ~~~~~~^^^^^^\n",
      "[ERROR] KeyError: t(e1,s2)\n",
      "[ERROR] \n",
      "An unexpected error has occurred.\n"
     ]
    },
    {
     "name": "stderr",
     "output_type": "stream",
     "text": [
      "Traceback (most recent call last):\n",
      "  File \"/home/mhuebner/anaconda3/envs/phospho_pi/lib/python3.11/site-packages/problog/learning/lfi.py\", line 1544, in main\n",
      "    results = run_lfi(program, examples, knowledge=knowledge, **options)\n",
      "              ^^^^^^^^^^^^^^^^^^^^^^^^^^^^^^^^^^^^^^^^^^^^^^^^^^^^^^^^^^\n",
      "  File \"/home/mhuebner/anaconda3/envs/phospho_pi/lib/python3.11/site-packages/problog/learning/lfi.py\", line 1371, in run_lfi\n",
      "    score = lfi.run()\n",
      "            ^^^^^^^^^\n",
      "  File \"/home/mhuebner/anaconda3/envs/phospho_pi/lib/python3.11/site-packages/problog/learning/lfi.py\", line 984, in run\n",
      "    score = self.step()\n",
      "            ^^^^^^^^^^^\n",
      "  File \"/home/mhuebner/anaconda3/envs/phospho_pi/lib/python3.11/site-packages/problog/learning/lfi.py\", line 951, in step\n",
      "    results = self._evaluate_examples()\n",
      "              ^^^^^^^^^^^^^^^^^^^^^^^^^\n",
      "  File \"/home/mhuebner/anaconda3/envs/phospho_pi/lib/python3.11/site-packages/problog/learning/lfi.py\", line 823, in _evaluate_examples\n",
      "    result = evaluator(example)\n",
      "             ^^^^^^^^^^^^^^^^^^\n",
      "  File \"/home/mhuebner/anaconda3/envs/phospho_pi/lib/python3.11/site-packages/problog/learning/lfi.py\", line 1190, in __call__\n",
      "    self._call_internal(\n",
      "  File \"/home/mhuebner/anaconda3/envs/phospho_pi/lib/python3.11/site-packages/problog/learning/lfi.py\", line 1216, in _call_internal\n",
      "    evaluator = comp.get_evaluator(semiring=self, evidence=evidence)\n",
      "                ^^^^^^^^^^^^^^^^^^^^^^^^^^^^^^^^^^^^^^^^^^^^^^^^^^^^\n",
      "  File \"/home/mhuebner/anaconda3/envs/phospho_pi/lib/python3.11/site-packages/problog/evaluator.py\", line 408, in get_evaluator\n",
      "    evaluator.propagate()\n",
      "  File \"/home/mhuebner/anaconda3/envs/phospho_pi/lib/python3.11/site-packages/problog/ddnnf_formula.py\", line 84, in propagate\n",
      "    self._initialize()\n",
      "  File \"/home/mhuebner/anaconda3/envs/phospho_pi/lib/python3.11/site-packages/problog/ddnnf_formula.py\", line 73, in _initialize\n",
      "    model_weights = self.formula.extract_weights(self.semiring, self.given_weights)\n",
      "                    ^^^^^^^^^^^^^^^^^^^^^^^^^^^^^^^^^^^^^^^^^^^^^^^^^^^^^^^^^^^^^^^\n",
      "  File \"/home/mhuebner/anaconda3/envs/phospho_pi/lib/python3.11/site-packages/problog/formula.py\", line 189, in extract_weights\n",
      "    semiring.pos_value(w, name),\n",
      "    ^^^^^^^^^^^^^^^^^^^^^^^^^^^\n",
      "  File \"/home/mhuebner/anaconda3/envs/phospho_pi/lib/python3.11/site-packages/problog/evaluator.py\", line 107, in pos_value\n",
      "    return self.value(a)\n",
      "           ^^^^^^^^^^^^^\n",
      "  File \"/home/mhuebner/anaconda3/envs/phospho_pi/lib/python3.11/site-packages/problog/learning/lfi.py\", line 1183, in value\n",
      "    return self._get_weight(*a.args)\n",
      "           ^^^^^^^^^^^^^^^^^^^^^^^^^\n",
      "  File \"/home/mhuebner/anaconda3/envs/phospho_pi/lib/python3.11/site-packages/problog/learning/lfi.py\", line 1159, in _get_weight\n",
      "    return weight[args]\n",
      "           ~~~~~~^^^^^^\n",
      "KeyError: t(e1,s2)\n",
      "\n"
     ]
    },
    {
     "data": {
      "text/plain": [
       "256"
      ]
     },
     "execution_count": 35,
     "metadata": {},
     "output_type": "execute_result"
    }
   ],
   "source": [
    "DIR = 'models/synthetic_data/toy_network_mini/p_model/'\n",
    "max_iter = 3\n",
    "# learning from interpretation\n",
    "cmd = f'problog lfi {DIR}p_model_lfi_o1b.pl {DIR}evidence_o1b.pl -O {DIR}p_model_o1b.pl -k ddnnf -v -n {max_iter}'\n",
    "os.system(cmd)"
   ]
  }
 ],
 "metadata": {
  "kernelspec": {
   "display_name": "phospho_pi",
   "language": "python",
   "name": "python3"
  },
  "language_info": {
   "codemirror_mode": {
    "name": "ipython",
    "version": 3
   },
   "file_extension": ".py",
   "mimetype": "text/x-python",
   "name": "python",
   "nbconvert_exporter": "python",
   "pygments_lexer": "ipython3",
   "version": "3.11.0"
  },
  "orig_nbformat": 4
 },
 "nbformat": 4,
 "nbformat_minor": 2
}
