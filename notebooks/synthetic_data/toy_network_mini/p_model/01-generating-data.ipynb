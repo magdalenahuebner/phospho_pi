{
 "cells": [
  {
   "attachments": {},
   "cell_type": "markdown",
   "metadata": {},
   "source": [
    "#### Prerequesites:\n",
    "* Define schema (make figure) \n",
    "* Define structure (make figure)\n",
    "* Define schema class in python (src/models/model_schemata.py)\n",
    "* Convert schema + structure into model template (models/templates/p_model.pl)\n",
    "\n",
    "#### Experiment settings:\n",
    "* Choose network (skeleton)\n",
    "* Create new folder (models/synthetic_data/toy_network_mini/p_model/)\n",
    "* Move model template to folder\n",
    "* Define sampling strategy (how many sampling steps? sampling or inference?)\n",
    "\n",
    "#### Procedure:\n",
    "* Add entities and relationships to model script\n",
    "* Adjust model script for sampling accordingly\n",
    "* Sample probabilitic attributes (save)\n",
    "* Adjust model script for learning remaining cpds with mpe\n",
    "* Add sampled attributes to model script as facts\n",
    "* Learn remaining cpds with mpe (save)\n",
    "* Sample probabilities for uncertain evidence (save)"
   ]
  },
  {
   "cell_type": "code",
   "execution_count": 1,
   "metadata": {},
   "outputs": [],
   "source": [
    "%load_ext autoreload\n",
    "%autoreload 2"
   ]
  },
  {
   "cell_type": "code",
   "execution_count": 2,
   "metadata": {},
   "outputs": [],
   "source": [
    "# Importing libraries\n",
    "import pandas as pd\n",
    "import os\n",
    "import pickle\n",
    "\n",
    "from src.models import build_model as build\n",
    "from src.models import model_schemata as schema\n",
    "from src.models import inference as inf\n",
    "\n",
    "from src.data import prep_data"
   ]
  },
  {
   "cell_type": "code",
   "execution_count": 4,
   "metadata": {},
   "outputs": [],
   "source": [
    "# os.chdir('/Users/magdalena/OneDrive - Queen Mary, University of London/bezzlab/research/projects/phospho_pi/')\n",
    "os.chdir('/home/mhuebner/Desktop/bezzlab/research/projects/phospho_pi/')"
   ]
  },
  {
   "attachments": {},
   "cell_type": "markdown",
   "metadata": {},
   "source": [
    "Building skeleton"
   ]
  },
  {
   "cell_type": "code",
   "execution_count": 5,
   "metadata": {},
   "outputs": [],
   "source": [
    "# Defining skeleton\n",
    "enzymes = ['e1', 'e2', 'e3']\n",
    "phosphosites = ['p0']\n",
    "es_interaction = pd.DataFrame({'enzyme': ['e1', 'e2', 'e3'], 'substrate': ['p0', 'p0', 'p0']})\n",
    "# Defining fixed attributes\n",
    "e_function = pd.DataFrame({'enzyme': ['e1', 'e2', 'e3'], 'function': ['kinase', 'kinase', 'phosphatase']})"
   ]
  },
  {
   "cell_type": "code",
   "execution_count": 7,
   "metadata": {},
   "outputs": [],
   "source": [
    "# Mapping data to Problog predicates\n",
    "predicates = {}\n",
    "predicates['enzyme'] = schema.EnzymePredicate(enzyme_list=enzymes)\n",
    "predicates['phosphosite'] = schema.PhosphositePredicate(phosphosite_list=phosphosites)\n",
    "predicates['es_interaction'] = schema.ESInteractionPredicate(dataframe=es_interaction, enzyme_col='enzyme', phosphosite_col='substrate')\n",
    "predicates['e_function'] = schema.EFunctionPredicate(dataframe=e_function, enzyme_col='enzyme', function_col='function')\n",
    "\n",
    "# Adding entites, relationships, and fixed attributes to template model\n",
    "model_skeleton = 'models/synthetic_data/toy_network_mini/p_model/p_model_skeleton.pl'\n",
    "\n",
    "for predicate in predicates:\n",
    "    fact_generator = build.ProblogStatementGenerator(predicates[predicate])\n",
    "    problog_facts = fact_generator.generate_facts(build.FactTemplate) # generate Problog facts\n",
    "    build.insert_statements(model=model_skeleton, statements=problog_facts, location='%% {}'.format(predicate)) # insert into Problog file"
   ]
  },
  {
   "attachments": {},
   "cell_type": "markdown",
   "metadata": {},
   "source": [
    "Sampling"
   ]
  },
  {
   "cell_type": "code",
   "execution_count": 6,
   "metadata": {},
   "outputs": [
    {
     "name": "stderr",
     "output_type": "stream",
     "text": [
      "(True, <generator object sample at 0x7f8b494575e0>)\n"
     ]
    },
    {
     "data": {
      "text/html": [
       "<div>\n",
       "<style scoped>\n",
       "    .dataframe tbody tr th:only-of-type {\n",
       "        vertical-align: middle;\n",
       "    }\n",
       "\n",
       "    .dataframe tbody tr th {\n",
       "        vertical-align: top;\n",
       "    }\n",
       "\n",
       "    .dataframe thead th {\n",
       "        text-align: right;\n",
       "    }\n",
       "</style>\n",
       "<table border=\"1\" class=\"dataframe\">\n",
       "  <thead>\n",
       "    <tr style=\"text-align: right;\">\n",
       "      <th></th>\n",
       "      <th>enzyme</th>\n",
       "      <th>sample</th>\n",
       "      <th>value</th>\n",
       "    </tr>\n",
       "  </thead>\n",
       "  <tbody>\n",
       "    <tr>\n",
       "      <th>0</th>\n",
       "      <td>e1</td>\n",
       "      <td>s1</td>\n",
       "      <td>inc</td>\n",
       "    </tr>\n",
       "    <tr>\n",
       "      <th>1</th>\n",
       "      <td>e1</td>\n",
       "      <td>s10</td>\n",
       "      <td>dec</td>\n",
       "    </tr>\n",
       "    <tr>\n",
       "      <th>2</th>\n",
       "      <td>e1</td>\n",
       "      <td>s100</td>\n",
       "      <td>inc</td>\n",
       "    </tr>\n",
       "    <tr>\n",
       "      <th>3</th>\n",
       "      <td>e1</td>\n",
       "      <td>s11</td>\n",
       "      <td>base</td>\n",
       "    </tr>\n",
       "    <tr>\n",
       "      <th>4</th>\n",
       "      <td>e1</td>\n",
       "      <td>s12</td>\n",
       "      <td>dec</td>\n",
       "    </tr>\n",
       "    <tr>\n",
       "      <th>...</th>\n",
       "      <td>...</td>\n",
       "      <td>...</td>\n",
       "      <td>...</td>\n",
       "    </tr>\n",
       "    <tr>\n",
       "      <th>295</th>\n",
       "      <td>e3</td>\n",
       "      <td>s95</td>\n",
       "      <td>inc</td>\n",
       "    </tr>\n",
       "    <tr>\n",
       "      <th>296</th>\n",
       "      <td>e3</td>\n",
       "      <td>s96</td>\n",
       "      <td>inc</td>\n",
       "    </tr>\n",
       "    <tr>\n",
       "      <th>297</th>\n",
       "      <td>e3</td>\n",
       "      <td>s97</td>\n",
       "      <td>inc</td>\n",
       "    </tr>\n",
       "    <tr>\n",
       "      <th>298</th>\n",
       "      <td>e3</td>\n",
       "      <td>s98</td>\n",
       "      <td>dec</td>\n",
       "    </tr>\n",
       "    <tr>\n",
       "      <th>299</th>\n",
       "      <td>e3</td>\n",
       "      <td>s99</td>\n",
       "      <td>inc</td>\n",
       "    </tr>\n",
       "  </tbody>\n",
       "</table>\n",
       "<p>300 rows × 3 columns</p>\n",
       "</div>"
      ],
      "text/plain": [
       "    enzyme sample value\n",
       "0       e1     s1   inc\n",
       "1       e1    s10   dec\n",
       "2       e1   s100   inc\n",
       "3       e1    s11  base\n",
       "4       e1    s12   dec\n",
       "..     ...    ...   ...\n",
       "295     e3    s95   inc\n",
       "296     e3    s96   inc\n",
       "297     e3    s97   inc\n",
       "298     e3    s98   dec\n",
       "299     e3    s99   inc\n",
       "\n",
       "[300 rows x 3 columns]"
      ]
     },
     "execution_count": 6,
     "metadata": {},
     "output_type": "execute_result"
    }
   ],
   "source": [
    "# Sampling probabilistic attributes\n",
    "model_sampling = 'models/synthetic_data/toy_network_mini/p_model/data_generation/p_model_sampling.pl'\n",
    "sampling_output = 'data/processed/synthetic_data/toy_network_mini/p_model/sampled_data.txt'\n",
    "cmd = f'problog sample {model_sampling} -N 100 -s 612 -o {sampling_output}'\n",
    "os.system(cmd)\n",
    "e_activity = build.sampling_file_to_df(sampling_output, schema.EActivityPredicate, build.FactTemplate)\n",
    "e_activity"
   ]
  },
  {
   "attachments": {},
   "cell_type": "markdown",
   "metadata": {},
   "source": [
    "Inference (MPE)"
   ]
  },
  {
   "cell_type": "code",
   "execution_count": 9,
   "metadata": {},
   "outputs": [],
   "source": [
    "model_inference = 'models/synthetic_data/toy_network_mini/p_model/data_generation/p_model_inference.pl'"
   ]
  },
  {
   "cell_type": "code",
   "execution_count": 16,
   "metadata": {},
   "outputs": [],
   "source": [
    "# Mapping e_activity data to Problog predicates\n",
    "predicates['e_activity'] = schema.EActivityPredicate()\n",
    "predicates['e_activity'].add_data(e_activity, enzyme_col='enzyme', sample_col='sample', value_col='value')\n",
    "\n",
    "# Adding fixed attributes to template model\n",
    "fact_generator = build.ProblogStatementGenerator(predicates['e_activity'])\n",
    "problog_facts = fact_generator.generate_facts(build.FactTemplate) # generate Problog facts\n",
    "build.insert_statements(model=model_inference, statements=problog_facts, location='%% {}'.format('e_activity')) # insert into Problog file"
   ]
  },
  {
   "cell_type": "code",
   "execution_count": 10,
   "metadata": {},
   "outputs": [
    {
     "data": {
      "text/plain": [
       "['query(p_occupancy(_, s1, _)).',\n",
       " 'query(p_occupancy(_, s2, _)).',\n",
       " 'query(p_occupancy(_, s3, _)).',\n",
       " 'query(p_occupancy(_, s4, _)).',\n",
       " 'query(p_occupancy(_, s5, _)).',\n",
       " 'query(p_occupancy(_, s6, _)).',\n",
       " 'query(p_occupancy(_, s7, _)).',\n",
       " 'query(p_occupancy(_, s8, _)).',\n",
       " 'query(p_occupancy(_, s9, _)).',\n",
       " 'query(p_occupancy(_, s10, _)).']"
      ]
     },
     "execution_count": 10,
     "metadata": {},
     "output_type": "execute_result"
    }
   ],
   "source": [
    "# Inferring probabilistic attributes\n",
    "inference_output = 'data/processed/synthetic_data/toy_network_mini/p_model/inferred_data.txt'\n",
    "sample_ids = [f's{i}' for i in range(1, 101)]\n",
    "queries = inf.generate_queries(sample_ids, schema.POccupancyPredicate)\n",
    "queries[:10]"
   ]
  },
  {
   "cell_type": "code",
   "execution_count": null,
   "metadata": {},
   "outputs": [],
   "source": [
    "inf_data_dict = inf.infer_mpe(model_inference, queries, inference_output)\n",
    "# pickle the dictionary\n",
    "with open('data/processed/synthetic_data/toy_network_mini/p_model/inferred_data_dict.pkl', 'wb') as f:\n",
    "    pickle.dump(inf_data_dict, f) "
   ]
  },
  {
   "attachments": {},
   "cell_type": "markdown",
   "metadata": {},
   "source": [
    "Sampling probabilities"
   ]
  },
  {
   "cell_type": "code",
   "execution_count": 42,
   "metadata": {},
   "outputs": [],
   "source": [
    "# read the dictionary\n",
    "with open('data/processed/synthetic_data/toy_network_mini/p_model/inferred_data_dict.pkl', 'rb') as f:\n",
    "    inf_data_dict = pickle.load(f)\n"
   ]
  },
  {
   "cell_type": "code",
   "execution_count": 44,
   "metadata": {},
   "outputs": [
    {
     "data": {
      "text/plain": [
       "phosphosite          p0\n",
       "sample               s1\n",
       "value              base\n",
       "prob             0.5048\n",
       "p_dec             0.001\n",
       "p_base         0.011075\n",
       "p_inc             0.001\n",
       "dtype: object"
      ]
     },
     "execution_count": 44,
     "metadata": {},
     "output_type": "execute_result"
    }
   ],
   "source": [
    "params = {'mean': 0.9, 'lower_bound': 0.5, 'upper_bound': 1.0, 'std_dev': 0.2}\n",
    "\n",
    "# Call the function to calculate 'p_dec', 'p_base', and 'p_inc' columns\n",
    "p_fc = prep_data.sample_ad_probabilities(inf_data_dict['p_occupancy'], 'value', params)\n",
    "e_ksea = prep_data.sample_ad_probabilities(e_activity, 'value', params)\n",
    "p_fc.min()"
   ]
  },
  {
   "cell_type": "code",
   "execution_count": 45,
   "metadata": {},
   "outputs": [],
   "source": [
    "# save es_interaction, e_function, e_ksea, p_fc, e_activity and p_occupancy to csv\n",
    "es_interaction.to_csv('data/processed/synthetic_data/toy_network_mini/p_model/es_interaction.csv', index=False)\n",
    "e_function.to_csv('data/processed/synthetic_data/toy_network_mini/p_model/e_function.csv', index=False)\n",
    "e_ksea.to_csv('data/processed/synthetic_data/toy_network_mini/p_model/e_ksea.csv', index=False)\n",
    "p_fc.to_csv('data/processed/synthetic_data/toy_network_mini/p_model/p_fc.csv', index=False)\n",
    "e_activity.to_csv('data/processed/synthetic_data/toy_network_mini/p_model/e_activity.csv', index=False)\n",
    "inf_data_dict['p_occupancy'].to_csv('data/processed/synthetic_data/toy_network_mini/p_model/p_occupancy.csv', index=False)"
   ]
  }
 ],
 "metadata": {
  "kernelspec": {
   "display_name": "phospho_pi",
   "language": "python",
   "name": "python3"
  },
  "language_info": {
   "codemirror_mode": {
    "name": "ipython",
    "version": 3
   },
   "file_extension": ".py",
   "mimetype": "text/x-python",
   "name": "python",
   "nbconvert_exporter": "python",
   "pygments_lexer": "ipython3",
   "version": "3.10.9"
  },
  "orig_nbformat": 4
 },
 "nbformat": 4,
 "nbformat_minor": 2
}
