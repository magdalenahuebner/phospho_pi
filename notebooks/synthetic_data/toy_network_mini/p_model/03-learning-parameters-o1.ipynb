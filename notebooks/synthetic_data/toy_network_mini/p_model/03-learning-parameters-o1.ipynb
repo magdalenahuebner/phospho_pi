{
 "cells": [
  {
   "attachments": {},
   "cell_type": "markdown",
   "metadata": {},
   "source": [
    "#### Prerequesites:\n",
    "* Define schema (make figure) \n",
    "* Define structure (make figure)\n",
    "* Define schema class in python (src/models/model_schemata.py)\n",
    "* Convert schema + structure into model template (models/templates/p_model.pl)\n",
    "\n",
    "#### Procedure:\n",
    "* Load data\n",
    "* Adjust model script for lfi accordingly\n",
    "* Create evidence file (if I don't need different evidence files, move to builmodel notebook)\n",
    "* LFI"
   ]
  },
  {
   "attachments": {},
   "cell_type": "markdown",
   "metadata": {},
   "source": [
    "Multiple instances, 1 pst, 3 enzymes, one sample per instance, test how many instances can have, how computing time depends on N instances"
   ]
  },
  {
   "cell_type": "code",
   "execution_count": 3,
   "metadata": {},
   "outputs": [],
   "source": [
    "%load_ext autoreload\n",
    "%autoreload 2"
   ]
  },
  {
   "cell_type": "code",
   "execution_count": 4,
   "metadata": {},
   "outputs": [],
   "source": [
    "# Importing libraries\n",
    "import pandas as pd\n",
    "import numpy as np\n",
    "import os\n",
    "import random\n",
    "\n",
    "import matplotlib.pyplot as plt\n",
    "from scipy.optimize import curve_fit\n",
    "import seaborn as sns\n",
    "\n",
    "from src.models import model_schemata as schema\n",
    "from src.models import build_model as build\n",
    "from src.visualization import visualize as viz"
   ]
  },
  {
   "cell_type": "code",
   "execution_count": 5,
   "metadata": {},
   "outputs": [],
   "source": [
    "os.chdir('/Users/magdalena/OneDrive - Queen Mary, University of London/bezzlab/research/projects/phospho_pi/')\n",
    "# os.chdir('/home/mhuebner/Desktop/bezzlab/research/projects/phospho_pi/')"
   ]
  },
  {
   "attachments": {},
   "cell_type": "markdown",
   "metadata": {},
   "source": [
    "#### Training/Testing"
   ]
  },
  {
   "cell_type": "code",
   "execution_count": 4,
   "metadata": {},
   "outputs": [
    {
     "data": {
      "text/html": [
       "<div>\n",
       "<style scoped>\n",
       "    .dataframe tbody tr th:only-of-type {\n",
       "        vertical-align: middle;\n",
       "    }\n",
       "\n",
       "    .dataframe tbody tr th {\n",
       "        vertical-align: top;\n",
       "    }\n",
       "\n",
       "    .dataframe thead th {\n",
       "        text-align: right;\n",
       "    }\n",
       "</style>\n",
       "<table border=\"1\" class=\"dataframe\">\n",
       "  <thead>\n",
       "    <tr style=\"text-align: right;\">\n",
       "      <th></th>\n",
       "      <th>enzyme</th>\n",
       "      <th>sample</th>\n",
       "      <th>value</th>\n",
       "      <th>prob</th>\n",
       "    </tr>\n",
       "  </thead>\n",
       "  <tbody>\n",
       "    <tr>\n",
       "      <th>0</th>\n",
       "      <td>e1</td>\n",
       "      <td>s1</td>\n",
       "      <td>inc</td>\n",
       "      <td>0.774553</td>\n",
       "    </tr>\n",
       "    <tr>\n",
       "      <th>1</th>\n",
       "      <td>e1</td>\n",
       "      <td>s10</td>\n",
       "      <td>dec</td>\n",
       "      <td>0.617971</td>\n",
       "    </tr>\n",
       "    <tr>\n",
       "      <th>2</th>\n",
       "      <td>e1</td>\n",
       "      <td>s100</td>\n",
       "      <td>inc</td>\n",
       "      <td>0.796040</td>\n",
       "    </tr>\n",
       "    <tr>\n",
       "      <th>3</th>\n",
       "      <td>e1</td>\n",
       "      <td>s11</td>\n",
       "      <td>base</td>\n",
       "      <td>0.650127</td>\n",
       "    </tr>\n",
       "    <tr>\n",
       "      <th>4</th>\n",
       "      <td>e1</td>\n",
       "      <td>s12</td>\n",
       "      <td>dec</td>\n",
       "      <td>0.748834</td>\n",
       "    </tr>\n",
       "    <tr>\n",
       "      <th>...</th>\n",
       "      <td>...</td>\n",
       "      <td>...</td>\n",
       "      <td>...</td>\n",
       "      <td>...</td>\n",
       "    </tr>\n",
       "    <tr>\n",
       "      <th>295</th>\n",
       "      <td>e3</td>\n",
       "      <td>s95</td>\n",
       "      <td>inc</td>\n",
       "      <td>0.644811</td>\n",
       "    </tr>\n",
       "    <tr>\n",
       "      <th>296</th>\n",
       "      <td>e3</td>\n",
       "      <td>s96</td>\n",
       "      <td>inc</td>\n",
       "      <td>0.550137</td>\n",
       "    </tr>\n",
       "    <tr>\n",
       "      <th>297</th>\n",
       "      <td>e3</td>\n",
       "      <td>s97</td>\n",
       "      <td>inc</td>\n",
       "      <td>0.812202</td>\n",
       "    </tr>\n",
       "    <tr>\n",
       "      <th>298</th>\n",
       "      <td>e3</td>\n",
       "      <td>s98</td>\n",
       "      <td>dec</td>\n",
       "      <td>0.783041</td>\n",
       "    </tr>\n",
       "    <tr>\n",
       "      <th>299</th>\n",
       "      <td>e3</td>\n",
       "      <td>s99</td>\n",
       "      <td>inc</td>\n",
       "      <td>0.769849</td>\n",
       "    </tr>\n",
       "  </tbody>\n",
       "</table>\n",
       "<p>300 rows × 4 columns</p>\n",
       "</div>"
      ],
      "text/plain": [
       "    enzyme sample value      prob\n",
       "0       e1     s1   inc  0.774553\n",
       "1       e1    s10   dec  0.617971\n",
       "2       e1   s100   inc  0.796040\n",
       "3       e1    s11  base  0.650127\n",
       "4       e1    s12   dec  0.748834\n",
       "..     ...    ...   ...       ...\n",
       "295     e3    s95   inc  0.644811\n",
       "296     e3    s96   inc  0.550137\n",
       "297     e3    s97   inc  0.812202\n",
       "298     e3    s98   dec  0.783041\n",
       "299     e3    s99   inc  0.769849\n",
       "\n",
       "[300 rows x 4 columns]"
      ]
     },
     "execution_count": 4,
     "metadata": {},
     "output_type": "execute_result"
    }
   ],
   "source": [
    "# reading csv from files into dict\n",
    "data = {}\n",
    "data['e_activity'] = pd.read_csv('data/processed/synthetic_data/toy_network_mini/p_model/e_activity.csv')\n",
    "data['p_occupancy'] = pd.read_csv('data/processed/synthetic_data/toy_network_mini/p_model/p_occupancy.csv')\n",
    "data['e_activity']"
   ]
  },
  {
   "attachments": {},
   "cell_type": "markdown",
   "metadata": {},
   "source": [
    "Splitting data into training/testing"
   ]
  },
  {
   "cell_type": "code",
   "execution_count": 5,
   "metadata": {},
   "outputs": [],
   "source": [
    "# getting sample names (union of all samples in all datasets)\n",
    "samples = list(set(data['e_activity']['sample']).union(set(data['p_occupancy']['sample'])))\n",
    "samples.sort()\n",
    "# sample x% of samples randomly without replacement with seed\n",
    "random.seed(612)\n",
    "train = random.sample(samples, int(len(samples)*0.2))\n",
    "# train = ['s1', 's2', 's3']\n",
    "# filter data\n",
    "training_data = {}\n",
    "training_data['e_activity'] = data['e_activity'][data['e_activity']['sample'].isin(train)].reset_index(drop=True)\n",
    "training_data['p_occupancy'] = data['p_occupancy'][data['p_occupancy']['sample'].isin(train)].reset_index(drop=True)"
   ]
  },
  {
   "cell_type": "code",
   "execution_count": 6,
   "metadata": {},
   "outputs": [],
   "source": [
    "# Mapping data to Problog predicates\n",
    "predicates = {}\n",
    "predicates['e_ksea'] = schema.EKseaPredicate()\n",
    "predicates['e_ksea'].add_data(training_data['e_activity'], 'enzyme', 'sample', 'value')\n",
    "predicates['p_fc'] = schema.PFoldChangePredicate()\n",
    "predicates['p_fc'].add_data(training_data['p_occupancy'], 'phosphosite', 'sample', 'value')"
   ]
  },
  {
   "cell_type": "code",
   "execution_count": 7,
   "metadata": {},
   "outputs": [],
   "source": [
    "samples = list(set(training_data['e_activity']['sample']).union(set(training_data['p_occupancy']['sample'])))\n",
    "evidence_dict = {}\n",
    "for s in samples:\n",
    "    evidence = []\n",
    "    for predicate in predicates:\n",
    "        evid_generator = build.ProblogStatementGenerator(predicates[predicate])\n",
    "        evidence = evidence + evid_generator.generate_facts(build.EvidenceTemplate, select=[s])\n",
    "    evidence_dict[s] = evidence"
   ]
  },
  {
   "cell_type": "code",
   "execution_count": 16,
   "metadata": {},
   "outputs": [],
   "source": [
    "# write evidence_dict to text file: loop over samples and separate by line of hyphens\n",
    "with open('models/synthetic_data/toy_network_mini/p_model/evidence_o1.pl', 'w') as f:\n",
    "    for s in evidence_dict:\n",
    "        for e in evidence_dict[s]:\n",
    "            f.write(e + '\\n')\n",
    "        f.write('--------------------' + '\\n')"
   ]
  },
  {
   "attachments": {},
   "cell_type": "markdown",
   "metadata": {},
   "source": [
    "LFI"
   ]
  },
  {
   "cell_type": "code",
   "execution_count": null,
   "metadata": {},
   "outputs": [],
   "source": [
    "DIR = 'models/synthetic_data/toy_network_mini/p_model/'\n",
    "max_iter = 3\n",
    "# learning from interpretation\n",
    "cmd = f'problog lfi {DIR}p_model_lfi_o1.pl {DIR}evidence_o1.pl -O {DIR}p_model_o1.pl -k ddnnf -v -n {max_iter}'\n",
    "os.system(cmd)"
   ]
  },
  {
   "cell_type": "markdown",
   "metadata": {},
   "source": [
    "Grounding"
   ]
  },
  {
   "cell_type": "code",
   "execution_count": 8,
   "metadata": {},
   "outputs": [
    {
     "name": "stderr",
     "output_type": "stream",
     "text": [
      "(True, 't(0.33,e1,s79)::e_activity(e1,s79,base); t(0.33,e1,s79)::e_activity(e1,s79,dec); t(0.33,e1,s79)::e_activity(e1,s79,inc).\\n0.9105218665::e_ksea(e1,s79,base) :- e_activity(e1,s79,base).\\n0.0794781335::e_ksea(e1,s79,base) :- e_activity(e1,s79,dec).\\n0.0794781335::e_ksea(e1,s79,base) :- e_activity(e1,s79,inc).\\nt(0.33,e2,s79)::e_activity(e2,s79,base); t(0.33,e2,s79)::e_activity(e2,s79,dec); t(0.33,e2,s79)::e_activity(e2,s79,inc).\\n0.1432501803::e_ksea(e2,s79,inc) :- e_activity(e2,s79,base).\\n0.001::e_ksea(e2,s79,inc) :- e_activity(e2,s79,dec).\\n0.7124996395::e_ksea(e2,s79,inc) :- e_activity(e2,s79,inc).\\nt(0.33,e3,s79)::e_activity(e3,s79,base); t(0.33,e3,s79)::e_activity(e3,s79,dec); t(0.33,e3,s79)::e_activity(e3,s79,inc).\\n0.768775166::e_ksea(e3,s79,base) :- e_activity(e3,s79,base).\\n0.221224834::e_ksea(e3,s79,base) :- e_activity(e3,s79,dec).\\n0.221224834::e_ksea(e3,s79,base) :- e_activity(e3,s79,inc).\\nt(0.7,e1,p0)::occ_dec(p0,s79) :- e_activity(e1,s79,dec).\\nt(0.7,e2,p0)::occ_dec(p0,s79) :- e_activity(e2,s79,dec).\\nt(0.7,e3,p0)::occ_dec(p0,s79) :- e_activity(e3,s79,inc).\\nt(0.7,e1,p0)::occ_base(p0,s79) :- e_activity(e1,s79,base).\\nt(0.7,e2,p0)::occ_base(p0,s79) :- e_activity(e2,s79,base).\\nt(0.7,e3,p0)::occ_base(p0,s79) :- e_activity(e3,s79,base).\\nt(0.7,e1,p0)::occ_inc(p0,s79) :- e_activity(e1,s79,inc).\\nt(0.7,e2,p0)::occ_inc(p0,s79) :- e_activity(e2,s79,inc).\\nt(0.7,e3,p0)::occ_inc(p0,s79) :- e_activity(e3,s79,dec).\\nt(0.0)::p_occupancy(p0,s79,base); t(1.0)::p_occupancy(p0,s79,dec); t(0.0)::p_occupancy(p0,s79,inc) :- occ_dec(p0,s79), occ_base(p0,s79), \\\\+occ_inc(p0,s79).\\nt(0.0)::p_occupancy(p0,s79,base); t(0.0)::p_occupancy(p0,s79,dec); t(1.0)::p_occupancy(p0,s79,inc) :- \\\\+occ_dec(p0,s79), occ_base(p0,s79), occ_inc(p0,s79).\\nt(0.5)::p_occupancy(p0,s79,base); t(0.25)::p_occupancy(p0,s79,dec); t(0.25)::p_occupancy(p0,s79,inc) :- occ_dec(p0,s79), occ_base(p0,s79), occ_inc(p0,s79).\\nt(1.0)::p_occupancy(p0,s79,base); t(0.0)::p_occupancy(p0,s79,dec); t(0.0)::p_occupancy(p0,s79,inc) :- \\\\+occ_dec(p0,s79), occ_base(p0,s79), \\\\+occ_inc(p0,s79).\\nt(0.0)::p_occupancy(p0,s79,base); t(1.0)::p_occupancy(p0,s79,dec); t(0.0)::p_occupancy(p0,s79,inc) :- occ_dec(p0,s79), \\\\+occ_base(p0,s79), \\\\+occ_inc(p0,s79).\\nt(0.0)::p_occupancy(p0,s79,base); t(0.0)::p_occupancy(p0,s79,dec); t(1.0)::p_occupancy(p0,s79,inc) :- \\\\+occ_dec(p0,s79), \\\\+occ_base(p0,s79), occ_inc(p0,s79).\\nt(0.5)::p_occupancy(p0,s79,base); t(0.25)::p_occupancy(p0,s79,dec); t(0.25)::p_occupancy(p0,s79,inc) :- occ_dec(p0,s79), \\\\+occ_base(p0,s79), occ_inc(p0,s79).\\nt(1.0)::p_occupancy(p0,s79,base); t(0.0)::p_occupancy(p0,s79,dec); t(0.0)::p_occupancy(p0,s79,inc) :- \\\\+occ_dec(p0,s79), \\\\+occ_base(p0,s79), \\\\+occ_inc(p0,s79).\\n0.1790302752::p_fc(p0,s79,inc) :- p_occupancy(p0,s79,base).\\n0.001::p_fc(p0,s79,inc) :- p_occupancy(p0,s79,dec).\\n0.6409394496::p_fc(p0,s79,inc) :- p_occupancy(p0,s79,inc).\\nevidence(e_ksea(e1,s79,base)).\\nevidence(e_ksea(e2,s79,inc)).\\nevidence(e_ksea(e3,s79,base)).\\nevidence(p_fc(p0,s79,inc)).')\n"
     ]
    },
    {
     "data": {
      "text/plain": [
       "256"
      ]
     },
     "execution_count": 8,
     "metadata": {},
     "output_type": "execute_result"
    }
   ],
   "source": [
    "DIR = 'models/synthetic_data/toy_network_mini/p_model/'\n",
    "# learning from interpretation\n",
    "cmd = f'problog ground {DIR}p_model_lfi_o1.pl -o {DIR}p_model_o1_ground.pl --format pl'\n",
    "os.system(cmd)"
   ]
  },
  {
   "cell_type": "markdown",
   "metadata": {},
   "source": [
    "Analysis"
   ]
  },
  {
   "cell_type": "code",
   "execution_count": 6,
   "metadata": {},
   "outputs": [],
   "source": [
    "# DONE add to csv file for model training\n",
    "n_evidence = np.array([4, 4, 4, 4, 4, 4, 4, 4])\n",
    "n_pfacts = np.array([36, 36, 36, 36, 36, 36, 36, 36])\n",
    "n_pfacts_e = np.array([40, 40, 40, 40, 40, 40, 40, 40])\n",
    "n_params = np.array([58, 58, 58, 58, 58, 58, 58, 58])\n",
    "n_pfacts_cross = np.array([17, 17, 17, 17, 17, 17, 17, 17])\n",
    "n_params_cross = np.array([33, 33, 33, 33, 33, 33, 33, 33])\n",
    "n_samples = np.array([1, 2, 3, 5, 10, 20, 50, 80])\n",
    "n_inst = np.array([1, 2, 3, 5, 10, 20, 50, 80])\n",
    "t_compile = np.array([0.422346, 0.550336, 0.555902, 0.725704, 1.063860, 1.759076, 3.770566, 5.647475])\n",
    "t_total = np.array([1.2, 1.8, 2.4, 3.5, 6.6, 12.9, 31.0, 53.7])\n",
    "t_eval = t_total - t_compile"
   ]
  },
  {
   "cell_type": "markdown",
   "metadata": {},
   "source": [
    "Plot A"
   ]
  },
  {
   "cell_type": "code",
   "execution_count": 7,
   "metadata": {},
   "outputs": [],
   "source": [
    "x_features_a = {'Compilation': n_inst, 'Evaluation': n_inst, 'Total': n_inst}\n",
    "y_time_a = {'Compilation': t_compile, 'Evaluation': t_eval, 'Total': t_total}\n",
    "# viz.plot_multiple_time_lin(x_features, y_time, 'Number of instances', 'Time [s]', 60000, title=None)"
   ]
  },
  {
   "cell_type": "code",
   "execution_count": 8,
   "metadata": {},
   "outputs": [
    {
     "name": "stdout",
     "output_type": "stream",
     "text": [
      "Predicted y-value for x = 60000: 3974.853007113246s = 66.2475501185541min = 1.104125835309235h\n",
      "Predicted y-value for x = 60000: 35258.39106351089s = 587.6398510585149min = 9.793997517641914h\n",
      "Predicted y-value for x = 60000: 39233.24407075499s = 653.8874011792499min = 10.898123352987497h\n"
     ]
    },
    {
     "data": {
      "image/png": "[encoded data removed]",
      "text/plain": [
       "<Figure size 800x500 with 1 Axes>"
      ]
     },
     "metadata": {},
     "output_type": "display_data"
    }
   ],
   "source": [
    "def plot_multiple_time_lin_a(x_dict, y_data_dict, x_label, y_label, x_predict, title = 'Linear Fit'):\n",
    "    \n",
    "    # Define the linear function you want to fit\n",
    "    def linear_func(x, a, b):\n",
    "        return a * x + b\n",
    "\n",
    "    sns.set_style('whitegrid')\n",
    "    plt.figure(figsize=(8, 5), dpi=100)  # Create a larger figure for better visualization\n",
    "\n",
    "    colors = ['red', 'skyblue', 'darkblue']\n",
    "    \n",
    "    custom_labels = []\n",
    "    custom_handles = []\n",
    "    \n",
    "    for i, (key, x_data) in enumerate(x_dict.items()):\n",
    "        \n",
    "        y_data = y_data_dict[key]\n",
    "        # Fit the linear function to the data\n",
    "        params, covariance = curve_fit(linear_func, x_data, y_data)\n",
    "\n",
    "        # Parameters of the fitted linear function\n",
    "        a_fit, b_fit = params\n",
    "\n",
    "        # Predict y-value\n",
    "        y_predict = linear_func(x_predict, a_fit, b_fit)\n",
    "\n",
    "        # Calculate R^2\n",
    "        residuals = y_data - linear_func(x_data, a_fit, b_fit)\n",
    "        ss_res = np.sum(residuals**2)\n",
    "        ss_tot = np.sum((y_data - np.mean(y_data))**2)\n",
    "        r_squared = 1 - (ss_res / ss_tot)\n",
    "\n",
    "        # Use the ith color for this line and scatter plot\n",
    "        color = colors[i % len(colors)]\n",
    "\n",
    "        # Plot the original data\n",
    "        plt.scatter(x_data, y_data, label=f'{key}', color=color)\n",
    "        x_range = np.linspace(min(x_data), max(x_data), 100)\n",
    "        line, = plt.plot(x_range, linear_func(x_range, a_fit, b_fit), color=color, linewidth=1.5)  # Get line for color\n",
    "\n",
    "        # Collect custom labels and handles\n",
    "        custom_labels.append(f'R^2 = {r_squared:.4f}')\n",
    "        custom_handles.append(line)\n",
    "\n",
    "        print(f'Predicted y-value for x = {x_predict}: {y_predict}s = {y_predict/60}min = {y_predict/3600}h')\n",
    "\n",
    "    plt.xlabel(x_label, fontsize = 14)\n",
    "    plt.ylabel(y_label, fontsize = 14)\n",
    "    plt.tick_params(axis='both', which='major', labelsize=12)\n",
    "\n",
    "    # Create the first legend for the line labels\n",
    "    legend1 = plt.legend(loc='upper left', bbox_to_anchor=(0, 1), fontsize=12)\n",
    "    # Add the first legend manually to the current Axes\n",
    "    plt.gca().add_artist(legend1)\n",
    "    # Create the second legend for the custom labels\n",
    "    plt.legend(custom_handles, custom_labels, loc='upper left', bbox_to_anchor=(0, 0.78), fontsize=12)\n",
    "\n",
    "    plt.grid(True, linestyle='--', linewidth=0.5)\n",
    "    # plt.xticks(np.arange(2, max(x_data) + 1, 2.0))\n",
    "    plt.show()\n",
    "\n",
    "plot_multiple_time_lin_a(x_features_a, y_time_a, 'Number of instances', 'Time [s]', 60000, title=None)"
   ]
  }
 ],
 "metadata": {
  "kernelspec": {
   "display_name": "phospho_pi",
   "language": "python",
   "name": "python3"
  },
  "language_info": {
   "codemirror_mode": {
    "name": "ipython",
    "version": 3
   },
   "file_extension": ".py",
   "mimetype": "text/x-python",
   "name": "python",
   "nbconvert_exporter": "python",
   "pygments_lexer": "ipython3",
   "version": "3.10.13"
  },
  "orig_nbformat": 4
 },
 "nbformat": 4,
 "nbformat_minor": 2
}
