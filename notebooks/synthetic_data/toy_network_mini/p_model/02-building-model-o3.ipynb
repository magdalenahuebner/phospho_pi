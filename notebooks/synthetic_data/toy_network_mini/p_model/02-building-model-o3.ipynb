{
 "cells": [
  {
   "attachments": {},
   "cell_type": "markdown",
   "metadata": {},
   "source": [
    "#### Prerequesites:\n",
    "* Define schema (make figure) \n",
    "* Define structure (make figure)\n",
    "* Define schema class in python (src/models/model_schemata.py)\n",
    "* Convert schema + structure into model template (models/templates/p_model.pl)\n",
    "\n",
    "#### Procedure:\n",
    "* Load data\n",
    "* Create lfi script\n",
    "* Add uncertain evidence to lfi model as probabilistic clauses"
   ]
  },
  {
   "cell_type": "code",
   "execution_count": 8,
   "metadata": {},
   "outputs": [
    {
     "name": "stdout",
     "output_type": "stream",
     "text": [
      "The autoreload extension is already loaded. To reload it, use:\n",
      "  %reload_ext autoreload\n"
     ]
    }
   ],
   "source": [
    "%load_ext autoreload\n",
    "%autoreload 2"
   ]
  },
  {
   "cell_type": "code",
   "execution_count": 9,
   "metadata": {},
   "outputs": [],
   "source": [
    "# Importing libraries\n",
    "import pandas as pd\n",
    "import os\n",
    "\n",
    "from src.models import model_schemata as schema\n",
    "from src.models import build_model as build"
   ]
  },
  {
   "cell_type": "code",
   "execution_count": 10,
   "metadata": {},
   "outputs": [],
   "source": [
    "# os.chdir('/Users/magdalena/OneDrive - Queen Mary, University of London/bezzlab/research/projects/phospho_pi/')\n",
    "os.chdir('/home/mhuebner/Desktop/bezzlab/research/projects/phospho_pi/')"
   ]
  },
  {
   "cell_type": "code",
   "execution_count": 11,
   "metadata": {},
   "outputs": [],
   "source": [
    "# reading csv from files into dict\n",
    "data = {}\n",
    "data['e_ksea'] = pd.read_csv('data/processed/synthetic_data/toy_network_mini/p_model/e_ksea.csv')\n",
    "data['p_fc'] = pd.read_csv('data/processed/synthetic_data/toy_network_mini/p_model/p_fc.csv')"
   ]
  },
  {
   "cell_type": "code",
   "execution_count": 12,
   "metadata": {},
   "outputs": [
    {
     "data": {
      "text/html": [
       "<div>\n",
       "<style scoped>\n",
       "    .dataframe tbody tr th:only-of-type {\n",
       "        vertical-align: middle;\n",
       "    }\n",
       "\n",
       "    .dataframe tbody tr th {\n",
       "        vertical-align: top;\n",
       "    }\n",
       "\n",
       "    .dataframe thead th {\n",
       "        text-align: right;\n",
       "    }\n",
       "</style>\n",
       "<table border=\"1\" class=\"dataframe\">\n",
       "  <thead>\n",
       "    <tr style=\"text-align: right;\">\n",
       "      <th></th>\n",
       "      <th>enzyme</th>\n",
       "      <th>sample</th>\n",
       "      <th>value</th>\n",
       "      <th>prob</th>\n",
       "      <th>p_dec</th>\n",
       "      <th>p_base</th>\n",
       "      <th>p_inc</th>\n",
       "    </tr>\n",
       "  </thead>\n",
       "  <tbody>\n",
       "    <tr>\n",
       "      <th>0</th>\n",
       "      <td>E</td>\n",
       "      <td>s1</td>\n",
       "      <td>base</td>\n",
       "      <td>0.667479</td>\n",
       "      <td>0.166260</td>\n",
       "      <td>0.667479</td>\n",
       "      <td>0.166260</td>\n",
       "    </tr>\n",
       "    <tr>\n",
       "      <th>1</th>\n",
       "      <td>E</td>\n",
       "      <td>s1</td>\n",
       "      <td>dec</td>\n",
       "      <td>0.667479</td>\n",
       "      <td>0.667479</td>\n",
       "      <td>0.331521</td>\n",
       "      <td>0.001000</td>\n",
       "    </tr>\n",
       "    <tr>\n",
       "      <th>2</th>\n",
       "      <td>E</td>\n",
       "      <td>s1</td>\n",
       "      <td>inc</td>\n",
       "      <td>0.667479</td>\n",
       "      <td>0.001000</td>\n",
       "      <td>0.331521</td>\n",
       "      <td>0.667479</td>\n",
       "    </tr>\n",
       "    <tr>\n",
       "      <th>3</th>\n",
       "      <td>E</td>\n",
       "      <td>s10</td>\n",
       "      <td>base</td>\n",
       "      <td>0.869338</td>\n",
       "      <td>0.065331</td>\n",
       "      <td>0.869338</td>\n",
       "      <td>0.065331</td>\n",
       "    </tr>\n",
       "    <tr>\n",
       "      <th>4</th>\n",
       "      <td>E</td>\n",
       "      <td>s10</td>\n",
       "      <td>dec</td>\n",
       "      <td>0.869338</td>\n",
       "      <td>0.869338</td>\n",
       "      <td>0.129662</td>\n",
       "      <td>0.001000</td>\n",
       "    </tr>\n",
       "    <tr>\n",
       "      <th>...</th>\n",
       "      <td>...</td>\n",
       "      <td>...</td>\n",
       "      <td>...</td>\n",
       "      <td>...</td>\n",
       "      <td>...</td>\n",
       "      <td>...</td>\n",
       "      <td>...</td>\n",
       "    </tr>\n",
       "    <tr>\n",
       "      <th>295</th>\n",
       "      <td>E</td>\n",
       "      <td>s98</td>\n",
       "      <td>dec</td>\n",
       "      <td>0.852893</td>\n",
       "      <td>0.852893</td>\n",
       "      <td>0.146107</td>\n",
       "      <td>0.001000</td>\n",
       "    </tr>\n",
       "    <tr>\n",
       "      <th>296</th>\n",
       "      <td>E</td>\n",
       "      <td>s98</td>\n",
       "      <td>inc</td>\n",
       "      <td>0.852893</td>\n",
       "      <td>0.001000</td>\n",
       "      <td>0.146107</td>\n",
       "      <td>0.852893</td>\n",
       "    </tr>\n",
       "    <tr>\n",
       "      <th>297</th>\n",
       "      <td>E</td>\n",
       "      <td>s99</td>\n",
       "      <td>base</td>\n",
       "      <td>0.795218</td>\n",
       "      <td>0.102391</td>\n",
       "      <td>0.795218</td>\n",
       "      <td>0.102391</td>\n",
       "    </tr>\n",
       "    <tr>\n",
       "      <th>298</th>\n",
       "      <td>E</td>\n",
       "      <td>s99</td>\n",
       "      <td>dec</td>\n",
       "      <td>0.795218</td>\n",
       "      <td>0.795218</td>\n",
       "      <td>0.203782</td>\n",
       "      <td>0.001000</td>\n",
       "    </tr>\n",
       "    <tr>\n",
       "      <th>299</th>\n",
       "      <td>E</td>\n",
       "      <td>s99</td>\n",
       "      <td>inc</td>\n",
       "      <td>0.795218</td>\n",
       "      <td>0.001000</td>\n",
       "      <td>0.203782</td>\n",
       "      <td>0.795218</td>\n",
       "    </tr>\n",
       "  </tbody>\n",
       "</table>\n",
       "<p>300 rows × 7 columns</p>\n",
       "</div>"
      ],
      "text/plain": [
       "    enzyme sample value      prob     p_dec    p_base     p_inc\n",
       "0        E     s1  base  0.667479  0.166260  0.667479  0.166260\n",
       "1        E     s1   dec  0.667479  0.667479  0.331521  0.001000\n",
       "2        E     s1   inc  0.667479  0.001000  0.331521  0.667479\n",
       "3        E    s10  base  0.869338  0.065331  0.869338  0.065331\n",
       "4        E    s10   dec  0.869338  0.869338  0.129662  0.001000\n",
       "..     ...    ...   ...       ...       ...       ...       ...\n",
       "295      E    s98   dec  0.852893  0.852893  0.146107  0.001000\n",
       "296      E    s98   inc  0.852893  0.001000  0.146107  0.852893\n",
       "297      E    s99  base  0.795218  0.102391  0.795218  0.102391\n",
       "298      E    s99   dec  0.795218  0.795218  0.203782  0.001000\n",
       "299      E    s99   inc  0.795218  0.001000  0.203782  0.795218\n",
       "\n",
       "[300 rows x 7 columns]"
      ]
     },
     "execution_count": 12,
     "metadata": {},
     "output_type": "execute_result"
    }
   ],
   "source": [
    "# replace e1 with E in enzyme column \n",
    "data['e_ksea']['enzyme'] = data['e_ksea']['enzyme'].str.replace('e1', 'E')\n",
    "data['e_ksea'] = data['e_ksea'].loc[data['e_ksea']['enzyme'] == 'E']\n",
    "data['e_ksea']"
   ]
  },
  {
   "cell_type": "code",
   "execution_count": 13,
   "metadata": {},
   "outputs": [],
   "source": [
    "# Mapping data to Problog predicates\n",
    "predicates = {}\n",
    "predicates['e_ksea'] = schema.EKseaPredicate()\n",
    "predicates['e_ksea'].add_data(data['e_ksea'], 'enzyme', 'sample', 'value')\n",
    "predicates['e_ksea'].add_ad_probabilities(data['e_ksea'], 'p_dec', 'p_base', 'p_inc')\n",
    "predicates['p_fc'] = schema.PFoldChangePredicate()\n",
    "predicates['p_fc'].add_data(data['p_fc'], 'phosphosite', 'sample', 'value')\n",
    "predicates['p_fc'].add_ad_probabilities(data['p_fc'], 'p_dec', 'p_base', 'p_inc')"
   ]
  },
  {
   "cell_type": "code",
   "execution_count": 14,
   "metadata": {},
   "outputs": [],
   "source": [
    "model_lfi = 'models/synthetic_data/toy_network_mini/p_model/p_model_lfi_o4.pl'\n",
    "for predicate in predicates: \n",
    "    ad_generator = build.ProblogStatementGenerator(predicates[predicate])\n",
    "    clauses = ad_generator.generate_ad_clauses()\n",
    "    build.insert_statements(model=model_lfi, statements=clauses, location='%% p1::{}'.format(predicate)) # insert into Problog file"
   ]
  }
 ],
 "metadata": {
  "kernelspec": {
   "display_name": "phospho_pi",
   "language": "python",
   "name": "python3"
  },
  "language_info": {
   "codemirror_mode": {
    "name": "ipython",
    "version": 3
   },
   "file_extension": ".py",
   "mimetype": "text/x-python",
   "name": "python",
   "nbconvert_exporter": "python",
   "pygments_lexer": "ipython3",
   "version": "3.11.0"
  },
  "orig_nbformat": 4
 },
 "nbformat": 4,
 "nbformat_minor": 2
}
