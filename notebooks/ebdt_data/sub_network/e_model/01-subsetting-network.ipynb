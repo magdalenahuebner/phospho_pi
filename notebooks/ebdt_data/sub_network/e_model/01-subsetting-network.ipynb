{
 "cells": [
  {
   "cell_type": "code",
   "execution_count": 1,
   "metadata": {},
   "outputs": [],
   "source": [
    "%load_ext autoreload\n",
    "%autoreload 2"
   ]
  },
  {
   "cell_type": "code",
   "execution_count": 2,
   "metadata": {},
   "outputs": [],
   "source": [
    "# Libraries\n",
    "import pandas as pd\n",
    "import os\n",
    "\n",
    "from pyvis.network import Network\n",
    "\n",
    "from src.data import prep_data as prep\n",
    "from src.models import model_schemata as schema\n",
    "from src.models import build_model as build"
   ]
  },
  {
   "cell_type": "code",
   "execution_count": 3,
   "metadata": {},
   "outputs": [],
   "source": [
    "os.chdir('/Users/magdalena/OneDrive - Queen Mary, University of London/bezzlab/research/projects/phospho_pi/')\n",
    "# os.chdir('/home/mhuebner/Desktop/bezzlab/research/projects/phospho_pi/')"
   ]
  },
  {
   "cell_type": "code",
   "execution_count": 8,
   "metadata": {},
   "outputs": [],
   "source": [
    "# es_interaction = pd.read_csv('data/processed/ebdt_data/es_interaction.csv')\n",
    "dk_interaction = pd.read_csv('data/processed/ebdt_data/dk_interaction.csv')\n",
    "p_regulates = pd.read_csv('data/processed/ebdt_data/p_regulates.csv')\n",
    "p_function = pd.read_csv('data/processed/ebdt_data/p_function.csv')\n",
    "e_function = pd.read_csv('data/processed/ebdt_data/e_function.csv')\n",
    "p_fc = pd.read_csv('data/processed/ebdt_data/p_fc_scaled_HL60.csv')\n",
    "e_ksea = pd.read_csv('data/processed/ebdt_data/e_ksea_penalised_HL60.csv')"
   ]
  },
  {
   "cell_type": "code",
   "execution_count": 5,
   "metadata": {},
   "outputs": [],
   "source": [
    "es_pmodel = pd.read_csv('data/processed/ebdt_data/sub_network_p/es_interaction.csv')"
   ]
  },
  {
   "cell_type": "code",
   "execution_count": 6,
   "metadata": {},
   "outputs": [],
   "source": [
    "# Filtering\n",
    "p_regulates = p_regulates[p_regulates['protein'].isin(es_pmodel['enzyme'])].reset_index(drop=True)\n",
    "dk_interaction = dk_interaction[dk_interaction['enzyme'].isin(es_pmodel['enzyme'])].reset_index(drop=True)\n",
    "dk_interaction = dk_interaction[dk_interaction['drug'].isin(p_fc['sample'])].reset_index(drop=True)"
   ]
  },
  {
   "cell_type": "markdown",
   "metadata": {},
   "source": [
    "Plotting"
   ]
  },
  {
   "cell_type": "code",
   "execution_count": 100,
   "metadata": {},
   "outputs": [],
   "source": [
    "# Labelling\n",
    "phosphatases = set(e_function['enzyme'][e_function['function'] == 'phosphatase'].tolist())\n",
    "kinases = set(e_function['enzyme'][e_function['function'] == 'kinase'].tolist())"
   ]
  },
  {
   "cell_type": "code",
   "execution_count": 101,
   "metadata": {},
   "outputs": [],
   "source": [
    "regulates = [(row['phosphosite'], row['protein']) for _, row in p_regulates.iterrows()]\n",
    "inhibits = [(row['drug'], row['enzyme']) for _, row in dk_interaction.iterrows()]"
   ]
  },
  {
   "cell_type": "code",
   "execution_count": 102,
   "metadata": {},
   "outputs": [],
   "source": [
    "import networkx as nx\n",
    "G = nx.DiGraph()\n",
    "G.add_nodes_from(dk_interaction['drug'].unique().tolist(), bipartite=0)\n",
    "G.add_nodes_from(dk_interaction['enzyme'].unique().tolist(), bipartite=1)\n",
    "G.add_nodes_from(p_regulates['phosphosite'].unique().tolist(), bipartite=2)\n",
    "G.add_nodes_from(p_regulates['protein'].unique().tolist(), bipartite=1)\n",
    "G.add_edges_from(regulates)\n",
    "G.add_edges_from(inhibits)"
   ]
  },
  {
   "cell_type": "code",
   "execution_count": 103,
   "metadata": {},
   "outputs": [],
   "source": [
    "# Create a pyvis network\n",
    "net = Network()\n",
    "\n",
    "# Add nodes and edges from the bipartite graph\n",
    "for node, attributes in G.nodes(data=True):\n",
    "    if attributes[\"bipartite\"] == 0:\n",
    "        net.add_node(node, color=\"#F6BF93\", shape=\"triangle\", borderWidth=1.5)\n",
    "    elif attributes[\"bipartite\"] == 1 and node in phosphatases:\n",
    "        net.add_node(node, color=\"#E0F4DA\", shape=\"square\", borderWidth=3)\n",
    "    elif attributes[\"bipartite\"] == 1 and node in kinases:\n",
    "        net.add_node(node, color=\"#E0F4DA\", shape=\"square\", borderWidth=1.5)\n",
    "    elif attributes[\"bipartite\"] == 1:\n",
    "        net.add_node(node, color=\"#F2F2F2\", shape=\"square\", borderWidth=1.5)\n",
    "    else:\n",
    "        net.add_node(node, color=\"#D8F0F6\", borderWidth=1.5)\n",
    "\n",
    "for edge in G.edges():\n",
    "    net.add_edge(edge[0], edge[1])\n",
    "\n",
    "# Show the network\n",
    "net.show('data/processed/ebdt_data/sub_network_e/bipartite_network.html')"
   ]
  },
  {
   "cell_type": "markdown",
   "metadata": {},
   "source": [
    "Filtering"
   ]
  },
  {
   "cell_type": "code",
   "execution_count": 110,
   "metadata": {},
   "outputs": [],
   "source": [
    "# Filtering\n",
    "# select fold change data for psts which are in interaction data\n",
    "p_fc_sub = p_fc[p_fc['phosphosite'].isin(p_regulates['phosphosite'])].reset_index(drop=True)\n",
    "# select activity data for enzymes which are in interaction data\n",
    "e_ksea_sub = e_ksea[e_ksea['enzyme'].isin(dk_interaction['enzyme']) | e_ksea['enzyme'].isin(p_regulates['protein'])].reset_index(drop=True)# select enzyme function data for enzymes which are in interaction data\n",
    "# select phosphosite function data for phosphosites which are in interaction data\n",
    "p_function_sub = p_function[p_function['phosphosite'].isin(p_regulates['phosphosite'])].reset_index(drop=True)\n",
    "\n",
    "# define all pst which are in fold change data or interaction data and store in data frame\n",
    "phosphosites = list(set(p_fc_sub['phosphosite'].tolist() + p_regulates['phosphosite'].tolist()))\n",
    "# define all enzymes which are in activity, interaction or enz_class data and store in data frame\n",
    "enzymes = list(set(e_ksea_sub['enzyme'].tolist() + p_regulates['protein'].tolist() + dk_interaction['enzyme'].tolist()))\n",
    "# define all drugs\n",
    "drugs = list(set(dk_interaction['drug']))"
   ]
  },
  {
   "attachments": {},
   "cell_type": "markdown",
   "metadata": {},
   "source": [
    "Building skeleton"
   ]
  },
  {
   "cell_type": "code",
   "execution_count": 111,
   "metadata": {},
   "outputs": [],
   "source": [
    "# Mapping data to Problog predicates\n",
    "predicates = {}\n",
    "predicates['enzyme'] = schema.EnzymePredicate(enzyme_list=enzymes)\n",
    "predicates['phosphosite'] = schema.PhosphositePredicate(phosphosite_list=phosphosites)\n",
    "predicates['drug'] = schema.DrugPredicate(drug_list=drugs)\n",
    "predicates['p_regulates'] = schema.PRegulatesPredicate(dataframe=p_regulates, phosphosite_col='phosphosite', protein_col='protein')\n",
    "predicates['dk_interaction'] = schema.DKInteractionPredicate(dataframe=dk_interaction, drug_col='drug', enzyme_col='enzyme')\n",
    "predicates['p_function'] = schema.PFunctionPredicate(dataframe=p_function_sub, phosphosite_col='phosphosite', function_col='function')\n",
    "\n",
    "# Adding entites, relationships, and fixed attributes to template model\n",
    "model_skeleton = 'models/ebdt_data/sub_network/e_model/e_model_skeleton.pl'\n",
    "\n",
    "for predicate in predicates:\n",
    "    fact_generator = build.ProblogStatementGenerator(predicates[predicate])\n",
    "    problog_facts = fact_generator.generate_facts(build.FactTemplate) # generate Problog facts\n",
    "    build.insert_statements(model=model_skeleton, statements=problog_facts, location='%% {}'.format(predicate)) # insert into Problog file"
   ]
  },
  {
   "cell_type": "code",
   "execution_count": 112,
   "metadata": {},
   "outputs": [],
   "source": [
    "# save es_interaction, e_function, e_ksea, p_fc, e_activity and p_occupancy to csv\n",
    "p_regulates.to_csv('data/processed/ebdt_data/sub_network_e/p_regulates.csv', index=False)\n",
    "dk_interaction.to_csv('data/processed/ebdt_data/sub_network_e/dk_interaction.csv', index=False)\n",
    "p_function_sub.to_csv('data/processed/ebdt_data/sub_network_e/p_function.csv', index=False)\n",
    "e_ksea_sub.to_csv('data/processed/ebdt_data/sub_network_e/e_ksea.csv', index=False)\n",
    "p_fc_sub.to_csv('data/processed/ebdt_data/sub_network_e/p_fc.csv', index=False)"
   ]
  }
 ],
 "metadata": {
  "kernelspec": {
   "display_name": "phospho_pi",
   "language": "python",
   "name": "python3"
  },
  "language_info": {
   "codemirror_mode": {
    "name": "ipython",
    "version": 3
   },
   "file_extension": ".py",
   "mimetype": "text/x-python",
   "name": "python",
   "nbconvert_exporter": "python",
   "pygments_lexer": "ipython3",
   "version": "3.10.13"
  },
  "orig_nbformat": 4
 },
 "nbformat": 4,
 "nbformat_minor": 2
}
