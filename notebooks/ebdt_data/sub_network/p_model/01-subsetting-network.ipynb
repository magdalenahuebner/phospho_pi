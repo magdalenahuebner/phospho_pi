{
 "cells": [
  {
   "cell_type": "code",
   "execution_count": 45,
   "metadata": {},
   "outputs": [
    {
     "name": "stdout",
     "output_type": "stream",
     "text": [
      "The autoreload extension is already loaded. To reload it, use:\n",
      "  %reload_ext autoreload\n"
     ]
    }
   ],
   "source": [
    "%load_ext autoreload\n",
    "%autoreload 2"
   ]
  },
  {
   "cell_type": "code",
   "execution_count": 46,
   "metadata": {},
   "outputs": [],
   "source": [
    "# Libraries\n",
    "import pandas as pd\n",
    "import os\n",
    "\n",
    "from pyvis.network import Network\n",
    "\n",
    "from src.data import prep_data as prep\n",
    "from src.models import model_schemata as schema\n",
    "from src.models import build_model as build"
   ]
  },
  {
   "cell_type": "code",
   "execution_count": 47,
   "metadata": {},
   "outputs": [],
   "source": [
    "os.chdir('/Users/magdalena/OneDrive - Queen Mary, University of London/bezzlab/research/projects/phospho_pi/')\n",
    "# os.chdir('/home/mhuebner/Desktop/bezzlab/research/projects/phospho_pi/')"
   ]
  },
  {
   "cell_type": "code",
   "execution_count": 48,
   "metadata": {},
   "outputs": [],
   "source": [
    "es_interaction = pd.read_csv('data/processed/ebdt_data/es_interaction.csv')\n",
    "e_function = pd.read_csv('data/processed/ebdt_data/e_function.csv')\n",
    "p_fc = pd.read_csv('data/processed/ebdt_data/p_fc_HL60.csv')\n",
    "e_ksea = pd.read_csv('data/processed/ebdt_data/e_ksea_HL60.csv')"
   ]
  },
  {
   "cell_type": "code",
   "execution_count": 49,
   "metadata": {},
   "outputs": [],
   "source": [
    "# Filtering\n",
    "# remove activity data where tc is smaller or equal to 1\n",
    "e_ksea = e_ksea[e_ksea['tc'] > 1]\n",
    "# remove interactions where the kpa is not in the activity data\n",
    "es_interaction = es_interaction[es_interaction['enzyme'].isin(e_ksea['enzyme'])]\n",
    "es_interaction = es_interaction[es_interaction['substrate'].isin(p_fc['phosphosite'])]\n",
    "# select fold change data for psts which are in interaction data\n",
    "p_fc = p_fc[p_fc['phosphosite'].isin(es_interaction['substrate'])]\n",
    "# select enzyme function data for enzymes which are in interaction data\n",
    "e_function = e_function[e_function['enzyme'].isin(es_interaction['enzyme'])]"
   ]
  },
  {
   "cell_type": "code",
   "execution_count": 17,
   "metadata": {},
   "outputs": [
    {
     "name": "stdout",
     "output_type": "stream",
     "text": [
      "[('SRC', 'PXN(Y88)'), ('SRC', 'PXN(Y118)'), ('SRC', 'ANXA2P2(Y24)'), ('SRC', 'PTTG1IP(Y174)'), ('SRC', 'BCLAF1(Y284)'), ('SRC', 'HIPK2(Y361)'), ('ABL1', 'PXN(Y118)'), ('ABL1', 'ABI1(Y213)'), ('ABL1', 'RBM39(Y95)'), ('PTK2', 'PXN(Y118)')]\n",
      "{'DUSP1', 'PTPRE', 'PPP3CA', 'CDC25A', 'PPP1CA', 'PPP1CB', 'PHLPP2', 'CTDSPL', 'PPP3CB', 'CDC14B', 'PTPRG', 'PTPRJ', 'PPM1A', 'PHLPP1', 'PTPRR', 'DUSP4', 'PPP2CB', 'CDC25B', 'CDC14A', 'CDC25C', 'DUSP3', 'PPP2CA', 'PPP1CC', 'PPP3CC', 'PPM1B'}\n"
     ]
    }
   ],
   "source": [
    "# Extract edges from the data\n",
    "targets = [(row['enzyme'], row['substrate']) for _, row in es_interaction.iterrows()]\n",
    "phosphatases = set(e_function['enzyme'][e_function['function'] == 'phosphatase'].tolist())\n",
    "print(targets[:10])\n",
    "print(phosphatases)"
   ]
  },
  {
   "cell_type": "code",
   "execution_count": 43,
   "metadata": {},
   "outputs": [
    {
     "name": "stdout",
     "output_type": "stream",
     "text": [
      "Nodes in the subnetwork: ['PXN(Y118)', 'BCLAF1(Y284)', 'HIPK2(Y361)', 'PXN(Y88)', 'ABI1(Y213)', 'SRC', 'PTPRG', 'ABL1', 'PTK2', 'PTK6', 'FYN', 'HIPK2', 'PTPRR']\n",
      "Edges in the subnetwork: [('SRC', 'PXN(Y118)'), ('SRC', 'BCLAF1(Y284)'), ('SRC', 'HIPK2(Y361)'), ('SRC', 'PXN(Y88)'), ('PTPRG', 'PXN(Y118)'), ('ABL1', 'PXN(Y118)'), ('ABL1', 'ABI1(Y213)'), ('PTK2', 'PXN(Y118)'), ('PTK6', 'PXN(Y118)'), ('FYN', 'PXN(Y118)'), ('HIPK2', 'HIPK2(Y361)'), ('PTPRR', 'PXN(Y88)')]\n"
     ]
    }
   ],
   "source": [
    "subnet = prep.generate_subnetwork(e_ns=es_interaction['enzyme'].unique().tolist(), p_ns=es_interaction['substrate'].unique().tolist(), \n",
    "                                  edges=targets, num_p_nodes=9, max_e_neighbors=500, phosphatases = phosphatases, e_total=8)"
   ]
  },
  {
   "cell_type": "code",
   "execution_count": 44,
   "metadata": {},
   "outputs": [
    {
     "data": {
      "text/html": [
       "<div>\n",
       "<style scoped>\n",
       "    .dataframe tbody tr th:only-of-type {\n",
       "        vertical-align: middle;\n",
       "    }\n",
       "\n",
       "    .dataframe tbody tr th {\n",
       "        vertical-align: top;\n",
       "    }\n",
       "\n",
       "    .dataframe thead th {\n",
       "        text-align: right;\n",
       "    }\n",
       "</style>\n",
       "<table border=\"1\" class=\"dataframe\">\n",
       "  <thead>\n",
       "    <tr style=\"text-align: right;\">\n",
       "      <th></th>\n",
       "      <th>enzyme</th>\n",
       "      <th>phosphosite</th>\n",
       "    </tr>\n",
       "  </thead>\n",
       "  <tbody>\n",
       "    <tr>\n",
       "      <th>0</th>\n",
       "      <td>SRC</td>\n",
       "      <td>PXN(Y118)</td>\n",
       "    </tr>\n",
       "    <tr>\n",
       "      <th>1</th>\n",
       "      <td>SRC</td>\n",
       "      <td>BCLAF1(Y284)</td>\n",
       "    </tr>\n",
       "    <tr>\n",
       "      <th>2</th>\n",
       "      <td>SRC</td>\n",
       "      <td>HIPK2(Y361)</td>\n",
       "    </tr>\n",
       "    <tr>\n",
       "      <th>3</th>\n",
       "      <td>SRC</td>\n",
       "      <td>PXN(Y88)</td>\n",
       "    </tr>\n",
       "    <tr>\n",
       "      <th>4</th>\n",
       "      <td>PTPRG</td>\n",
       "      <td>PXN(Y118)</td>\n",
       "    </tr>\n",
       "    <tr>\n",
       "      <th>5</th>\n",
       "      <td>ABL1</td>\n",
       "      <td>PXN(Y118)</td>\n",
       "    </tr>\n",
       "    <tr>\n",
       "      <th>6</th>\n",
       "      <td>ABL1</td>\n",
       "      <td>ABI1(Y213)</td>\n",
       "    </tr>\n",
       "    <tr>\n",
       "      <th>7</th>\n",
       "      <td>PTK2</td>\n",
       "      <td>PXN(Y118)</td>\n",
       "    </tr>\n",
       "    <tr>\n",
       "      <th>8</th>\n",
       "      <td>PTK6</td>\n",
       "      <td>PXN(Y118)</td>\n",
       "    </tr>\n",
       "    <tr>\n",
       "      <th>9</th>\n",
       "      <td>FYN</td>\n",
       "      <td>PXN(Y118)</td>\n",
       "    </tr>\n",
       "    <tr>\n",
       "      <th>10</th>\n",
       "      <td>HIPK2</td>\n",
       "      <td>HIPK2(Y361)</td>\n",
       "    </tr>\n",
       "    <tr>\n",
       "      <th>11</th>\n",
       "      <td>PTPRR</td>\n",
       "      <td>PXN(Y88)</td>\n",
       "    </tr>\n",
       "  </tbody>\n",
       "</table>\n",
       "</div>"
      ],
      "text/plain": [
       "   enzyme   phosphosite\n",
       "0     SRC     PXN(Y118)\n",
       "1     SRC  BCLAF1(Y284)\n",
       "2     SRC   HIPK2(Y361)\n",
       "3     SRC      PXN(Y88)\n",
       "4   PTPRG     PXN(Y118)\n",
       "5    ABL1     PXN(Y118)\n",
       "6    ABL1    ABI1(Y213)\n",
       "7    PTK2     PXN(Y118)\n",
       "8    PTK6     PXN(Y118)\n",
       "9     FYN     PXN(Y118)\n",
       "10  HIPK2   HIPK2(Y361)\n",
       "11  PTPRR      PXN(Y88)"
      ]
     },
     "execution_count": 44,
     "metadata": {},
     "output_type": "execute_result"
    }
   ],
   "source": [
    "# make subnet into targets data frame\n",
    "targets_sub = pd.DataFrame(subnet.edges, columns=['enzyme', 'phosphosite'])\n",
    "targets_sub"
   ]
  },
  {
   "cell_type": "code",
   "execution_count": 22,
   "metadata": {},
   "outputs": [
    {
     "ename": "KeyError",
     "evalue": "\"['substrate'] not in index\"",
     "output_type": "error",
     "traceback": [
      "\u001b[0;31m---------------------------------------------------------------------------\u001b[0m",
      "\u001b[0;31mKeyError\u001b[0m                                  Traceback (most recent call last)",
      "\u001b[1;32m/Users/magdalena/OneDrive - Queen Mary, University of London/bezzlab/research/projects/phospho_pi/notebooks/ebdt_data/sub_network/p_model/01-subsetting-network.ipynb Cell 11\u001b[0m line \u001b[0;36m3\n\u001b[1;32m      <a href='vscode-notebook-cell:/Users/magdalena/OneDrive%20-%20Queen%20Mary%2C%20University%20of%20London/bezzlab/research/projects/phospho_pi/notebooks/ebdt_data/sub_network/p_model/01-subsetting-network.ipynb#X12sZmlsZQ%3D%3D?line=0'>1</a>\u001b[0m \u001b[39m# compare interaction and targets_sub by comparing list of tuples\u001b[39;00m\n\u001b[1;32m      <a href='vscode-notebook-cell:/Users/magdalena/OneDrive%20-%20Queen%20Mary%2C%20University%20of%20London/bezzlab/research/projects/phospho_pi/notebooks/ebdt_data/sub_network/p_model/01-subsetting-network.ipynb#X12sZmlsZQ%3D%3D?line=1'>2</a>\u001b[0m targets_sub_list \u001b[39m=\u001b[39m [\u001b[39mtuple\u001b[39m(x) \u001b[39mfor\u001b[39;00m x \u001b[39min\u001b[39;00m targets_sub\u001b[39m.\u001b[39mto_numpy()]\n\u001b[0;32m----> <a href='vscode-notebook-cell:/Users/magdalena/OneDrive%20-%20Queen%20Mary%2C%20University%20of%20London/bezzlab/research/projects/phospho_pi/notebooks/ebdt_data/sub_network/p_model/01-subsetting-network.ipynb#X12sZmlsZQ%3D%3D?line=2'>3</a>\u001b[0m interaction_list \u001b[39m=\u001b[39m [\u001b[39mtuple\u001b[39m(x) \u001b[39mfor\u001b[39;00m x \u001b[39min\u001b[39;00m es_interaction[[\u001b[39m'\u001b[39;49m\u001b[39menzyme\u001b[39;49m\u001b[39m'\u001b[39;49m, \u001b[39m'\u001b[39;49m\u001b[39msubstrate\u001b[39;49m\u001b[39m'\u001b[39;49m]]\u001b[39m.\u001b[39mto_numpy()]\n\u001b[1;32m      <a href='vscode-notebook-cell:/Users/magdalena/OneDrive%20-%20Queen%20Mary%2C%20University%20of%20London/bezzlab/research/projects/phospho_pi/notebooks/ebdt_data/sub_network/p_model/01-subsetting-network.ipynb#X12sZmlsZQ%3D%3D?line=3'>4</a>\u001b[0m \u001b[39mset\u001b[39m(targets_sub_list) \u001b[39m-\u001b[39m \u001b[39mset\u001b[39m(interaction_list)\n",
      "File \u001b[0;32m/opt/anaconda3/envs/phospho_pi/lib/python3.10/site-packages/pandas/core/frame.py:3811\u001b[0m, in \u001b[0;36mDataFrame.__getitem__\u001b[0;34m(self, key)\u001b[0m\n\u001b[1;32m   3809\u001b[0m     \u001b[39mif\u001b[39;00m is_iterator(key):\n\u001b[1;32m   3810\u001b[0m         key \u001b[39m=\u001b[39m \u001b[39mlist\u001b[39m(key)\n\u001b[0;32m-> 3811\u001b[0m     indexer \u001b[39m=\u001b[39m \u001b[39mself\u001b[39;49m\u001b[39m.\u001b[39;49mcolumns\u001b[39m.\u001b[39;49m_get_indexer_strict(key, \u001b[39m\"\u001b[39;49m\u001b[39mcolumns\u001b[39;49m\u001b[39m\"\u001b[39;49m)[\u001b[39m1\u001b[39m]\n\u001b[1;32m   3813\u001b[0m \u001b[39m# take() does not accept boolean indexers\u001b[39;00m\n\u001b[1;32m   3814\u001b[0m \u001b[39mif\u001b[39;00m \u001b[39mgetattr\u001b[39m(indexer, \u001b[39m\"\u001b[39m\u001b[39mdtype\u001b[39m\u001b[39m\"\u001b[39m, \u001b[39mNone\u001b[39;00m) \u001b[39m==\u001b[39m \u001b[39mbool\u001b[39m:\n",
      "File \u001b[0;32m/opt/anaconda3/envs/phospho_pi/lib/python3.10/site-packages/pandas/core/indexes/base.py:6113\u001b[0m, in \u001b[0;36mIndex._get_indexer_strict\u001b[0;34m(self, key, axis_name)\u001b[0m\n\u001b[1;32m   6110\u001b[0m \u001b[39melse\u001b[39;00m:\n\u001b[1;32m   6111\u001b[0m     keyarr, indexer, new_indexer \u001b[39m=\u001b[39m \u001b[39mself\u001b[39m\u001b[39m.\u001b[39m_reindex_non_unique(keyarr)\n\u001b[0;32m-> 6113\u001b[0m \u001b[39mself\u001b[39;49m\u001b[39m.\u001b[39;49m_raise_if_missing(keyarr, indexer, axis_name)\n\u001b[1;32m   6115\u001b[0m keyarr \u001b[39m=\u001b[39m \u001b[39mself\u001b[39m\u001b[39m.\u001b[39mtake(indexer)\n\u001b[1;32m   6116\u001b[0m \u001b[39mif\u001b[39;00m \u001b[39misinstance\u001b[39m(key, Index):\n\u001b[1;32m   6117\u001b[0m     \u001b[39m# GH 42790 - Preserve name from an Index\u001b[39;00m\n",
      "File \u001b[0;32m/opt/anaconda3/envs/phospho_pi/lib/python3.10/site-packages/pandas/core/indexes/base.py:6176\u001b[0m, in \u001b[0;36mIndex._raise_if_missing\u001b[0;34m(self, key, indexer, axis_name)\u001b[0m\n\u001b[1;32m   6173\u001b[0m     \u001b[39mraise\u001b[39;00m \u001b[39mKeyError\u001b[39;00m(\u001b[39mf\u001b[39m\u001b[39m\"\u001b[39m\u001b[39mNone of [\u001b[39m\u001b[39m{\u001b[39;00mkey\u001b[39m}\u001b[39;00m\u001b[39m] are in the [\u001b[39m\u001b[39m{\u001b[39;00maxis_name\u001b[39m}\u001b[39;00m\u001b[39m]\u001b[39m\u001b[39m\"\u001b[39m)\n\u001b[1;32m   6175\u001b[0m not_found \u001b[39m=\u001b[39m \u001b[39mlist\u001b[39m(ensure_index(key)[missing_mask\u001b[39m.\u001b[39mnonzero()[\u001b[39m0\u001b[39m]]\u001b[39m.\u001b[39munique())\n\u001b[0;32m-> 6176\u001b[0m \u001b[39mraise\u001b[39;00m \u001b[39mKeyError\u001b[39;00m(\u001b[39mf\u001b[39m\u001b[39m\"\u001b[39m\u001b[39m{\u001b[39;00mnot_found\u001b[39m}\u001b[39;00m\u001b[39m not in index\u001b[39m\u001b[39m\"\u001b[39m)\n",
      "\u001b[0;31mKeyError\u001b[0m: \"['substrate'] not in index\""
     ]
    }
   ],
   "source": [
    "# compare interaction and targets_sub by comparing list of tuples\n",
    "targets_sub_list = [tuple(x) for x in targets_sub.to_numpy()]\n",
    "interaction_list = [tuple(x) for x in es_interaction[['enzyme', 'substrate']].to_numpy()]\n",
    "set(targets_sub_list) - set(interaction_list)"
   ]
  },
  {
   "cell_type": "code",
   "execution_count": 51,
   "metadata": {},
   "outputs": [],
   "source": [
    "es_interaction = pd.read_csv('data/processed/ebdt_data/sub_network_p/es_interaction.csv')"
   ]
  },
  {
   "cell_type": "code",
   "execution_count": 52,
   "metadata": {},
   "outputs": [
    {
     "data": {
      "text/html": [
       "<div>\n",
       "<style scoped>\n",
       "    .dataframe tbody tr th:only-of-type {\n",
       "        vertical-align: middle;\n",
       "    }\n",
       "\n",
       "    .dataframe tbody tr th {\n",
       "        vertical-align: top;\n",
       "    }\n",
       "\n",
       "    .dataframe thead th {\n",
       "        text-align: right;\n",
       "    }\n",
       "</style>\n",
       "<table border=\"1\" class=\"dataframe\">\n",
       "  <thead>\n",
       "    <tr style=\"text-align: right;\">\n",
       "      <th></th>\n",
       "      <th>enzyme</th>\n",
       "      <th>phosphosite</th>\n",
       "    </tr>\n",
       "  </thead>\n",
       "  <tbody>\n",
       "    <tr>\n",
       "      <th>0</th>\n",
       "      <td>SRC</td>\n",
       "      <td>PXN(Y88)</td>\n",
       "    </tr>\n",
       "    <tr>\n",
       "      <th>1</th>\n",
       "      <td>SRC</td>\n",
       "      <td>PXN(Y118)</td>\n",
       "    </tr>\n",
       "    <tr>\n",
       "      <th>2</th>\n",
       "      <td>SRC</td>\n",
       "      <td>ANXA2P2(Y24)</td>\n",
       "    </tr>\n",
       "    <tr>\n",
       "      <th>3</th>\n",
       "      <td>SRC</td>\n",
       "      <td>PTTG1IP(Y174)</td>\n",
       "    </tr>\n",
       "    <tr>\n",
       "      <th>4</th>\n",
       "      <td>SRC</td>\n",
       "      <td>BCLAF1(Y284)</td>\n",
       "    </tr>\n",
       "    <tr>\n",
       "      <th>5</th>\n",
       "      <td>SRC</td>\n",
       "      <td>HIPK2(Y361)</td>\n",
       "    </tr>\n",
       "    <tr>\n",
       "      <th>6</th>\n",
       "      <td>ABL1</td>\n",
       "      <td>PXN(Y118)</td>\n",
       "    </tr>\n",
       "    <tr>\n",
       "      <th>7</th>\n",
       "      <td>ABL1</td>\n",
       "      <td>ABI1(Y213)</td>\n",
       "    </tr>\n",
       "    <tr>\n",
       "      <th>8</th>\n",
       "      <td>ABL1</td>\n",
       "      <td>RBM39(Y95)</td>\n",
       "    </tr>\n",
       "    <tr>\n",
       "      <th>9</th>\n",
       "      <td>PTK2</td>\n",
       "      <td>PXN(Y118)</td>\n",
       "    </tr>\n",
       "    <tr>\n",
       "      <th>10</th>\n",
       "      <td>PTPRG</td>\n",
       "      <td>PXN(Y118)</td>\n",
       "    </tr>\n",
       "    <tr>\n",
       "      <th>11</th>\n",
       "      <td>FYN</td>\n",
       "      <td>PXN(Y118)</td>\n",
       "    </tr>\n",
       "    <tr>\n",
       "      <th>12</th>\n",
       "      <td>PTK6</td>\n",
       "      <td>PXN(Y118)</td>\n",
       "    </tr>\n",
       "    <tr>\n",
       "      <th>13</th>\n",
       "      <td>HIPK2</td>\n",
       "      <td>HIPK2(Y361)</td>\n",
       "    </tr>\n",
       "    <tr>\n",
       "      <th>14</th>\n",
       "      <td>HIPK2</td>\n",
       "      <td>ATF1(S198)</td>\n",
       "    </tr>\n",
       "    <tr>\n",
       "      <th>15</th>\n",
       "      <td>PTPRR</td>\n",
       "      <td>PXN(Y88)</td>\n",
       "    </tr>\n",
       "  </tbody>\n",
       "</table>\n",
       "</div>"
      ],
      "text/plain": [
       "   enzyme    phosphosite\n",
       "0     SRC       PXN(Y88)\n",
       "1     SRC      PXN(Y118)\n",
       "2     SRC   ANXA2P2(Y24)\n",
       "3     SRC  PTTG1IP(Y174)\n",
       "4     SRC   BCLAF1(Y284)\n",
       "5     SRC    HIPK2(Y361)\n",
       "6    ABL1      PXN(Y118)\n",
       "7    ABL1     ABI1(Y213)\n",
       "8    ABL1     RBM39(Y95)\n",
       "9    PTK2      PXN(Y118)\n",
       "10  PTPRG      PXN(Y118)\n",
       "11    FYN      PXN(Y118)\n",
       "12   PTK6      PXN(Y118)\n",
       "13  HIPK2    HIPK2(Y361)\n",
       "14  HIPK2     ATF1(S198)\n",
       "15  PTPRR       PXN(Y88)"
      ]
     },
     "execution_count": 52,
     "metadata": {},
     "output_type": "execute_result"
    }
   ],
   "source": [
    "targets = [(row['enzyme'], row['phosphosite']) for _, row in es_interaction.iterrows()]"
   ]
  },
  {
   "cell_type": "code",
   "execution_count": 54,
   "metadata": {},
   "outputs": [],
   "source": [
    "import networkx as nx\n",
    "G = nx.DiGraph()\n",
    "G.add_nodes_from(es_interaction['enzyme'].unique().tolist(), bipartite=0)\n",
    "G.add_nodes_from(es_interaction['phosphosite'].unique().tolist(), bipartite=1)\n",
    "G.add_edges_from(targets)"
   ]
  },
  {
   "cell_type": "code",
   "execution_count": 70,
   "metadata": {},
   "outputs": [],
   "source": [
    "# Create a pyvis network\n",
    "net = Network()\n",
    "\n",
    "# Add nodes and edges from the bipartite graph\n",
    "for node, attributes in G.nodes(data=True):\n",
    "    if attributes[\"bipartite\"] == 0 and node in phosphatases:\n",
    "        net.add_node(node, color=\"#E0F4DA\", shape=\"square\", borderWidth=3)\n",
    "    elif attributes[\"bipartite\"] == 0:\n",
    "        net.add_node(node, color=\"#E0F4DA\", shape=\"square\", borderWidth=1.5)\n",
    "    else:\n",
    "        net.add_node(node, color=\"#D8F0F6\", borderWidth=1.5)\n",
    "\n",
    "for edge in G.edges():\n",
    "    net.add_edge(edge[0], edge[1])\n",
    "\n",
    "# Show the network\n",
    "net.show('data/processed/ebdt_data/sub_network_p/bipartite_network2.html')"
   ]
  },
  {
   "cell_type": "code",
   "execution_count": 14,
   "metadata": {},
   "outputs": [],
   "source": [
    "# Filtering\n",
    "# select fold change data for psts which are in interaction data\n",
    "p_fc_sub = p_fc[p_fc['phosphosite'].isin(targets_sub['phosphosite'])].reset_index(drop=True)\n",
    "# select activity data for enzymes which are in interaction data\n",
    "e_ksea_sub = e_ksea[e_ksea['enzyme'].isin(targets_sub['enzyme'])].reset_index(drop=True)\n",
    "# define all pst which are in fold change data or interaction data and store in data frame\n",
    "phosphosites = list(set(p_fc_sub['phosphosite'].tolist() + targets_sub['phosphosite'].tolist()))\n",
    "# define all enzymes which are in activity, interaction or enz_class data and store in data frame\n",
    "enzymes = list(set(e_ksea_sub['enzyme'].tolist() + targets_sub['enzyme'].tolist()))\n",
    "e_function_sub = e_function[e_function['enzyme'].isin(targets_sub['enzyme'])].reset_index(drop=True)"
   ]
  },
  {
   "attachments": {},
   "cell_type": "markdown",
   "metadata": {},
   "source": [
    "Building skeleton"
   ]
  },
  {
   "cell_type": "code",
   "execution_count": 15,
   "metadata": {},
   "outputs": [],
   "source": [
    "# Mapping data to Problog predicates\n",
    "predicates = {}\n",
    "predicates['enzyme'] = schema.EnzymePredicate(enzyme_list=enzymes)\n",
    "predicates['phosphosite'] = schema.PhosphositePredicate(phosphosite_list=phosphosites)\n",
    "predicates['es_interaction'] = schema.ESInteractionPredicate(dataframe=targets_sub, enzyme_col='enzyme', phosphosite_col='phosphosite')\n",
    "predicates['e_function'] = schema.EFunctionPredicate(dataframe=e_function_sub, enzyme_col='enzyme', function_col='function')\n",
    "\n",
    "# Adding entites, relationships, and fixed attributes to template model\n",
    "model_skeleton = 'models/ebdt_data/sub_network/p_model/p_model_skeleton.pl'\n",
    "\n",
    "for predicate in predicates:\n",
    "    fact_generator = build.ProblogStatementGenerator(predicates[predicate])\n",
    "    problog_facts = fact_generator.generate_facts(build.FactTemplate) # generate Problog facts\n",
    "    build.insert_statements(model=model_skeleton, statements=problog_facts, location='%% {}'.format(predicate)) # insert into Problog file"
   ]
  },
  {
   "cell_type": "code",
   "execution_count": 16,
   "metadata": {},
   "outputs": [],
   "source": [
    "# save es_interaction, e_function, e_ksea, p_fc, e_activity and p_occupancy to csv\n",
    "targets_sub.to_csv('data/processed/ebdt_data/sub_network_p/es_interaction.csv', index=False)\n",
    "e_function_sub.to_csv('data/processed/ebdt_data/sub_network_p/e_function.csv', index=False)\n",
    "e_ksea_sub.to_csv('data/processed/ebdt_data/sub_network_p/e_ksea.csv', index=False)\n",
    "p_fc_sub.to_csv('data/processed/ebdt_data/sub_network_p/p_fc.csv', index=False)"
   ]
  },
  {
   "cell_type": "code",
   "execution_count": 8,
   "metadata": {},
   "outputs": [],
   "source": [
    "es_interaction = pd.read_csv('data/processed/ebdt_data/sub_network_p/es_interaction.csv')"
   ]
  },
  {
   "cell_type": "code",
   "execution_count": 12,
   "metadata": {},
   "outputs": [
    {
     "data": {
      "text/plain": [
       "(9,)"
      ]
     },
     "execution_count": 12,
     "metadata": {},
     "output_type": "execute_result"
    }
   ],
   "source": [
    "es_interaction.phosphosite.unique().shape"
   ]
  }
 ],
 "metadata": {
  "kernelspec": {
   "display_name": "phospho_pi",
   "language": "python",
   "name": "python3"
  },
  "language_info": {
   "codemirror_mode": {
    "name": "ipython",
    "version": 3
   },
   "file_extension": ".py",
   "mimetype": "text/x-python",
   "name": "python",
   "nbconvert_exporter": "python",
   "pygments_lexer": "ipython3",
   "version": "3.10.13"
  },
  "orig_nbformat": 4
 },
 "nbformat": 4,
 "nbformat_minor": 2
}
