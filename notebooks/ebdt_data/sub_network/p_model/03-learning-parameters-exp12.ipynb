{
 "cells": [
  {
   "attachments": {},
   "cell_type": "markdown",
   "metadata": {},
   "source": [
    "#### Prerequesites:\n",
    "* Define schema (make figure) \n",
    "* Define structure (make figure)\n",
    "* Define schema class in python (src/models/model_schemata.py)\n",
    "* Convert schema + structure into model template (models/templates/p_model.pl)\n",
    "\n",
    "#### Procedure:\n",
    "* Load data\n",
    "* Adjust model script for lfi accordingly\n",
    "* Create evidence file (if I don't need different evidence files, move to builmodel notebook)\n",
    "* LFI"
   ]
  },
  {
   "attachments": {},
   "cell_type": "markdown",
   "metadata": {},
   "source": [
    "Multiple instances, 1 pst, X enzymes, one sample per instance, multiple enzymes per instance, test how many enzymes can have in one instances, how computing time depends on N p::f for 60 samples"
   ]
  },
  {
   "cell_type": "code",
   "execution_count": 3,
   "metadata": {},
   "outputs": [],
   "source": [
    "%load_ext autoreload\n",
    "%autoreload 2"
   ]
  },
  {
   "cell_type": "code",
   "execution_count": 4,
   "metadata": {},
   "outputs": [],
   "source": [
    "# Importing libraries\n",
    "import pandas as pd\n",
    "import numpy as np\n",
    "import os\n",
    "import random\n",
    "\n",
    "from src.models import model_schemata as schema\n",
    "from src.models import build_model as build\n",
    "from src.visualization import visualize as viz"
   ]
  },
  {
   "cell_type": "code",
   "execution_count": 5,
   "metadata": {},
   "outputs": [],
   "source": [
    "# os.chdir('/Users/magdalena/OneDrive - Queen Mary, University of London/bezzlab/research/projects/phospho_pi/')\n",
    "os.chdir('/home/mhuebner/Desktop/bezzlab/research/projects/phospho_pi/')"
   ]
  },
  {
   "attachments": {},
   "cell_type": "markdown",
   "metadata": {},
   "source": [
    "#### Training/Testing"
   ]
  },
  {
   "cell_type": "code",
   "execution_count": 6,
   "metadata": {},
   "outputs": [
    {
     "data": {
      "text/html": [
       "<div>\n",
       "<style scoped>\n",
       "    .dataframe tbody tr th:only-of-type {\n",
       "        vertical-align: middle;\n",
       "    }\n",
       "\n",
       "    .dataframe tbody tr th {\n",
       "        vertical-align: top;\n",
       "    }\n",
       "\n",
       "    .dataframe thead th {\n",
       "        text-align: right;\n",
       "    }\n",
       "</style>\n",
       "<table border=\"1\" class=\"dataframe\">\n",
       "  <thead>\n",
       "    <tr style=\"text-align: right;\">\n",
       "      <th></th>\n",
       "      <th>enzyme</th>\n",
       "      <th>sample</th>\n",
       "      <th>tc</th>\n",
       "      <th>value</th>\n",
       "      <th>prob</th>\n",
       "      <th>p_dec</th>\n",
       "      <th>p_inc</th>\n",
       "    </tr>\n",
       "  </thead>\n",
       "  <tbody>\n",
       "    <tr>\n",
       "      <th>0</th>\n",
       "      <td>ABL1</td>\n",
       "      <td>AC220</td>\n",
       "      <td>10.0</td>\n",
       "      <td>inc</td>\n",
       "      <td>0.649536</td>\n",
       "      <td>0.001000</td>\n",
       "      <td>0.649536</td>\n",
       "    </tr>\n",
       "    <tr>\n",
       "      <th>1</th>\n",
       "      <td>ABL1</td>\n",
       "      <td>AT13148</td>\n",
       "      <td>10.0</td>\n",
       "      <td>inc</td>\n",
       "      <td>0.591795</td>\n",
       "      <td>0.001000</td>\n",
       "      <td>0.591795</td>\n",
       "    </tr>\n",
       "    <tr>\n",
       "      <th>2</th>\n",
       "      <td>ABL1</td>\n",
       "      <td>AZ20</td>\n",
       "      <td>10.0</td>\n",
       "      <td>inc</td>\n",
       "      <td>0.652697</td>\n",
       "      <td>0.001000</td>\n",
       "      <td>0.652697</td>\n",
       "    </tr>\n",
       "    <tr>\n",
       "      <th>3</th>\n",
       "      <td>ABL1</td>\n",
       "      <td>AZD1480</td>\n",
       "      <td>10.0</td>\n",
       "      <td>inc</td>\n",
       "      <td>0.570660</td>\n",
       "      <td>0.001000</td>\n",
       "      <td>0.570660</td>\n",
       "    </tr>\n",
       "    <tr>\n",
       "      <th>4</th>\n",
       "      <td>ABL1</td>\n",
       "      <td>AZD3759</td>\n",
       "      <td>10.0</td>\n",
       "      <td>dec</td>\n",
       "      <td>0.837416</td>\n",
       "      <td>0.837416</td>\n",
       "      <td>0.001000</td>\n",
       "    </tr>\n",
       "    <tr>\n",
       "      <th>...</th>\n",
       "      <td>...</td>\n",
       "      <td>...</td>\n",
       "      <td>...</td>\n",
       "      <td>...</td>\n",
       "      <td>...</td>\n",
       "      <td>...</td>\n",
       "      <td>...</td>\n",
       "    </tr>\n",
       "    <tr>\n",
       "      <th>483</th>\n",
       "      <td>SRC</td>\n",
       "      <td>Torin</td>\n",
       "      <td>12.0</td>\n",
       "      <td>inc</td>\n",
       "      <td>0.775683</td>\n",
       "      <td>0.001000</td>\n",
       "      <td>0.775683</td>\n",
       "    </tr>\n",
       "    <tr>\n",
       "      <th>484</th>\n",
       "      <td>SRC</td>\n",
       "      <td>Trametinib</td>\n",
       "      <td>12.0</td>\n",
       "      <td>inc</td>\n",
       "      <td>0.736235</td>\n",
       "      <td>0.001000</td>\n",
       "      <td>0.736235</td>\n",
       "    </tr>\n",
       "    <tr>\n",
       "      <th>485</th>\n",
       "      <td>SRC</td>\n",
       "      <td>U73122</td>\n",
       "      <td>12.0</td>\n",
       "      <td>inc</td>\n",
       "      <td>0.551325</td>\n",
       "      <td>0.001000</td>\n",
       "      <td>0.551325</td>\n",
       "    </tr>\n",
       "    <tr>\n",
       "      <th>486</th>\n",
       "      <td>SRC</td>\n",
       "      <td>Ulixertinib</td>\n",
       "      <td>12.0</td>\n",
       "      <td>inc</td>\n",
       "      <td>0.602812</td>\n",
       "      <td>0.001000</td>\n",
       "      <td>0.602812</td>\n",
       "    </tr>\n",
       "    <tr>\n",
       "      <th>487</th>\n",
       "      <td>SRC</td>\n",
       "      <td>Vemurafenib</td>\n",
       "      <td>12.0</td>\n",
       "      <td>dec</td>\n",
       "      <td>0.797541</td>\n",
       "      <td>0.797541</td>\n",
       "      <td>0.001000</td>\n",
       "    </tr>\n",
       "  </tbody>\n",
       "</table>\n",
       "<p>488 rows × 7 columns</p>\n",
       "</div>"
      ],
      "text/plain": [
       "    enzyme       sample    tc value      prob     p_dec     p_inc\n",
       "0     ABL1        AC220  10.0   inc  0.649536  0.001000  0.649536\n",
       "1     ABL1      AT13148  10.0   inc  0.591795  0.001000  0.591795\n",
       "2     ABL1         AZ20  10.0   inc  0.652697  0.001000  0.652697\n",
       "3     ABL1      AZD1480  10.0   inc  0.570660  0.001000  0.570660\n",
       "4     ABL1      AZD3759  10.0   dec  0.837416  0.837416  0.001000\n",
       "..     ...          ...   ...   ...       ...       ...       ...\n",
       "483    SRC        Torin  12.0   inc  0.775683  0.001000  0.775683\n",
       "484    SRC   Trametinib  12.0   inc  0.736235  0.001000  0.736235\n",
       "485    SRC       U73122  12.0   inc  0.551325  0.001000  0.551325\n",
       "486    SRC  Ulixertinib  12.0   inc  0.602812  0.001000  0.602812\n",
       "487    SRC  Vemurafenib  12.0   dec  0.797541  0.797541  0.001000\n",
       "\n",
       "[488 rows x 7 columns]"
      ]
     },
     "execution_count": 6,
     "metadata": {},
     "output_type": "execute_result"
    }
   ],
   "source": [
    "# reading csv from files into dict\n",
    "data = {}\n",
    "data['e_ksea'] = pd.read_csv('data/processed/ebdt_data/sub_network_p/e_ksea.csv')\n",
    "data['p_fc'] = pd.read_csv('data/processed/ebdt_data/sub_network_p/p_fc_scaled.csv')\n",
    "data['es_interaction'] = pd.read_csv('data/processed/ebdt_data/sub_network_p/es_interaction.csv')\n",
    "data['e_ksea']"
   ]
  },
  {
   "attachments": {},
   "cell_type": "markdown",
   "metadata": {},
   "source": [
    "Splitting data into training/testing"
   ]
  },
  {
   "cell_type": "code",
   "execution_count": 11,
   "metadata": {},
   "outputs": [
    {
     "name": "stdout",
     "output_type": "stream",
     "text": [
      "['TAK715', 'TGX221', 'CHIR99021', 'CAL101', 'Ripasudil', 'KN93', 'LY2584702', 'LY2090314', 'Ku0063794', 'SP600125', 'Ribociclib', 'U73122', 'AZD5438', 'GDC0994', 'Edelfosine', 'PF3758309', 'Amuvatinib', 'AT13148', 'AZD3759', 'Go6976', 'JNJ', 'NU7441', 'GSK2334470', 'Ipatasertib', 'AZD5363', 'LY2835219', 'Torin', 'Bosutinib', 'H89', 'DNAPK', 'GDC0941', 'FRAX486', 'CX4945', 'HS173', 'Linsitinib', 'Dabrafenib', 'AZD1480', 'BX912', 'AZ20', 'TBCA', 'Selumetinib', 'GF109203X', 'AZD6482', 'AC220', 'PH797804', 'AZD8055', 'Trametinib', 'JNK']\n"
     ]
    }
   ],
   "source": [
    "# getting sample names (union of all samples in all datasets)\n",
    "samples = list(set(data['e_ksea']['sample']).union(set(data['p_fc']['sample'])))\n",
    "samples.sort()\n",
    "# sample x% of samples randomly without replacement with seed\n",
    "random.seed(612)\n",
    "train = random.sample(samples, int(len(samples)*1))\n",
    "print(train)\n",
    "# filter data\n",
    "training_data = {}\n",
    "training_data['e_ksea'] = data['e_ksea'][data['e_ksea']['sample'].isin(train)].reset_index(drop=True)\n",
    "training_data['p_fc'] = data['p_fc'][data['p_fc']['sample'].isin(train)].reset_index(drop=True)"
   ]
  },
  {
   "cell_type": "code",
   "execution_count": 12,
   "metadata": {},
   "outputs": [],
   "source": [
    "# Mapping data to Problog predicates\n",
    "predicates = {}\n",
    "predicates['e_ksea'] = schema.EKseaPredicate()\n",
    "predicates['e_ksea'].add_data(training_data['e_ksea'], 'enzyme', 'sample', 'value')\n",
    "predicates['p_fc'] = schema.PFoldChangePredicate()\n",
    "predicates['p_fc'].add_data(training_data['p_fc'], 'phosphosite', 'sample', 'value')"
   ]
  },
  {
   "cell_type": "code",
   "execution_count": 13,
   "metadata": {},
   "outputs": [],
   "source": [
    "samples = list(set(training_data['e_ksea']['sample']).union(set(training_data['p_fc']['sample'])))\n",
    "phosphosites = list(set(training_data['p_fc']['phosphosite']))\n",
    "evidence_dict = {}\n",
    "for s in samples:\n",
    "    evidence_dict[s] = {}\n",
    "    for p in phosphosites:\n",
    "        enzymes = data['es_interaction']['enzyme'][data['es_interaction']['phosphosite'] == p].tolist()\n",
    "        evid_generator = build.ProblogStatementGenerator(predicates['e_ksea'])\n",
    "        evidence_e = []\n",
    "        for e in enzymes:\n",
    "            evidence_e.extend(evid_generator.generate_facts(build.EvidenceTemplate, select=[s, e]))\n",
    "        evid_generator = build.ProblogStatementGenerator(predicates['p_fc'])\n",
    "        evidence_p = evid_generator.generate_facts(build.EvidenceTemplate, select=[s, p])\n",
    "        evidence_dict[s][p] = evidence_e + evidence_p"
   ]
  },
  {
   "cell_type": "code",
   "execution_count": 10,
   "metadata": {},
   "outputs": [],
   "source": [
    "# write evidence_dict to text file: loop over samples and separate by line of hyphens\n",
    "with open('models/ebdt_data/sub_network/p_model/evidence_exp12.pl', 'w') as f:\n",
    "    for s in evidence_dict:\n",
    "        for p in evidence_dict[s]:\n",
    "            for e in evidence_dict[s][p]:\n",
    "                f.write(e + '\\n')\n",
    "            f.write('--------------------' + '\\n')"
   ]
  },
  {
   "cell_type": "code",
   "execution_count": 14,
   "metadata": {},
   "outputs": [],
   "source": [
    "# write evidence_dict to text file: loop over samples and separate by line of hyphens\n",
    "with open('models/ebdt_data/sub_network/p_model/evidence_exp12_training.pl', 'w') as f:\n",
    "    for s in evidence_dict:\n",
    "        for p in evidence_dict[s]:\n",
    "            for e in evidence_dict[s][p]:\n",
    "                f.write(e + '\\n')\n",
    "            f.write('--------------------' + '\\n')"
   ]
  },
  {
   "attachments": {},
   "cell_type": "markdown",
   "metadata": {},
   "source": [
    "LFI"
   ]
  },
  {
   "cell_type": "code",
   "execution_count": 7,
   "metadata": {},
   "outputs": [],
   "source": [
    "DIR = 'models/ebdt_data/sub_network/p_model/'\n",
    "max_iter = 40\n",
    "# learning from interpretation\n",
    "cmd = f'problog lfi {DIR}p_model_lfi_exp12.pl {DIR}evidence_exp12.pl -O {DIR}p_model_exp12_40i.pl --logger {DIR}log_exp12-40i.txt -k ddnnf -v -n {max_iter}'\n",
    "os.system(cmd)"
   ]
  },
  {
   "cell_type": "code",
   "execution_count": 13,
   "metadata": {},
   "outputs": [
    {
     "name": "stderr",
     "output_type": "stream",
     "text": [
      "(True, 't(0.33,\"SRC\",\"KN93\")::e_activity(\"SRC\",\"KN93\",inc); t(0.33,\"SRC\",\"KN93\")::e_activity(\"SRC\",\"KN93\",dec); t(0.33,\"SRC\",\"KN93\")::e_activity(\"SRC\",\"KN93\",base).\\nt(0.33,\"ABL1\",\"KN93\")::e_activity(\"ABL1\",\"KN93\",inc); t(0.33,\"ABL1\",\"KN93\")::e_activity(\"ABL1\",\"KN93\",dec); t(0.33,\"ABL1\",\"KN93\")::e_activity(\"ABL1\",\"KN93\",base).\\nt(0.33,\"PTK2\",\"KN93\")::e_activity(\"PTK2\",\"KN93\",dec); t(0.33,\"PTK2\",\"KN93\")::e_activity(\"PTK2\",\"KN93\",base); t(0.33,\"PTK2\",\"KN93\")::e_activity(\"PTK2\",\"KN93\",inc).\\nt(0.33,\"PTPRG\",\"KN93\")::e_activity(\"PTPRG\",\"KN93\",inc); t(0.33,\"PTPRG\",\"KN93\")::e_activity(\"PTPRG\",\"KN93\",base); t(0.33,\"PTPRG\",\"KN93\")::e_activity(\"PTPRG\",\"KN93\",dec).\\nt(0.33,\"FYN\",\"KN93\")::e_activity(\"FYN\",\"KN93\",inc); t(0.33,\"FYN\",\"KN93\")::e_activity(\"FYN\",\"KN93\",dec); t(0.33,\"FYN\",\"KN93\")::e_activity(\"FYN\",\"KN93\",base).\\nt(0.33,\"PTK6\",\"KN93\")::e_activity(\"PTK6\",\"KN93\",dec); t(0.33,\"PTK6\",\"KN93\")::e_activity(\"PTK6\",\"KN93\",base); t(0.33,\"PTK6\",\"KN93\")::e_activity(\"PTK6\",\"KN93\",inc).\\nt(0.5,\"SRC\",\"PXN(Y118)\")::targets(\"SRC\",\"PXN(Y118)\").\\nt(0.5,\"ABL1\",\"PXN(Y118)\")::targets(\"ABL1\",\"PXN(Y118)\").\\nt(0.5,\"PTK2\",\"PXN(Y118)\")::targets(\"PTK2\",\"PXN(Y118)\").\\nt(0.5,\"PTPRG\",\"PXN(Y118)\")::targets(\"PTPRG\",\"PXN(Y118)\").\\nt(0.5,\"FYN\",\"PXN(Y118)\")::targets(\"FYN\",\"PXN(Y118)\").\\nt(0.5,\"PTK6\",\"PXN(Y118)\")::targets(\"PTK6\",\"PXN(Y118)\").\\n0.001::occ_dec(\"PXN(Y118)\",\"KN93\") :- targets(\"SRC\",\"PXN(Y118)\").\\n0.001::occ_dec(\"PXN(Y118)\",\"KN93\") :- targets(\"ABL1\",\"PXN(Y118)\").\\n0.001::occ_dec(\"PXN(Y118)\",\"KN93\") :- targets(\"PTK2\",\"PXN(Y118)\").\\n0.001::occ_dec(\"PXN(Y118)\",\"KN93\") :- targets(\"PTPRG\",\"PXN(Y118)\").\\n0.001::occ_dec(\"PXN(Y118)\",\"KN93\") :- targets(\"FYN\",\"PXN(Y118)\").\\n0.001::occ_dec(\"PXN(Y118)\",\"KN93\") :- targets(\"PTK6\",\"PXN(Y118)\").\\nt(0.7,\"SRC\",\"PXN(Y118)\")::occ_dec(\"PXN(Y118)\",\"KN93\") :- targets(\"SRC\",\"PXN(Y118)\"), e_activity(\"SRC\",\"KN93\",dec).\\nt(0.7,\"ABL1\",\"PXN(Y118)\")::occ_dec(\"PXN(Y118)\",\"KN93\") :- targets(\"ABL1\",\"PXN(Y118)\"), e_activity(\"ABL1\",\"KN93\",dec).\\nt(0.7,\"PTK2\",\"PXN(Y118)\")::occ_dec(\"PXN(Y118)\",\"KN93\") :- targets(\"PTK2\",\"PXN(Y118)\"), e_activity(\"PTK2\",\"KN93\",dec).\\nt(0.7,\"FYN\",\"PXN(Y118)\")::occ_dec(\"PXN(Y118)\",\"KN93\") :- targets(\"FYN\",\"PXN(Y118)\"), e_activity(\"FYN\",\"KN93\",dec).\\nt(0.7,\"PTK6\",\"PXN(Y118)\")::occ_dec(\"PXN(Y118)\",\"KN93\") :- targets(\"PTK6\",\"PXN(Y118)\"), e_activity(\"PTK6\",\"KN93\",dec).\\nt(0.7,\"PTPRG\",\"PXN(Y118)\")::occ_dec(\"PXN(Y118)\",\"KN93\") :- targets(\"PTPRG\",\"PXN(Y118)\"), e_activity(\"PTPRG\",\"KN93\",inc).\\n0.001::occ_base(\"PXN(Y118)\",\"KN93\") :- targets(\"SRC\",\"PXN(Y118)\").\\n0.001::occ_base(\"PXN(Y118)\",\"KN93\") :- targets(\"ABL1\",\"PXN(Y118)\").\\n0.001::occ_base(\"PXN(Y118)\",\"KN93\") :- targets(\"PTK2\",\"PXN(Y118)\").\\n0.001::occ_base(\"PXN(Y118)\",\"KN93\") :- targets(\"PTPRG\",\"PXN(Y118)\").\\n0.001::occ_base(\"PXN(Y118)\",\"KN93\") :- targets(\"FYN\",\"PXN(Y118)\").\\n0.001::occ_base(\"PXN(Y118)\",\"KN93\") :- targets(\"PTK6\",\"PXN(Y118)\").\\nt(0.7,\"SRC\",\"PXN(Y118)\")::occ_base(\"PXN(Y118)\",\"KN93\") :- targets(\"SRC\",\"PXN(Y118)\"), e_activity(\"SRC\",\"KN93\",base).\\nt(0.7,\"ABL1\",\"PXN(Y118)\")::occ_base(\"PXN(Y118)\",\"KN93\") :- targets(\"ABL1\",\"PXN(Y118)\"), e_activity(\"ABL1\",\"KN93\",base).\\nt(0.7,\"PTK2\",\"PXN(Y118)\")::occ_base(\"PXN(Y118)\",\"KN93\") :- targets(\"PTK2\",\"PXN(Y118)\"), e_activity(\"PTK2\",\"KN93\",base).\\nt(0.7,\"FYN\",\"PXN(Y118)\")::occ_base(\"PXN(Y118)\",\"KN93\") :- targets(\"FYN\",\"PXN(Y118)\"), e_activity(\"FYN\",\"KN93\",base).\\nt(0.7,\"PTK6\",\"PXN(Y118)\")::occ_base(\"PXN(Y118)\",\"KN93\") :- targets(\"PTK6\",\"PXN(Y118)\"), e_activity(\"PTK6\",\"KN93\",base).\\nt(0.7,\"PTPRG\",\"PXN(Y118)\")::occ_base(\"PXN(Y118)\",\"KN93\") :- targets(\"PTPRG\",\"PXN(Y118)\"), e_activity(\"PTPRG\",\"KN93\",base).\\n0.001::occ_inc(\"PXN(Y118)\",\"KN93\") :- targets(\"SRC\",\"PXN(Y118)\").\\n0.001::occ_inc(\"PXN(Y118)\",\"KN93\") :- targets(\"ABL1\",\"PXN(Y118)\").\\n0.001::occ_inc(\"PXN(Y118)\",\"KN93\") :- targets(\"PTK2\",\"PXN(Y118)\").\\n0.001::occ_inc(\"PXN(Y118)\",\"KN93\") :- targets(\"PTPRG\",\"PXN(Y118)\").\\n0.001::occ_inc(\"PXN(Y118)\",\"KN93\") :- targets(\"FYN\",\"PXN(Y118)\").\\n0.001::occ_inc(\"PXN(Y118)\",\"KN93\") :- targets(\"PTK6\",\"PXN(Y118)\").\\nt(0.7,\"SRC\",\"PXN(Y118)\")::occ_inc(\"PXN(Y118)\",\"KN93\") :- targets(\"SRC\",\"PXN(Y118)\"), e_activity(\"SRC\",\"KN93\",inc).\\nt(0.7,\"ABL1\",\"PXN(Y118)\")::occ_inc(\"PXN(Y118)\",\"KN93\") :- targets(\"ABL1\",\"PXN(Y118)\"), e_activity(\"ABL1\",\"KN93\",inc).\\nt(0.7,\"PTK2\",\"PXN(Y118)\")::occ_inc(\"PXN(Y118)\",\"KN93\") :- targets(\"PTK2\",\"PXN(Y118)\"), e_activity(\"PTK2\",\"KN93\",inc).\\nt(0.7,\"FYN\",\"PXN(Y118)\")::occ_inc(\"PXN(Y118)\",\"KN93\") :- targets(\"FYN\",\"PXN(Y118)\"), e_activity(\"FYN\",\"KN93\",inc).\\nt(0.7,\"PTK6\",\"PXN(Y118)\")::occ_inc(\"PXN(Y118)\",\"KN93\") :- targets(\"PTK6\",\"PXN(Y118)\"), e_activity(\"PTK6\",\"KN93\",inc).\\nt(0.7,\"PTPRG\",\"PXN(Y118)\")::occ_inc(\"PXN(Y118)\",\"KN93\") :- targets(\"PTPRG\",\"PXN(Y118)\"), e_activity(\"PTPRG\",\"KN93\",dec).\\nt(0.0,\"PXN(Y118)\")::p_occupancy(\"PXN(Y118)\",\"KN93\",inc) :- occ_dec(\"PXN(Y118)\",\"KN93\"), occ_base(\"PXN(Y118)\",\"KN93\"), \\\\+occ_inc(\"PXN(Y118)\",\"KN93\").\\nt(1.0,\"PXN(Y118)\")::p_occupancy(\"PXN(Y118)\",\"KN93\",inc) :- \\\\+occ_dec(\"PXN(Y118)\",\"KN93\"), occ_base(\"PXN(Y118)\",\"KN93\"), occ_inc(\"PXN(Y118)\",\"KN93\").\\nt(0.25,\"PXN(Y118)\")::p_occupancy(\"PXN(Y118)\",\"KN93\",inc) :- occ_dec(\"PXN(Y118)\",\"KN93\"), occ_base(\"PXN(Y118)\",\"KN93\"), occ_inc(\"PXN(Y118)\",\"KN93\").\\nt(0.0,\"PXN(Y118)\")::p_occupancy(\"PXN(Y118)\",\"KN93\",inc) :- \\\\+occ_dec(\"PXN(Y118)\",\"KN93\"), occ_base(\"PXN(Y118)\",\"KN93\"), \\\\+occ_inc(\"PXN(Y118)\",\"KN93\").\\nt(0.0,\"PXN(Y118)\")::p_occupancy(\"PXN(Y118)\",\"KN93\",inc) :- occ_dec(\"PXN(Y118)\",\"KN93\"), \\\\+occ_base(\"PXN(Y118)\",\"KN93\"), \\\\+occ_inc(\"PXN(Y118)\",\"KN93\").\\nt(1.0,\"PXN(Y118)\")::p_occupancy(\"PXN(Y118)\",\"KN93\",inc) :- \\\\+occ_dec(\"PXN(Y118)\",\"KN93\"), \\\\+occ_base(\"PXN(Y118)\",\"KN93\"), occ_inc(\"PXN(Y118)\",\"KN93\").\\nt(0.25,\"PXN(Y118)\")::p_occupancy(\"PXN(Y118)\",\"KN93\",inc) :- occ_dec(\"PXN(Y118)\",\"KN93\"), \\\\+occ_base(\"PXN(Y118)\",\"KN93\"), occ_inc(\"PXN(Y118)\",\"KN93\").\\nt(0.0,\"PXN(Y118)\")::p_occupancy(\"PXN(Y118)\",\"KN93\",inc) :- \\\\+occ_dec(\"PXN(Y118)\",\"KN93\"), \\\\+occ_base(\"PXN(Y118)\",\"KN93\"), \\\\+occ_inc(\"PXN(Y118)\",\"KN93\").\\nevidence(e_activity(\"SRC\",\"KN93\",inc)).\\nevidence(e_activity(\"ABL1\",\"KN93\",inc)).\\nevidence(e_activity(\"PTK2\",\"KN93\",dec)).\\nevidence(e_activity(\"PTPRG\",\"KN93\",inc)).\\nevidence(e_activity(\"FYN\",\"KN93\",inc)).\\nevidence(e_activity(\"PTK6\",\"KN93\",dec)).\\nevidence(p_occupancy(\"PXN(Y118)\",\"KN93\",inc)).')\n"
     ]
    },
    {
     "data": {
      "text/plain": [
       "256"
      ]
     },
     "execution_count": 13,
     "metadata": {},
     "output_type": "execute_result"
    }
   ],
   "source": [
    "DIR = 'models/ebdt_data/sub_network/p_model/'\n",
    "# learning from interpretation\n",
    "cmd = f'problog ground {DIR}p_model_lfi_exp12.pl -o {DIR}p_model_exp12_ground.pl --format pl'\n",
    "os.system(cmd)"
   ]
  }
 ],
 "metadata": {
  "kernelspec": {
   "display_name": "phospho_pi",
   "language": "python",
   "name": "python3"
  },
  "language_info": {
   "codemirror_mode": {
    "name": "ipython",
    "version": 3
   },
   "file_extension": ".py",
   "mimetype": "text/x-python",
   "name": "python",
   "nbconvert_exporter": "python",
   "pygments_lexer": "ipython3",
   "version": "3.11.0"
  },
  "orig_nbformat": 4
 },
 "nbformat": 4,
 "nbformat_minor": 2
}
