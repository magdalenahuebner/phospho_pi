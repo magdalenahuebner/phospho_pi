{
 "cells": [
  {
   "attachments": {},
   "cell_type": "markdown",
   "metadata": {},
   "source": [
    "#### Prerequesites:\n",
    "* Define schema (make figure) \n",
    "* Define structure (make figure)\n",
    "* Define schema class in python (src/models/model_schemata.py)\n",
    "* Convert schema + structure into model template (models/templates/p_model.pl)\n",
    "\n",
    "#### Procedure:\n",
    "* Load data\n",
    "* Adjust model script for lfi accordingly\n",
    "* Create evidence file (if I don't need different evidence files, move to builmodel notebook)\n",
    "* LFI"
   ]
  },
  {
   "attachments": {},
   "cell_type": "markdown",
   "metadata": {},
   "source": [
    "Multiple instances, 1 pst, X enzymes, one sample per instance, multiple enzymes per instance, test how many enzymes can have in one instances, how computing time depends on N p::f for 60 samples"
   ]
  },
  {
   "cell_type": "code",
   "execution_count": 1,
   "metadata": {},
   "outputs": [],
   "source": [
    "%load_ext autoreload\n",
    "%autoreload 2"
   ]
  },
  {
   "cell_type": "code",
   "execution_count": 2,
   "metadata": {},
   "outputs": [],
   "source": [
    "# Importing libraries\n",
    "import pandas as pd\n",
    "import numpy as np\n",
    "import os\n",
    "import pickle\n",
    "\n",
    "from src.models import model_schemata as schema\n",
    "from src.models import build_model as build\n",
    "from src.models import parameter_learning as lfi\n",
    "from src.models import inference as inf\n",
    "from src.visualization import visualize as viz\n"
   ]
  },
  {
   "cell_type": "code",
   "execution_count": 3,
   "metadata": {},
   "outputs": [],
   "source": [
    "os.chdir('/Users/magdalena/OneDrive - Queen Mary, University of London/bezzlab/research/projects/phospho_pi/')\n",
    "# os.chdir('/home/mhuebner/Desktop/bezzlab/research/projects/phospho_pi/')"
   ]
  },
  {
   "attachments": {},
   "cell_type": "markdown",
   "metadata": {},
   "source": [
    "#### MPE (I)"
   ]
  },
  {
   "cell_type": "code",
   "execution_count": 4,
   "metadata": {},
   "outputs": [],
   "source": [
    "# reading csv from files into dict\n",
    "data = {}\n",
    "data['e_ksea'] = pd.read_csv('data/processed/ebdt_data/sub_network_n/e_ksea.csv')\n",
    "data['p_fc'] = pd.read_csv('data/processed/ebdt_data/sub_network_n/p_fc.csv')"
   ]
  },
  {
   "cell_type": "code",
   "execution_count": 5,
   "metadata": {},
   "outputs": [],
   "source": [
    "# Adding evidence\n",
    "model_inference = 'models/ebdt_data/sub_network/n_model/n_model_exp1_mpe.pl'"
   ]
  },
  {
   "attachments": {},
   "cell_type": "markdown",
   "metadata": {},
   "source": [
    "Adding queries"
   ]
  },
  {
   "cell_type": "code",
   "execution_count": 6,
   "metadata": {},
   "outputs": [
    {
     "data": {
      "text/plain": [
       "488"
      ]
     },
     "execution_count": 6,
     "metadata": {},
     "output_type": "execute_result"
    }
   ],
   "source": [
    "sample_ids = data['e_ksea']['sample'].unique().tolist()\n",
    "enzymes = data['e_ksea']['enzyme'].unique().tolist()\n",
    "queries = inf.generate_queries(schema.EActivityPredicate, sample_ids=sample_ids, enzymes=enzymes)\n",
    "len(queries)"
   ]
  },
  {
   "cell_type": "code",
   "execution_count": 7,
   "metadata": {},
   "outputs": [
    {
     "data": {
      "text/plain": [
       "[['query(e_activity(\"ABL1\", \"AC220\", _)).',\n",
       "  'query(e_activity(\"FYN\", \"AC220\", _)).',\n",
       "  'query(e_activity(\"HIPK2\", \"AC220\", _)).',\n",
       "  'query(e_activity(\"PTK2\", \"AC220\", _)).',\n",
       "  'query(e_activity(\"PTK6\", \"AC220\", _)).',\n",
       "  'query(e_activity(\"PTPRG\", \"AC220\", _)).',\n",
       "  'query(e_activity(\"PTPRR\", \"AC220\", _)).',\n",
       "  'query(e_activity(\"SRC\", \"AC220\", _)).'],\n",
       " ['query(e_activity(\"ABL1\", \"AT13148\", _)).',\n",
       "  'query(e_activity(\"FYN\", \"AT13148\", _)).',\n",
       "  'query(e_activity(\"HIPK2\", \"AT13148\", _)).',\n",
       "  'query(e_activity(\"PTK2\", \"AT13148\", _)).',\n",
       "  'query(e_activity(\"PTK6\", \"AT13148\", _)).',\n",
       "  'query(e_activity(\"PTPRG\", \"AT13148\", _)).',\n",
       "  'query(e_activity(\"PTPRR\", \"AT13148\", _)).',\n",
       "  'query(e_activity(\"SRC\", \"AT13148\", _)).']]"
      ]
     },
     "execution_count": 7,
     "metadata": {},
     "output_type": "execute_result"
    }
   ],
   "source": [
    "# make evidence_dict['AZD5438'] into list\n",
    "query_list = []\n",
    "for s in sample_ids:\n",
    "    # return where queries contains sample\n",
    "    matches = [s in q for q in queries]\n",
    "    # select queries where sample is AC220\n",
    "    q = [item for item, condition in zip(queries, matches) if condition]\n",
    "    query_list.append(q)\n",
    "query_list[:2]"
   ]
  },
  {
   "attachments": {},
   "cell_type": "markdown",
   "metadata": {},
   "source": [
    "Adding evidence (all phosphosite and relevant enzymes)"
   ]
  },
  {
   "cell_type": "code",
   "execution_count": 8,
   "metadata": {},
   "outputs": [],
   "source": [
    "# Mapping data to Problog predicates\n",
    "predicates = {}\n",
    "predicates['p_fc'] = schema.PFoldChangePredicate()\n",
    "predicates['p_fc'].add_data(data['p_fc'], 'phosphosite', 'sample', 'value')\n",
    "predicates['e_ksea'] = schema.EKseaPredicate()\n",
    "predicates['e_ksea'].add_data(data['e_ksea'], 'enzyme', 'sample', 'value')"
   ]
  },
  {
   "cell_type": "code",
   "execution_count": 9,
   "metadata": {},
   "outputs": [],
   "source": [
    "evidence_dict = {}\n",
    "for s in sample_ids:\n",
    "    evidence_dict[s] = {}\n",
    "    #evid_generator = build.ProblogStatementGenerator(predicates['e_ksea'])\n",
    "    #evidence_e = evid_generator.generate_facts(build.EvidenceTemplate, select=[s])\n",
    "    evid_generator = build.ProblogStatementGenerator(predicates['p_fc'])\n",
    "    evidence_p = evid_generator.generate_facts(build.EvidenceTemplate, select=[s])\n",
    "    # evidence_dict[s] = evidence_e + evidence_p\n",
    "    evidence_dict[s] = evidence_p"
   ]
  },
  {
   "cell_type": "code",
   "execution_count": 10,
   "metadata": {},
   "outputs": [
    {
     "data": {
      "text/plain": [
       "[['evidence(p_fc(\"ABI1(Y213)\", \"AC220\", dec)).',\n",
       "  'evidence(p_fc(\"ABL1(S569)\", \"AC220\", inc)).',\n",
       "  'evidence(p_fc(\"ABL1(S718)\", \"AC220\", inc)).',\n",
       "  'evidence(p_fc(\"ABL1(T735)\", \"AC220\", inc)).',\n",
       "  'evidence(p_fc(\"ANXA2P2(Y24)\", \"AC220\", dec)).',\n",
       "  'evidence(p_fc(\"ATF1(S198)\", \"AC220\", dec)).',\n",
       "  'evidence(p_fc(\"BCLAF1(Y284)\", \"AC220\", inc)).',\n",
       "  'evidence(p_fc(\"HIPK2(Y361)\", \"AC220\", inc)).',\n",
       "  'evidence(p_fc(\"PTK2(S29)\", \"AC220\", dec)).',\n",
       "  'evidence(p_fc(\"PTK2(S722)\", \"AC220\", dec)).',\n",
       "  'evidence(p_fc(\"PTK2(S910)\", \"AC220\", inc)).',\n",
       "  'evidence(p_fc(\"PTPRG(S995)\", \"AC220\", inc)).',\n",
       "  'evidence(p_fc(\"PTTG1IP(Y174)\", \"AC220\", inc)).',\n",
       "  'evidence(p_fc(\"PXN(Y118)\", \"AC220\", dec)).',\n",
       "  'evidence(p_fc(\"PXN(Y88)\", \"AC220\", inc)).',\n",
       "  'evidence(p_fc(\"RBM39(Y95)\", \"AC220\", inc)).',\n",
       "  'evidence(p_fc(\"SRC(S17)\", \"AC220\", dec)).',\n",
       "  'evidence(p_fc(\"SRC(S75)\", \"AC220\", dec)).',\n",
       "  'evidence(p_fc(\"PTK2(S843)\", \"AC220\", dec)).'],\n",
       " ['evidence(p_fc(\"ABI1(Y213)\", \"AT13148\", dec)).',\n",
       "  'evidence(p_fc(\"ABL1(S569)\", \"AT13148\", inc)).',\n",
       "  'evidence(p_fc(\"ABL1(S718)\", \"AT13148\", dec)).',\n",
       "  'evidence(p_fc(\"ABL1(T735)\", \"AT13148\", inc)).',\n",
       "  'evidence(p_fc(\"ANXA2P2(Y24)\", \"AT13148\", inc)).',\n",
       "  'evidence(p_fc(\"ATF1(S198)\", \"AT13148\", dec)).',\n",
       "  'evidence(p_fc(\"BCLAF1(Y284)\", \"AT13148\", inc)).',\n",
       "  'evidence(p_fc(\"HIPK2(Y361)\", \"AT13148\", inc)).',\n",
       "  'evidence(p_fc(\"PTK2(S29)\", \"AT13148\", inc)).',\n",
       "  'evidence(p_fc(\"PTK2(S722)\", \"AT13148\", dec)).',\n",
       "  'evidence(p_fc(\"PTK2(S910)\", \"AT13148\", inc)).',\n",
       "  'evidence(p_fc(\"PTPRG(S995)\", \"AT13148\", dec)).',\n",
       "  'evidence(p_fc(\"PTTG1IP(Y174)\", \"AT13148\", inc)).',\n",
       "  'evidence(p_fc(\"PXN(Y118)\", \"AT13148\", inc)).',\n",
       "  'evidence(p_fc(\"PXN(Y88)\", \"AT13148\", dec)).',\n",
       "  'evidence(p_fc(\"RBM39(Y95)\", \"AT13148\", dec)).',\n",
       "  'evidence(p_fc(\"SRC(S17)\", \"AT13148\", inc)).',\n",
       "  'evidence(p_fc(\"SRC(S75)\", \"AT13148\", inc)).',\n",
       "  'evidence(p_fc(\"PTK2(S843)\", \"AT13148\", dec)).']]"
      ]
     },
     "execution_count": 10,
     "metadata": {},
     "output_type": "execute_result"
    }
   ],
   "source": [
    "# make evidence_dict['AZD5438'] into list\n",
    "evidence_list = []\n",
    "for s in evidence_dict.keys():\n",
    "    evidence_list.append(evidence_dict[s])\n",
    "evidence_list[:2]"
   ]
  },
  {
   "cell_type": "code",
   "execution_count": 11,
   "metadata": {},
   "outputs": [
    {
     "data": {
      "text/plain": [
       "['query(e_activity(\"ABL1\", \"AC220\", _)).']"
      ]
     },
     "execution_count": 11,
     "metadata": {},
     "output_type": "execute_result"
    }
   ],
   "source": [
    "query = [query_list[0][0]]\n",
    "query"
   ]
  },
  {
   "cell_type": "code",
   "execution_count": 12,
   "metadata": {},
   "outputs": [
    {
     "name": "stdout",
     "output_type": "stream",
     "text": [
      "['query(e_activity(\"ABL1\", \"AC220\", _)).']\n",
      "Inferring data (['query(e_activity(\"ABL1\", \"AC220\", _)).'])...\n",
      "problog mpe models/ebdt_data/sub_network/n_model/n_model_exp1_mpe.pl -o models/ebdt_data/sub_network/n_model/inference_log.txt -v\n",
      "[INFO] Output level: INFO\n",
      "[INFO] Ground program size: 155\n",
      "[INFO] Clark's completion: 0.0007s\n",
      "[INFO] CNF size: 485\n",
      "[INFO] Transform input: 0.0021s\n"
     ]
    }
   ],
   "source": [
    "inference_output = 'models/ebdt_data/sub_network/n_model/inference_log.txt'\n",
    "inf_data_dict = inf.infer_mpe(model_inference, query, inference_output, evidence=[])\n",
    "pickle.dump(inf_data_dict, open('models/ebdt_data/sub_network/n_model/predictions_mpe_allpev_exp5.pkl', 'wb'))"
   ]
  },
  {
   "cell_type": "code",
   "execution_count": 11,
   "metadata": {},
   "outputs": [
    {
     "data": {
      "text/html": [
       "<div>\n",
       "<style scoped>\n",
       "    .dataframe tbody tr th:only-of-type {\n",
       "        vertical-align: middle;\n",
       "    }\n",
       "\n",
       "    .dataframe tbody tr th {\n",
       "        vertical-align: top;\n",
       "    }\n",
       "\n",
       "    .dataframe thead th {\n",
       "        text-align: right;\n",
       "    }\n",
       "</style>\n",
       "<table border=\"1\" class=\"dataframe\">\n",
       "  <thead>\n",
       "    <tr style=\"text-align: right;\">\n",
       "      <th></th>\n",
       "      <th>enzyme</th>\n",
       "      <th>sample</th>\n",
       "      <th>value</th>\n",
       "    </tr>\n",
       "  </thead>\n",
       "  <tbody>\n",
       "    <tr>\n",
       "      <th>0</th>\n",
       "      <td>ABL1</td>\n",
       "      <td>AC220</td>\n",
       "      <td>inc</td>\n",
       "    </tr>\n",
       "    <tr>\n",
       "      <th>1</th>\n",
       "      <td>ABL1</td>\n",
       "      <td>AT13148</td>\n",
       "      <td>inc</td>\n",
       "    </tr>\n",
       "    <tr>\n",
       "      <th>2</th>\n",
       "      <td>ABL1</td>\n",
       "      <td>AZ20</td>\n",
       "      <td>inc</td>\n",
       "    </tr>\n",
       "    <tr>\n",
       "      <th>3</th>\n",
       "      <td>ABL1</td>\n",
       "      <td>AZD1480</td>\n",
       "      <td>inc</td>\n",
       "    </tr>\n",
       "    <tr>\n",
       "      <th>4</th>\n",
       "      <td>ABL1</td>\n",
       "      <td>AZD3759</td>\n",
       "      <td>dec</td>\n",
       "    </tr>\n",
       "    <tr>\n",
       "      <th>...</th>\n",
       "      <td>...</td>\n",
       "      <td>...</td>\n",
       "      <td>...</td>\n",
       "    </tr>\n",
       "    <tr>\n",
       "      <th>483</th>\n",
       "      <td>SRC</td>\n",
       "      <td>Torin</td>\n",
       "      <td>inc</td>\n",
       "    </tr>\n",
       "    <tr>\n",
       "      <th>484</th>\n",
       "      <td>SRC</td>\n",
       "      <td>Trametinib</td>\n",
       "      <td>inc</td>\n",
       "    </tr>\n",
       "    <tr>\n",
       "      <th>485</th>\n",
       "      <td>SRC</td>\n",
       "      <td>U73122</td>\n",
       "      <td>inc</td>\n",
       "    </tr>\n",
       "    <tr>\n",
       "      <th>486</th>\n",
       "      <td>SRC</td>\n",
       "      <td>Ulixertinib</td>\n",
       "      <td>inc</td>\n",
       "    </tr>\n",
       "    <tr>\n",
       "      <th>487</th>\n",
       "      <td>SRC</td>\n",
       "      <td>Vemurafenib</td>\n",
       "      <td>dec</td>\n",
       "    </tr>\n",
       "  </tbody>\n",
       "</table>\n",
       "<p>488 rows × 3 columns</p>\n",
       "</div>"
      ],
      "text/plain": [
       "    enzyme       sample value\n",
       "0     ABL1        AC220   inc\n",
       "1     ABL1      AT13148   inc\n",
       "2     ABL1         AZ20   inc\n",
       "3     ABL1      AZD1480   inc\n",
       "4     ABL1      AZD3759   dec\n",
       "..     ...          ...   ...\n",
       "483    SRC        Torin   inc\n",
       "484    SRC   Trametinib   inc\n",
       "485    SRC       U73122   inc\n",
       "486    SRC  Ulixertinib   inc\n",
       "487    SRC  Vemurafenib   dec\n",
       "\n",
       "[488 rows x 3 columns]"
      ]
     },
     "execution_count": 11,
     "metadata": {},
     "output_type": "execute_result"
    }
   ],
   "source": [
    "inf_data_dict['e_activity']"
   ]
  }
 ],
 "metadata": {
  "kernelspec": {
   "display_name": "phospho_pi",
   "language": "python",
   "name": "python3"
  },
  "language_info": {
   "codemirror_mode": {
    "name": "ipython",
    "version": 3
   },
   "file_extension": ".py",
   "mimetype": "text/x-python",
   "name": "python",
   "nbconvert_exporter": "python",
   "pygments_lexer": "ipython3",
   "version": "3.10.13"
  },
  "orig_nbformat": 4
 },
 "nbformat": 4,
 "nbformat_minor": 2
}
