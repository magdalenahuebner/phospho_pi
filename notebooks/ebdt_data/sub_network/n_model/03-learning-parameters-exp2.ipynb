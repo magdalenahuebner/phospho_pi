{
 "cells": [
  {
   "attachments": {},
   "cell_type": "markdown",
   "metadata": {},
   "source": [
    "#### Prerequesites:\n",
    "* Define schema (make figure) \n",
    "* Define structure (make figure)\n",
    "* Define schema class in python (src/models/model_schemata.py)\n",
    "* Convert schema + structure into model template (models/templates/p_model.pl)\n",
    "\n",
    "#### Procedure:\n",
    "* Load data\n",
    "* Adjust model script for lfi accordingly\n",
    "* Create evidence file (if I don't need different evidence files, move to builmodel notebook)\n",
    "* LFI"
   ]
  },
  {
   "attachments": {},
   "cell_type": "markdown",
   "metadata": {},
   "source": [
    "Multiple instances, 1 pst, X enzymes, one sample per instance, multiple enzymes per instance, test how many enzymes can have in one instances, how computing time depends on N p::f for 60 samples"
   ]
  },
  {
   "cell_type": "code",
   "execution_count": 1,
   "metadata": {},
   "outputs": [],
   "source": [
    "%load_ext autoreload\n",
    "%autoreload 2"
   ]
  },
  {
   "cell_type": "code",
   "execution_count": 2,
   "metadata": {},
   "outputs": [],
   "source": [
    "# Importing libraries\n",
    "import pandas as pd\n",
    "import numpy as np\n",
    "import os\n",
    "import random\n",
    "\n",
    "from src.models import model_schemata as schema\n",
    "from src.models import build_model as build\n",
    "from src.visualization import visualize as viz"
   ]
  },
  {
   "cell_type": "code",
   "execution_count": 3,
   "metadata": {},
   "outputs": [],
   "source": [
    "os.chdir('/Users/magdalena/OneDrive - Queen Mary, University of London/bezzlab/research/projects/phospho_pi/')\n",
    "# os.chdir('/home/mhuebner/Desktop/bezzlab/research/projects/phospho_pi/')"
   ]
  },
  {
   "attachments": {},
   "cell_type": "markdown",
   "metadata": {},
   "source": [
    "#### Training/Testing"
   ]
  },
  {
   "cell_type": "code",
   "execution_count": 17,
   "metadata": {},
   "outputs": [
    {
     "data": {
      "text/html": [
       "<div>\n",
       "<style scoped>\n",
       "    .dataframe tbody tr th:only-of-type {\n",
       "        vertical-align: middle;\n",
       "    }\n",
       "\n",
       "    .dataframe tbody tr th {\n",
       "        vertical-align: top;\n",
       "    }\n",
       "\n",
       "    .dataframe thead th {\n",
       "        text-align: right;\n",
       "    }\n",
       "</style>\n",
       "<table border=\"1\" class=\"dataframe\">\n",
       "  <thead>\n",
       "    <tr style=\"text-align: right;\">\n",
       "      <th></th>\n",
       "      <th>enzyme</th>\n",
       "      <th>sample</th>\n",
       "      <th>tc</th>\n",
       "      <th>value</th>\n",
       "      <th>prob</th>\n",
       "      <th>p_dec</th>\n",
       "      <th>p_inc</th>\n",
       "    </tr>\n",
       "  </thead>\n",
       "  <tbody>\n",
       "    <tr>\n",
       "      <th>0</th>\n",
       "      <td>ABL1</td>\n",
       "      <td>AC220</td>\n",
       "      <td>10.0</td>\n",
       "      <td>inc</td>\n",
       "      <td>0.648536</td>\n",
       "      <td>0.001000</td>\n",
       "      <td>0.648536</td>\n",
       "    </tr>\n",
       "    <tr>\n",
       "      <th>1</th>\n",
       "      <td>ABL1</td>\n",
       "      <td>AT13148</td>\n",
       "      <td>10.0</td>\n",
       "      <td>inc</td>\n",
       "      <td>0.590795</td>\n",
       "      <td>0.001000</td>\n",
       "      <td>0.590795</td>\n",
       "    </tr>\n",
       "    <tr>\n",
       "      <th>2</th>\n",
       "      <td>ABL1</td>\n",
       "      <td>AZ20</td>\n",
       "      <td>10.0</td>\n",
       "      <td>inc</td>\n",
       "      <td>0.651697</td>\n",
       "      <td>0.001000</td>\n",
       "      <td>0.651697</td>\n",
       "    </tr>\n",
       "    <tr>\n",
       "      <th>3</th>\n",
       "      <td>ABL1</td>\n",
       "      <td>AZD1480</td>\n",
       "      <td>10.0</td>\n",
       "      <td>inc</td>\n",
       "      <td>0.569660</td>\n",
       "      <td>0.001000</td>\n",
       "      <td>0.569660</td>\n",
       "    </tr>\n",
       "    <tr>\n",
       "      <th>4</th>\n",
       "      <td>ABL1</td>\n",
       "      <td>AZD3759</td>\n",
       "      <td>10.0</td>\n",
       "      <td>dec</td>\n",
       "      <td>0.836416</td>\n",
       "      <td>0.836416</td>\n",
       "      <td>0.001000</td>\n",
       "    </tr>\n",
       "    <tr>\n",
       "      <th>...</th>\n",
       "      <td>...</td>\n",
       "      <td>...</td>\n",
       "      <td>...</td>\n",
       "      <td>...</td>\n",
       "      <td>...</td>\n",
       "      <td>...</td>\n",
       "      <td>...</td>\n",
       "    </tr>\n",
       "    <tr>\n",
       "      <th>483</th>\n",
       "      <td>SRC</td>\n",
       "      <td>Torin</td>\n",
       "      <td>12.0</td>\n",
       "      <td>inc</td>\n",
       "      <td>0.774683</td>\n",
       "      <td>0.001000</td>\n",
       "      <td>0.774683</td>\n",
       "    </tr>\n",
       "    <tr>\n",
       "      <th>484</th>\n",
       "      <td>SRC</td>\n",
       "      <td>Trametinib</td>\n",
       "      <td>12.0</td>\n",
       "      <td>inc</td>\n",
       "      <td>0.735235</td>\n",
       "      <td>0.001000</td>\n",
       "      <td>0.735235</td>\n",
       "    </tr>\n",
       "    <tr>\n",
       "      <th>485</th>\n",
       "      <td>SRC</td>\n",
       "      <td>U73122</td>\n",
       "      <td>12.0</td>\n",
       "      <td>inc</td>\n",
       "      <td>0.550325</td>\n",
       "      <td>0.001000</td>\n",
       "      <td>0.550325</td>\n",
       "    </tr>\n",
       "    <tr>\n",
       "      <th>486</th>\n",
       "      <td>SRC</td>\n",
       "      <td>Ulixertinib</td>\n",
       "      <td>12.0</td>\n",
       "      <td>inc</td>\n",
       "      <td>0.601812</td>\n",
       "      <td>0.001000</td>\n",
       "      <td>0.601812</td>\n",
       "    </tr>\n",
       "    <tr>\n",
       "      <th>487</th>\n",
       "      <td>SRC</td>\n",
       "      <td>Vemurafenib</td>\n",
       "      <td>12.0</td>\n",
       "      <td>dec</td>\n",
       "      <td>0.796541</td>\n",
       "      <td>0.796541</td>\n",
       "      <td>0.001000</td>\n",
       "    </tr>\n",
       "  </tbody>\n",
       "</table>\n",
       "<p>488 rows × 7 columns</p>\n",
       "</div>"
      ],
      "text/plain": [
       "    enzyme       sample    tc value      prob     p_dec     p_inc\n",
       "0     ABL1        AC220  10.0   inc  0.648536  0.001000  0.648536\n",
       "1     ABL1      AT13148  10.0   inc  0.590795  0.001000  0.590795\n",
       "2     ABL1         AZ20  10.0   inc  0.651697  0.001000  0.651697\n",
       "3     ABL1      AZD1480  10.0   inc  0.569660  0.001000  0.569660\n",
       "4     ABL1      AZD3759  10.0   dec  0.836416  0.836416  0.001000\n",
       "..     ...          ...   ...   ...       ...       ...       ...\n",
       "483    SRC        Torin  12.0   inc  0.774683  0.001000  0.774683\n",
       "484    SRC   Trametinib  12.0   inc  0.735235  0.001000  0.735235\n",
       "485    SRC       U73122  12.0   inc  0.550325  0.001000  0.550325\n",
       "486    SRC  Ulixertinib  12.0   inc  0.601812  0.001000  0.601812\n",
       "487    SRC  Vemurafenib  12.0   dec  0.796541  0.796541  0.001000\n",
       "\n",
       "[488 rows x 7 columns]"
      ]
     },
     "execution_count": 17,
     "metadata": {},
     "output_type": "execute_result"
    }
   ],
   "source": [
    "# reading csv from files into dict\n",
    "data = {}\n",
    "data['e_ksea'] = pd.read_csv('data/processed/ebdt_data/sub_network_n/e_ksea.csv')\n",
    "data['p_fc'] = pd.read_csv('data/processed/ebdt_data/sub_network_n/p_fc.csv')\n",
    "data['es_interaction'] = pd.read_csv('data/processed/ebdt_data/sub_network_n/es_interaction.csv')\n",
    "data['p_regulates'] = pd.read_csv('data/processed/ebdt_data/sub_network_n/p_regulates.csv')\n",
    "data['e_ksea']"
   ]
  },
  {
   "cell_type": "code",
   "execution_count": 5,
   "metadata": {},
   "outputs": [
    {
     "data": {
      "text/plain": [
       "ABI1(Y213)       61\n",
       "PTK2(S910)       61\n",
       "SRC(S75)         61\n",
       "SRC(S17)         61\n",
       "RBM39(Y95)       61\n",
       "PXN(Y88)         61\n",
       "PXN(Y118)        61\n",
       "PTTG1IP(Y174)    61\n",
       "PTPRG(S995)      61\n",
       "PTK2(S722)       61\n",
       "ABL1(S569)       61\n",
       "PTK2(S29)        61\n",
       "HIPK2(Y361)      61\n",
       "BCLAF1(Y284)     61\n",
       "ATF1(S198)       61\n",
       "ANXA2P2(Y24)     61\n",
       "ABL1(T735)       61\n",
       "ABL1(S718)       61\n",
       "PTK2(S843)       61\n",
       "Name: phosphosite, dtype: int64"
      ]
     },
     "execution_count": 5,
     "metadata": {},
     "output_type": "execute_result"
    }
   ],
   "source": [
    "data['p_fc']['phosphosite'].value_counts()"
   ]
  },
  {
   "attachments": {},
   "cell_type": "markdown",
   "metadata": {},
   "source": [
    "Splitting data into training/testing"
   ]
  },
  {
   "cell_type": "code",
   "execution_count": 18,
   "metadata": {},
   "outputs": [
    {
     "name": "stdout",
     "output_type": "stream",
     "text": [
      "['TAK715', 'TGX221', 'CHIR99021', 'CAL101', 'Ripasudil', 'KN93', 'LY2584702', 'LY2090314', 'Ku0063794', 'SP600125', 'Ribociclib', 'U73122', 'AZD5438', 'GDC0994', 'Edelfosine', 'PF3758309', 'Amuvatinib', 'AT13148', 'AZD3759', 'Go6976', 'JNJ', 'NU7441', 'GSK2334470', 'Ipatasertib', 'AZD5363', 'LY2835219', 'Torin', 'Bosutinib', 'H89', 'DNAPK', 'GDC0941', 'FRAX486', 'CX4945', 'HS173', 'Linsitinib', 'Dabrafenib', 'AZD1480', 'BX912', 'AZ20', 'TBCA', 'Selumetinib', 'GF109203X', 'AZD6482', 'AC220', 'PH797804', 'AZD8055', 'Trametinib', 'JNK', 'GSK690693', 'KD025', 'Vemurafenib', 'PF4708671', 'Tofacitinib', 'MK2206', 'GO6983', 'Dasatinib', 'AZD6738', 'PIK294', 'PD153035', 'KN62', 'Ulixertinib']\n"
     ]
    }
   ],
   "source": [
    "# getting sample names (union of all samples in all datasets)\n",
    "samples = list(set(data['e_ksea']['sample']).union(set(data['p_fc']['sample'])))\n",
    "samples.sort()\n",
    "# sample x% of samples randomly without replacement with seed\n",
    "random.seed(612)\n",
    "train = random.sample(samples, int(len(samples)*1))\n",
    "print(train)\n",
    "# filter data\n",
    "training_data = {}\n",
    "training_data['e_ksea'] = data['e_ksea'][data['e_ksea']['sample'].isin(train)].reset_index(drop=True)\n",
    "training_data['p_fc'] = data['p_fc'][data['p_fc']['sample'].isin(train)].reset_index(drop=True)"
   ]
  },
  {
   "cell_type": "code",
   "execution_count": 11,
   "metadata": {},
   "outputs": [],
   "source": [
    "# Mapping data to Problog predicates\n",
    "predicates = {}\n",
    "predicates['e_ksea'] = schema.EKseaPredicate()\n",
    "predicates['e_ksea'].add_data(training_data['e_ksea'], 'enzyme', 'sample', 'value')\n",
    "predicates['p_fc'] = schema.PFoldChangePredicate()\n",
    "predicates['p_fc'].add_data(training_data['p_fc'], 'phosphosite', 'sample', 'value')"
   ]
  },
  {
   "cell_type": "code",
   "execution_count": 12,
   "metadata": {},
   "outputs": [],
   "source": [
    "samples = list(set(training_data['e_ksea']['sample']).union(set(training_data['p_fc']['sample'])))\n",
    "enzymes = list(set(data['p_regulates']['protein'].tolist() + data['es_interaction']['enzyme'].tolist()))\n",
    "evidence_dict = {}\n",
    "for s in samples:\n",
    "    evidence_dict[s] = {}\n",
    "    for e0 in enzymes:\n",
    "        evidence_dict[s][e0] = {}\n",
    "        phosphosites = data['p_regulates']['phosphosite'][data['p_regulates']['protein'] == e0].tolist()\n",
    "        for p in phosphosites:\n",
    "            evid_generator_e = build.ProblogStatementGenerator(predicates['e_ksea'])\n",
    "            evidence_e0 = evid_generator_e.generate_facts(build.EvidenceTemplate, select=[s, e0])\n",
    "            evid_generator_p = build.ProblogStatementGenerator(predicates['p_fc'])\n",
    "            evidence_p = evid_generator_p.generate_facts(build.EvidenceTemplate, select=[s, p])\n",
    "            enzymes_p = data['es_interaction']['enzyme'][data['es_interaction']['phosphosite'] == p].tolist()\n",
    "            evidence_e = []\n",
    "            for e in enzymes_p:\n",
    "                evidence_e.extend(evid_generator_e.generate_facts(build.EvidenceTemplate, select=[s, e]))\n",
    "            evidence_dict[s][e0][p] = evidence_e0 + evidence_p + evidence_e\n",
    "        if len(phosphosites) == 0:\n",
    "            evid_generator_e = build.ProblogStatementGenerator(predicates['e_ksea'])\n",
    "            evidence_e0 = evid_generator_e.generate_facts(build.EvidenceTemplate, select=[s, e0])\n",
    "            evidence_dict[s][e0][e0] = evidence_e0"
   ]
  },
  {
   "cell_type": "code",
   "execution_count": 9,
   "metadata": {},
   "outputs": [],
   "source": [
    "# write evidence_dict to text file: loop over samples and separate by line of hyphens\n",
    "with open('models/ebdt_data/sub_network/n_model/evidence_exp2.pl', 'w') as f:\n",
    "    for s in evidence_dict:\n",
    "        for e in evidence_dict[s]:\n",
    "            for p in evidence_dict[s][e]:\n",
    "                for fact in evidence_dict[s][e][p]:\n",
    "                    f.write(fact + '\\n')\n",
    "                f.write('--------------------' + '\\n')"
   ]
  },
  {
   "cell_type": "code",
   "execution_count": 13,
   "metadata": {},
   "outputs": [],
   "source": [
    "# write evidence_dict to text file: loop over samples and separate by line of hyphens\n",
    "with open('models/ebdt_data/sub_network/n_model/evidence_exp2_training.pl', 'w') as f:\n",
    "    for s in evidence_dict:\n",
    "        for e in evidence_dict[s]:\n",
    "            for p in evidence_dict[s][e]:\n",
    "                for fact in evidence_dict[s][e][p]:\n",
    "                    f.write(fact + '\\n')\n",
    "                f.write('--------------------' + '\\n')"
   ]
  },
  {
   "attachments": {},
   "cell_type": "markdown",
   "metadata": {},
   "source": [
    "LFI"
   ]
  },
  {
   "cell_type": "code",
   "execution_count": 19,
   "metadata": {},
   "outputs": [
    {
     "name": "stdout",
     "output_type": "stream",
     "text": [
      "DSharpError: DSharp has encountered an error. This is a known issue. See KNOWN_ISSUES for details on how to resolve this problem.\n"
     ]
    },
    {
     "data": {
      "text/plain": [
       "256"
      ]
     },
     "execution_count": 19,
     "metadata": {},
     "output_type": "execute_result"
    }
   ],
   "source": [
    "DIR = 'models/ebdt_data/sub_network/n_model/'\n",
    "max_iter = 1\n",
    "# learning from interpretation\n",
    "cmd = f'problog lfi {DIR}n_model_lfi_exp2.pl {DIR}evidence_exp2.pl -O {DIR}n_model_exp2_1i.pl --logger {DIR}log_exp2-1i.txt -k ddnnf -v -n {max_iter}'\n",
    "os.system(cmd)"
   ]
  },
  {
   "cell_type": "code",
   "execution_count": 4,
   "metadata": {},
   "outputs": [
    {
     "name": "stderr",
     "output_type": "stream",
     "text": [
      "(True, '0.001::occ_dec(\"ABI1(Y213)\",\"AT13148\").\\nt(0.5,\"ABL1\",\"ABI1(Y213)\")::targets(\"ABL1\",\"ABI1(Y213)\").\\n0.001::occ_dec(\"ABI1(Y213)\",\"AT13148\") :- targets(\"ABL1\",\"ABI1(Y213)\").\\n0.001::act_dec(\"ABL1\",\"AT13148\").\\n0.001::act_dec(\"ABL1\",\"AT13148\").\\n0.001::act_dec(\"ABL1\",\"AT13148\").\\n0.001::act_dec(\"ABL1\",\"AT13148\").\\n0.001::occ_dec(\"ABL1(S569)\",\"AT13148\").\\n0.001::occ_inc(\"ABL1(S569)\",\"AT13148\").\\nt(1.0,\"ABL1(S569)\")::p_occupancy(\"ABL1(S569)\",\"AT13148\",dec); t(0.0,\"ABL1(S569)\")::p_occupancy(\"ABL1(S569)\",\"AT13148\",inc) :- occ_dec(\"ABL1(S569)\",\"AT13148\"), \\\\+occ_inc(\"ABL1(S569)\",\"AT13148\").\\nt(0.0,\"ABL1(S569)\")::p_occupancy(\"ABL1(S569)\",\"AT13148\",dec); t(1.0,\"ABL1(S569)\")::p_occupancy(\"ABL1(S569)\",\"AT13148\",inc) :- \\\\+occ_dec(\"ABL1(S569)\",\"AT13148\"), occ_inc(\"ABL1(S569)\",\"AT13148\").\\nt(0.5,\"ABL1(S569)\")::p_occupancy(\"ABL1(S569)\",\"AT13148\",dec); t(0.5,\"ABL1(S569)\")::p_occupancy(\"ABL1(S569)\",\"AT13148\",inc) :- occ_dec(\"ABL1(S569)\",\"AT13148\"), occ_inc(\"ABL1(S569)\",\"AT13148\").\\nt(0.0,\"ABL1(S569)\")::p_occupancy(\"ABL1(S569)\",\"AT13148\",dec); t(0.0,\"ABL1(S569)\")::p_occupancy(\"ABL1(S569)\",\"AT13148\",inc) :- \\\\+occ_dec(\"ABL1(S569)\",\"AT13148\"), \\\\+occ_inc(\"ABL1(S569)\",\"AT13148\").\\nt(0.33)::p_function(\"ABL1(S718)\",p_inc); t(0.33)::p_function(\"ABL1(S718)\",p_dec).\\n0.001::occ_dec(\"ABL1(S718)\",\"AT13148\").\\n0.001::occ_inc(\"ABL1(S718)\",\"AT13148\").\\nt(1.0,\"ABL1(S718)\")::p_occupancy(\"ABL1(S718)\",\"AT13148\",dec); t(0.0,\"ABL1(S718)\")::p_occupancy(\"ABL1(S718)\",\"AT13148\",inc) :- occ_dec(\"ABL1(S718)\",\"AT13148\"), \\\\+occ_inc(\"ABL1(S718)\",\"AT13148\").\\nt(0.0,\"ABL1(S718)\")::p_occupancy(\"ABL1(S718)\",\"AT13148\",dec); t(1.0,\"ABL1(S718)\")::p_occupancy(\"ABL1(S718)\",\"AT13148\",inc) :- \\\\+occ_dec(\"ABL1(S718)\",\"AT13148\"), occ_inc(\"ABL1(S718)\",\"AT13148\").\\nt(0.5,\"ABL1(S718)\")::p_occupancy(\"ABL1(S718)\",\"AT13148\",dec); t(0.5,\"ABL1(S718)\")::p_occupancy(\"ABL1(S718)\",\"AT13148\",inc) :- occ_dec(\"ABL1(S718)\",\"AT13148\"), occ_inc(\"ABL1(S718)\",\"AT13148\").\\nt(0.0,\"ABL1(S718)\")::p_occupancy(\"ABL1(S718)\",\"AT13148\",dec); t(0.0,\"ABL1(S718)\")::p_occupancy(\"ABL1(S718)\",\"AT13148\",inc) :- \\\\+occ_dec(\"ABL1(S718)\",\"AT13148\"), \\\\+occ_inc(\"ABL1(S718)\",\"AT13148\").\\nt(0.7,\"ABL1(S569)\",\"ABL1\")::act_dec(\"ABL1\",\"AT13148\") :- p_occupancy(\"ABL1(S569)\",\"AT13148\",dec).\\nt(0.7,\"ABL1(S718)\",\"ABL1\")::act_dec(\"ABL1\",\"AT13148\") :- p_function(\"ABL1(S718)\",p_inc), p_occupancy(\"ABL1(S718)\",\"AT13148\",dec).\\n0.001::occ_dec(\"ABL1(T735)\",\"AT13148\").\\n0.001::occ_inc(\"ABL1(T735)\",\"AT13148\").\\nt(0.0,\"ABL1(T735)\")::p_occupancy(\"ABL1(T735)\",\"AT13148\",inc); t(1.0,\"ABL1(T735)\")::p_occupancy(\"ABL1(T735)\",\"AT13148\",dec) :- occ_dec(\"ABL1(T735)\",\"AT13148\"), \\\\+occ_inc(\"ABL1(T735)\",\"AT13148\").\\nt(1.0,\"ABL1(T735)\")::p_occupancy(\"ABL1(T735)\",\"AT13148\",inc); t(0.0,\"ABL1(T735)\")::p_occupancy(\"ABL1(T735)\",\"AT13148\",dec) :- \\\\+occ_dec(\"ABL1(T735)\",\"AT13148\"), occ_inc(\"ABL1(T735)\",\"AT13148\").\\nt(0.5,\"ABL1(T735)\")::p_occupancy(\"ABL1(T735)\",\"AT13148\",inc); t(0.5,\"ABL1(T735)\")::p_occupancy(\"ABL1(T735)\",\"AT13148\",dec) :- occ_dec(\"ABL1(T735)\",\"AT13148\"), occ_inc(\"ABL1(T735)\",\"AT13148\").\\nt(0.0,\"ABL1(T735)\")::p_occupancy(\"ABL1(T735)\",\"AT13148\",inc); t(0.0,\"ABL1(T735)\")::p_occupancy(\"ABL1(T735)\",\"AT13148\",dec) :- \\\\+occ_dec(\"ABL1(T735)\",\"AT13148\"), \\\\+occ_inc(\"ABL1(T735)\",\"AT13148\").\\nt(0.7,\"ABL1(S718)\",\"ABL1\")::act_dec(\"ABL1\",\"AT13148\") :- p_function(\"ABL1(S718)\",p_dec), p_occupancy(\"ABL1(S718)\",\"AT13148\",inc).\\nt(0.7,\"ABL1(T735)\",\"ABL1\")::act_dec(\"ABL1\",\"AT13148\") :- p_occupancy(\"ABL1(T735)\",\"AT13148\",inc).\\n0.001::act_inc(\"ABL1\",\"AT13148\").\\n0.001::act_inc(\"ABL1\",\"AT13148\").\\n0.001::act_inc(\"ABL1\",\"AT13148\").\\n0.001::act_inc(\"ABL1\",\"AT13148\").\\nt(0.7,\"ABL1(S569)\",\"ABL1\")::act_inc(\"ABL1\",\"AT13148\") :- p_occupancy(\"ABL1(S569)\",\"AT13148\",inc).\\nt(0.7,\"ABL1(S718)\",\"ABL1\")::act_inc(\"ABL1\",\"AT13148\") :- p_function(\"ABL1(S718)\",p_inc), p_occupancy(\"ABL1(S718)\",\"AT13148\",inc).\\nt(0.7,\"ABL1(S718)\",\"ABL1\")::act_inc(\"ABL1\",\"AT13148\") :- p_function(\"ABL1(S718)\",p_dec), p_occupancy(\"ABL1(S718)\",\"AT13148\",dec).\\nt(0.7,\"ABL1(T735)\",\"ABL1\")::act_inc(\"ABL1\",\"AT13148\") :- p_occupancy(\"ABL1(T735)\",\"AT13148\",dec).\\nt(1.0,\"ABL1\")::e_activity(\"ABL1\",\"AT13148\",dec); t(0.0,\"ABL1\")::e_activity(\"ABL1\",\"AT13148\",inc) :- act_dec(\"ABL1\",\"AT13148\"), \\\\+act_inc(\"ABL1\",\"AT13148\").\\nt(0.0,\"ABL1\")::e_activity(\"ABL1\",\"AT13148\",dec); t(1.0,\"ABL1\")::e_activity(\"ABL1\",\"AT13148\",inc) :- \\\\+act_dec(\"ABL1\",\"AT13148\"), act_inc(\"ABL1\",\"AT13148\").\\nt(0.5,\"ABL1\")::e_activity(\"ABL1\",\"AT13148\",dec); t(0.5,\"ABL1\")::e_activity(\"ABL1\",\"AT13148\",inc) :- act_dec(\"ABL1\",\"AT13148\"), act_inc(\"ABL1\",\"AT13148\").\\nt(0.0,\"ABL1\")::e_activity(\"ABL1\",\"AT13148\",dec); t(0.0,\"ABL1\")::e_activity(\"ABL1\",\"AT13148\",inc) :- \\\\+act_dec(\"ABL1\",\"AT13148\"), \\\\+act_inc(\"ABL1\",\"AT13148\").\\nt(0.7,\"ABL1\",\"ABI1(Y213)\")::occ_dec(\"ABI1(Y213)\",\"AT13148\") :- targets(\"ABL1\",\"ABI1(Y213)\"), e_activity(\"ABL1\",\"AT13148\",dec).\\n0.001::occ_inc(\"ABI1(Y213)\",\"AT13148\").\\n0.001::occ_inc(\"ABI1(Y213)\",\"AT13148\") :- targets(\"ABL1\",\"ABI1(Y213)\").\\nt(0.7,\"ABL1\",\"ABI1(Y213)\")::occ_inc(\"ABI1(Y213)\",\"AT13148\") :- targets(\"ABL1\",\"ABI1(Y213)\"), e_activity(\"ABL1\",\"AT13148\",inc).\\nt(1.0,\"ABI1(Y213)\")::p_occupancy(\"ABI1(Y213)\",\"AT13148\",dec); t(0.0,\"ABI1(Y213)\")::p_occupancy(\"ABI1(Y213)\",\"AT13148\",inc) :- occ_dec(\"ABI1(Y213)\",\"AT13148\"), \\\\+occ_inc(\"ABI1(Y213)\",\"AT13148\").\\nt(0.0,\"ABI1(Y213)\")::p_occupancy(\"ABI1(Y213)\",\"AT13148\",dec); t(1.0,\"ABI1(Y213)\")::p_occupancy(\"ABI1(Y213)\",\"AT13148\",inc) :- \\\\+occ_dec(\"ABI1(Y213)\",\"AT13148\"), occ_inc(\"ABI1(Y213)\",\"AT13148\").\\nt(0.5,\"ABI1(Y213)\")::p_occupancy(\"ABI1(Y213)\",\"AT13148\",dec); t(0.5,\"ABI1(Y213)\")::p_occupancy(\"ABI1(Y213)\",\"AT13148\",inc) :- occ_dec(\"ABI1(Y213)\",\"AT13148\"), occ_inc(\"ABI1(Y213)\",\"AT13148\").\\nt(0.0,\"ABI1(Y213)\")::p_occupancy(\"ABI1(Y213)\",\"AT13148\",dec); t(0.0,\"ABI1(Y213)\")::p_occupancy(\"ABI1(Y213)\",\"AT13148\",inc) :- \\\\+occ_dec(\"ABI1(Y213)\",\"AT13148\"), \\\\+occ_inc(\"ABI1(Y213)\",\"AT13148\").\\n0.0461842006::p_fc(\"ABI1(Y213)\",\"AT13148\",dec) :- p_occupancy(\"ABI1(Y213)\",\"AT13148\",dec).\\n0.001::p_fc(\"ABI1(Y213)\",\"AT13148\",dec) :- p_occupancy(\"ABI1(Y213)\",\"AT13148\",inc).\\n0.4769078997::p_fc(\"ABI1(Y213)\",\"AT13148\",dec).\\n0.001::e_ksea(\"ABL1\",\"AT13148\",inc) :- e_activity(\"ABL1\",\"AT13148\",dec).\\n0.5907946928::e_ksea(\"ABL1\",\"AT13148\",inc) :- e_activity(\"ABL1\",\"AT13148\",inc).\\n0.2046026536::e_ksea(\"ABL1\",\"AT13148\",inc).\\nevidence(p_fc(\"ABI1(Y213)\",\"AT13148\",dec)).\\nevidence(e_ksea(\"ABL1\",\"AT13148\",inc)).')\n"
     ]
    },
    {
     "data": {
      "text/plain": [
       "256"
      ]
     },
     "execution_count": 4,
     "metadata": {},
     "output_type": "execute_result"
    }
   ],
   "source": [
    "DIR = 'models/ebdt_data/sub_network/n_model/'\n",
    "# learning from interpretation\n",
    "cmd = f'problog ground {DIR}n_model_lfi_exp2.pl -o {DIR}n_model_exp2_ground.pl --format pl'\n",
    "os.system(cmd)"
   ]
  }
 ],
 "metadata": {
  "kernelspec": {
   "display_name": "phospho_pi",
   "language": "python",
   "name": "python3"
  },
  "language_info": {
   "codemirror_mode": {
    "name": "ipython",
    "version": 3
   },
   "file_extension": ".py",
   "mimetype": "text/x-python",
   "name": "python",
   "nbconvert_exporter": "python",
   "pygments_lexer": "ipython3",
   "version": "3.10.13"
  },
  "orig_nbformat": 4
 },
 "nbformat": 4,
 "nbformat_minor": 2
}
