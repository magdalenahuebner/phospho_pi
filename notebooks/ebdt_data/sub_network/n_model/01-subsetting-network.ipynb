{
 "cells": [
  {
   "cell_type": "code",
   "execution_count": 1,
   "metadata": {},
   "outputs": [],
   "source": [
    "%load_ext autoreload\n",
    "%autoreload 2"
   ]
  },
  {
   "cell_type": "code",
   "execution_count": 2,
   "metadata": {},
   "outputs": [],
   "source": [
    "# Libraries\n",
    "import pandas as pd\n",
    "import os\n",
    "\n",
    "from pyvis.network import Network\n",
    "\n",
    "from src.data import prep_data as prep\n",
    "from src.models import model_schemata as schema\n",
    "from src.models import build_model as build"
   ]
  },
  {
   "cell_type": "code",
   "execution_count": 3,
   "metadata": {},
   "outputs": [],
   "source": [
    "os.chdir('/Users/magdalena/OneDrive - Queen Mary, University of London/bezzlab/research/projects/phospho_pi/')\n",
    "# os.chdir('/home/mhuebner/Desktop/bezzlab/research/projects/phospho_pi/')"
   ]
  },
  {
   "cell_type": "code",
   "execution_count": 4,
   "metadata": {},
   "outputs": [],
   "source": [
    "# es_interaction = pd.read_csv('data/processed/ebdt_data/es_interaction.csv')\n",
    "dk_interaction = pd.read_csv('data/processed/ebdt_data/dk_interaction.csv')\n",
    "p_regulates = pd.read_csv('data/processed/ebdt_data/p_regulates.csv')\n",
    "p_function = pd.read_csv('data/processed/ebdt_data/p_function.csv')\n",
    "e_function = pd.read_csv('data/processed/ebdt_data/e_function.csv')\n",
    "p_fc = pd.read_csv('data/processed/ebdt_data/p_fc_scaled_HL60.csv')\n",
    "e_ksea = pd.read_csv('data/processed/ebdt_data/e_ksea_penalised_HL60.csv')"
   ]
  },
  {
   "cell_type": "code",
   "execution_count": 10,
   "metadata": {},
   "outputs": [
    {
     "data": {
      "text/html": [
       "<div>\n",
       "<style scoped>\n",
       "    .dataframe tbody tr th:only-of-type {\n",
       "        vertical-align: middle;\n",
       "    }\n",
       "\n",
       "    .dataframe tbody tr th {\n",
       "        vertical-align: top;\n",
       "    }\n",
       "\n",
       "    .dataframe thead th {\n",
       "        text-align: right;\n",
       "    }\n",
       "</style>\n",
       "<table border=\"1\" class=\"dataframe\">\n",
       "  <thead>\n",
       "    <tr style=\"text-align: right;\">\n",
       "      <th></th>\n",
       "      <th>enzyme</th>\n",
       "      <th>phosphosite</th>\n",
       "    </tr>\n",
       "  </thead>\n",
       "  <tbody>\n",
       "    <tr>\n",
       "      <th>0</th>\n",
       "      <td>SRC</td>\n",
       "      <td>PXN(Y88)</td>\n",
       "    </tr>\n",
       "    <tr>\n",
       "      <th>1</th>\n",
       "      <td>SRC</td>\n",
       "      <td>PXN(Y118)</td>\n",
       "    </tr>\n",
       "    <tr>\n",
       "      <th>2</th>\n",
       "      <td>SRC</td>\n",
       "      <td>ANXA2P2(Y24)</td>\n",
       "    </tr>\n",
       "    <tr>\n",
       "      <th>3</th>\n",
       "      <td>SRC</td>\n",
       "      <td>PTTG1IP(Y174)</td>\n",
       "    </tr>\n",
       "    <tr>\n",
       "      <th>4</th>\n",
       "      <td>SRC</td>\n",
       "      <td>BCLAF1(Y284)</td>\n",
       "    </tr>\n",
       "    <tr>\n",
       "      <th>5</th>\n",
       "      <td>SRC</td>\n",
       "      <td>HIPK2(Y361)</td>\n",
       "    </tr>\n",
       "    <tr>\n",
       "      <th>6</th>\n",
       "      <td>ABL1</td>\n",
       "      <td>PXN(Y118)</td>\n",
       "    </tr>\n",
       "    <tr>\n",
       "      <th>7</th>\n",
       "      <td>ABL1</td>\n",
       "      <td>ABI1(Y213)</td>\n",
       "    </tr>\n",
       "    <tr>\n",
       "      <th>8</th>\n",
       "      <td>ABL1</td>\n",
       "      <td>RBM39(Y95)</td>\n",
       "    </tr>\n",
       "    <tr>\n",
       "      <th>9</th>\n",
       "      <td>PTK2</td>\n",
       "      <td>PXN(Y118)</td>\n",
       "    </tr>\n",
       "    <tr>\n",
       "      <th>10</th>\n",
       "      <td>PTPRG</td>\n",
       "      <td>PXN(Y118)</td>\n",
       "    </tr>\n",
       "    <tr>\n",
       "      <th>11</th>\n",
       "      <td>FYN</td>\n",
       "      <td>PXN(Y118)</td>\n",
       "    </tr>\n",
       "    <tr>\n",
       "      <th>12</th>\n",
       "      <td>PTK6</td>\n",
       "      <td>PXN(Y118)</td>\n",
       "    </tr>\n",
       "    <tr>\n",
       "      <th>13</th>\n",
       "      <td>HIPK2</td>\n",
       "      <td>ATF1(S198)</td>\n",
       "    </tr>\n",
       "    <tr>\n",
       "      <th>14</th>\n",
       "      <td>PTPRR</td>\n",
       "      <td>PXN(Y88)</td>\n",
       "    </tr>\n",
       "  </tbody>\n",
       "</table>\n",
       "</div>"
      ],
      "text/plain": [
       "   enzyme    phosphosite\n",
       "0     SRC       PXN(Y88)\n",
       "1     SRC      PXN(Y118)\n",
       "2     SRC   ANXA2P2(Y24)\n",
       "3     SRC  PTTG1IP(Y174)\n",
       "4     SRC   BCLAF1(Y284)\n",
       "5     SRC    HIPK2(Y361)\n",
       "6    ABL1      PXN(Y118)\n",
       "7    ABL1     ABI1(Y213)\n",
       "8    ABL1     RBM39(Y95)\n",
       "9    PTK2      PXN(Y118)\n",
       "10  PTPRG      PXN(Y118)\n",
       "11    FYN      PXN(Y118)\n",
       "12   PTK6      PXN(Y118)\n",
       "13  HIPK2     ATF1(S198)\n",
       "14  PTPRR       PXN(Y88)"
      ]
     },
     "execution_count": 10,
     "metadata": {},
     "output_type": "execute_result"
    }
   ],
   "source": [
    "es_pmodel = pd.read_csv('data/processed/ebdt_data/sub_network_p/es_interaction.csv')\n",
    "es_pmodel.drop(13, inplace=True)\n",
    "es_pmodel.reset_index(drop=True, inplace=True)\n",
    "es_pmodel"
   ]
  },
  {
   "cell_type": "code",
   "execution_count": 11,
   "metadata": {},
   "outputs": [
    {
     "data": {
      "text/html": [
       "<div>\n",
       "<style scoped>\n",
       "    .dataframe tbody tr th:only-of-type {\n",
       "        vertical-align: middle;\n",
       "    }\n",
       "\n",
       "    .dataframe tbody tr th {\n",
       "        vertical-align: top;\n",
       "    }\n",
       "\n",
       "    .dataframe thead th {\n",
       "        text-align: right;\n",
       "    }\n",
       "</style>\n",
       "<table border=\"1\" class=\"dataframe\">\n",
       "  <thead>\n",
       "    <tr style=\"text-align: right;\">\n",
       "      <th></th>\n",
       "      <th>drug</th>\n",
       "      <th>enzyme</th>\n",
       "    </tr>\n",
       "  </thead>\n",
       "  <tbody>\n",
       "    <tr>\n",
       "      <th>0</th>\n",
       "      <td>Dabrafenib</td>\n",
       "      <td>ABL1</td>\n",
       "    </tr>\n",
       "    <tr>\n",
       "      <th>1</th>\n",
       "      <td>Dasatinib</td>\n",
       "      <td>ABL1</td>\n",
       "    </tr>\n",
       "    <tr>\n",
       "      <th>2</th>\n",
       "      <td>GDC0941</td>\n",
       "      <td>ABL1</td>\n",
       "    </tr>\n",
       "    <tr>\n",
       "      <th>3</th>\n",
       "      <td>Dabrafenib</td>\n",
       "      <td>FYN</td>\n",
       "    </tr>\n",
       "    <tr>\n",
       "      <th>4</th>\n",
       "      <td>Dasatinib</td>\n",
       "      <td>FYN</td>\n",
       "    </tr>\n",
       "    <tr>\n",
       "      <th>5</th>\n",
       "      <td>PF3758309</td>\n",
       "      <td>FYN</td>\n",
       "    </tr>\n",
       "    <tr>\n",
       "      <th>6</th>\n",
       "      <td>CX4945</td>\n",
       "      <td>HIPK2</td>\n",
       "    </tr>\n",
       "    <tr>\n",
       "      <th>7</th>\n",
       "      <td>GF109203X</td>\n",
       "      <td>HIPK2</td>\n",
       "    </tr>\n",
       "    <tr>\n",
       "      <th>8</th>\n",
       "      <td>Go6976</td>\n",
       "      <td>HIPK2</td>\n",
       "    </tr>\n",
       "    <tr>\n",
       "      <th>9</th>\n",
       "      <td>LY2835219</td>\n",
       "      <td>HIPK2</td>\n",
       "    </tr>\n",
       "  </tbody>\n",
       "</table>\n",
       "</div>"
      ],
      "text/plain": [
       "         drug enzyme\n",
       "0  Dabrafenib   ABL1\n",
       "1   Dasatinib   ABL1\n",
       "2     GDC0941   ABL1\n",
       "3  Dabrafenib    FYN\n",
       "4   Dasatinib    FYN\n",
       "5   PF3758309    FYN\n",
       "6      CX4945  HIPK2\n",
       "7   GF109203X  HIPK2\n",
       "8      Go6976  HIPK2\n",
       "9   LY2835219  HIPK2"
      ]
     },
     "execution_count": 11,
     "metadata": {},
     "output_type": "execute_result"
    }
   ],
   "source": [
    "# Filtering\n",
    "p_regulates = p_regulates[p_regulates['protein'].isin(es_pmodel['enzyme']) | p_regulates['phosphosite'].isin(es_pmodel['phosphosite'])].reset_index(drop=True)\n",
    "dk_interaction = dk_interaction[dk_interaction['enzyme'].isin(es_pmodel['enzyme']) | dk_interaction['enzyme'].isin(p_regulates['protein'])].reset_index(drop=True)\n",
    "dk_interaction = dk_interaction[dk_interaction['drug'].isin(p_fc['sample'])].reset_index(drop=True)\n",
    "dk_interaction"
   ]
  },
  {
   "cell_type": "markdown",
   "metadata": {},
   "source": [
    "Plotting"
   ]
  },
  {
   "cell_type": "code",
   "execution_count": 12,
   "metadata": {},
   "outputs": [],
   "source": [
    "# Labelling\n",
    "phosphatases = set(e_function['enzyme'][e_function['function'] == 'phosphatase'].tolist())\n",
    "kinases = set(e_function['enzyme'][e_function['function'] == 'kinase'].tolist())"
   ]
  },
  {
   "cell_type": "code",
   "execution_count": 13,
   "metadata": {},
   "outputs": [],
   "source": [
    "targets = [(row['enzyme'], row['phosphosite']) for _, row in es_pmodel.iterrows()]\n",
    "regulates = [(row['phosphosite'], row['protein']) for _, row in p_regulates.iterrows()]\n",
    "inhibits = [(row['drug'], row['enzyme']) for _, row in dk_interaction.iterrows()]"
   ]
  },
  {
   "cell_type": "code",
   "execution_count": 14,
   "metadata": {},
   "outputs": [],
   "source": [
    "import networkx as nx\n",
    "G = nx.DiGraph()\n",
    "G.add_nodes_from(es_pmodel['enzyme'].unique().tolist(), bipartite=1)\n",
    "G.add_nodes_from(es_pmodel['phosphosite'].unique().tolist(), bipartite=2)\n",
    "G.add_nodes_from(dk_interaction['drug'].unique().tolist(), bipartite=0)\n",
    "G.add_nodes_from(dk_interaction['enzyme'].unique().tolist(), bipartite=1)\n",
    "G.add_nodes_from(p_regulates['phosphosite'].unique().tolist(), bipartite=2)\n",
    "G.add_nodes_from(p_regulates['protein'].unique().tolist(), bipartite=1)\n",
    "G.add_edges_from(targets)\n",
    "G.add_edges_from(regulates)\n",
    "G.add_edges_from(inhibits)"
   ]
  },
  {
   "cell_type": "code",
   "execution_count": 15,
   "metadata": {},
   "outputs": [],
   "source": [
    "# Create a pyvis network\n",
    "net = Network()\n",
    "\n",
    "# Add nodes and edges from the bipartite graph\n",
    "for node, attributes in G.nodes(data=True):\n",
    "    if attributes[\"bipartite\"] == 0:\n",
    "        net.add_node(node, color=\"#F6BF93\", shape=\"triangle\", borderWidth=1.5)\n",
    "    elif attributes[\"bipartite\"] == 1 and node in phosphatases:\n",
    "        net.add_node(node, color=\"#E0F4DA\", shape=\"square\", borderWidth=3)\n",
    "    elif attributes[\"bipartite\"] == 1 and node in kinases:\n",
    "        net.add_node(node, color=\"#E0F4DA\", shape=\"square\", borderWidth=1.5)\n",
    "    elif attributes[\"bipartite\"] == 1:\n",
    "        net.add_node(node, color=\"#F2F2F2\", shape=\"square\", borderWidth=1.5)\n",
    "    else:\n",
    "        net.add_node(node, color=\"#D8F0F6\", borderWidth=1.5)\n",
    "\n",
    "for edge in G.edges():\n",
    "    net.add_edge(edge[0], edge[1], width=3)\n",
    "\n",
    "# Show the network\n",
    "net.show('data/processed/ebdt_data/sub_network_n/bipartite_network.html')"
   ]
  },
  {
   "cell_type": "markdown",
   "metadata": {},
   "source": [
    "Filtering"
   ]
  },
  {
   "cell_type": "code",
   "execution_count": 16,
   "metadata": {},
   "outputs": [],
   "source": [
    "# Filtering\n",
    "# define all pst which are in fold change data or interaction data and store in data frame\n",
    "phosphosites = list(set(p_regulates['phosphosite'].to_list() + es_pmodel['phosphosite'].tolist()))\n",
    "# define all enzymes which are in activity, interaction or enz_class data and store in data frame\n",
    "enzymes = list(set(p_regulates['protein'].tolist() + dk_interaction['enzyme'].tolist() + es_pmodel['enzyme'].tolist()))\n",
    "# define all drugs\n",
    "drugs = list(set(dk_interaction['drug']))\n",
    "# select fold change data for psts which are in interaction data\n",
    "p_fc_sub = p_fc[p_fc['phosphosite'].isin(phosphosites)].reset_index(drop=True)\n",
    "# select activity data for enzymes which are in interaction data\n",
    "e_ksea_sub = e_ksea[e_ksea['enzyme'].isin(enzymes)].reset_index(drop=True)# select enzyme function data for enzymes which are in interaction data\n",
    "# select phosphosite function data for phosphosites which are in interaction data\n",
    "p_function_sub = p_function[p_function['phosphosite'].isin(phosphosites)].reset_index(drop=True)\n",
    "e_function_sub = e_function[e_function['enzyme'].isin(enzymes)].reset_index(drop=True)"
   ]
  },
  {
   "attachments": {},
   "cell_type": "markdown",
   "metadata": {},
   "source": [
    "Building skeleton"
   ]
  },
  {
   "cell_type": "code",
   "execution_count": 82,
   "metadata": {},
   "outputs": [],
   "source": [
    "# Mapping data to Problog predicates\n",
    "predicates = {}\n",
    "predicates['enzyme'] = schema.EnzymePredicate(enzyme_list=enzymes)\n",
    "predicates['phosphosite'] = schema.PhosphositePredicate(phosphosite_list=phosphosites)\n",
    "predicates['drug'] = schema.DrugPredicate(drug_list=drugs)\n",
    "predicates['es_interaction'] = schema.ESInteractionPredicate(dataframe=es_pmodel, enzyme_col='enzyme', phosphosite_col='phosphosite')\n",
    "predicates['p_regulates'] = schema.PRegulatesPredicate(dataframe=p_regulates, phosphosite_col='phosphosite', protein_col='protein')\n",
    "predicates['dk_interaction'] = schema.DKInteractionPredicate(dataframe=dk_interaction, drug_col='drug', enzyme_col='enzyme')\n",
    "predicates['e_function'] = schema.EFunctionPredicate(dataframe=e_function_sub, enzyme_col='enzyme', function_col='function')\n",
    "predicates['p_function'] = schema.PFunctionPredicate(dataframe=p_function_sub, phosphosite_col='phosphosite', function_col='function')\n",
    "\n",
    "# Adding entites, relationships, and fixed attributes to template model\n",
    "model_skeleton = 'models/ebdt_data/sub_network/n_model/n_model_skeleton.pl'\n",
    "\n",
    "for predicate in predicates:\n",
    "    fact_generator = build.ProblogStatementGenerator(predicates[predicate])\n",
    "    problog_facts = fact_generator.generate_facts(build.FactTemplate) # generate Problog facts\n",
    "    build.insert_statements(model=model_skeleton, statements=problog_facts, location='%% {}'.format(predicate)) # insert into Problog file"
   ]
  },
  {
   "cell_type": "code",
   "execution_count": 20,
   "metadata": {},
   "outputs": [],
   "source": [
    "# save es_interaction, e_function, e_ksea, p_fc, e_activity and p_occupancy to csv\n",
    "es_pmodel.to_csv('data/processed/ebdt_data/sub_network_n/es_interaction.csv', index=False)\n",
    "p_regulates.to_csv('data/processed/ebdt_data/sub_network_n/p_regulates.csv', index=False)\n",
    "dk_interaction.to_csv('data/processed/ebdt_data/sub_network_n/dk_interaction.csv', index=False)\n",
    "e_function_sub.to_csv('data/processed/ebdt_data/sub_network_n/e_function.csv', index=False)\n",
    "p_function_sub.to_csv('data/processed/ebdt_data/sub_network_n/p_function.csv', index=False)\n",
    "e_ksea_sub.to_csv('data/processed/ebdt_data/sub_network_n/e_ksea.csv', index=False)\n",
    "p_fc_sub.to_csv('data/processed/ebdt_data/sub_network_n/p_fc.csv', index=False)"
   ]
  }
 ],
 "metadata": {
  "kernelspec": {
   "display_name": "phospho_pi",
   "language": "python",
   "name": "python3"
  },
  "language_info": {
   "codemirror_mode": {
    "name": "ipython",
    "version": 3
   },
   "file_extension": ".py",
   "mimetype": "text/x-python",
   "name": "python",
   "nbconvert_exporter": "python",
   "pygments_lexer": "ipython3",
   "version": "3.10.13"
  },
  "orig_nbformat": 4
 },
 "nbformat": 4,
 "nbformat_minor": 2
}
