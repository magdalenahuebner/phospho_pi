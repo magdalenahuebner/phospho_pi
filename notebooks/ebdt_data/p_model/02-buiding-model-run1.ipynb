{
 "cells": [
  {
   "attachments": {},
   "cell_type": "markdown",
   "metadata": {},
   "source": [
    "#### Prerequesites:\n",
    "* Define schema (make figure) \n",
    "* Define structure (make figure)\n",
    "* Define schema class in python (src/models/model_schemata.py)\n",
    "* Convert schema + structure into model template (models/templates/p_model.pl)\n",
    "\n",
    "#### Procedure:\n",
    "* Load data\n",
    "* Create lfi script\n",
    "* Add uncertain evidence to lfi model as probabilistic clauses"
   ]
  },
  {
   "cell_type": "code",
   "execution_count": 1,
   "metadata": {},
   "outputs": [],
   "source": [
    "%load_ext autoreload\n",
    "%autoreload 2"
   ]
  },
  {
   "cell_type": "code",
   "execution_count": 2,
   "metadata": {},
   "outputs": [],
   "source": [
    "# Importing libraries\n",
    "import pandas as pd\n",
    "import os\n",
    "\n",
    "from src.models import model_schemata as schema\n",
    "from src.models import build_model as build\n",
    "from src.data import prep_data as prep"
   ]
  },
  {
   "cell_type": "code",
   "execution_count": 3,
   "metadata": {},
   "outputs": [],
   "source": [
    "os.chdir('/Users/magdalena/OneDrive - Queen Mary, University of London/bezzlab/research/projects/phospho_pi/')\n",
    "# os.chdir('/home/mhuebner/Desktop/bezzlab/research/projects/phospho_pi/')"
   ]
  },
  {
   "cell_type": "code",
   "execution_count": 4,
   "metadata": {},
   "outputs": [],
   "source": [
    "es_interaction = pd.read_csv('data/processed/ebdt_data/es_interaction_tp.csv')\n",
    "e_function = pd.read_csv('data/processed/ebdt_data/e_function.csv')\n",
    "p_fc = pd.read_csv('data/processed/ebdt_data/p_fc_scaled_HL60_tp.csv')\n",
    "e_ksea = pd.read_csv('data/processed/ebdt_data/e_ksea_penalised_HL60.csv')"
   ]
  },
  {
   "cell_type": "code",
   "execution_count": 5,
   "metadata": {},
   "outputs": [],
   "source": [
    "# Filtering\n",
    "# remove interactions where the kpa is not in the phosphoproteomics data\n",
    "es_interaction = es_interaction[es_interaction['substrate'].isin(p_fc['phosphosite'])]\n",
    "es_interaction = es_interaction[es_interaction['enzyme'].isin(e_ksea['enzyme'])]\n",
    "# select fold change data for psts which are in interaction data\n",
    "p_fc = p_fc[p_fc['phosphosite'].isin(es_interaction['substrate'])]\n",
    "e_ksea = e_ksea[e_ksea['enzyme'].isin(es_interaction['enzyme'])]\n",
    "# select enzyme function data for enzymes which are in interaction data\n",
    "e_function = e_function[e_function['enzyme'].isin(es_interaction['enzyme'])]\n",
    "# define all pst which are in fold change data or interaction data and store in data frame\n",
    "phosphosites = list(set(p_fc['phosphosite'].tolist()))\n",
    "# define all enzymes which are in activity, interaction or enz_class data and store in data frame\n",
    "enzymes = list(set(es_interaction['enzyme'].tolist()))"
   ]
  },
  {
   "cell_type": "code",
   "execution_count": 6,
   "metadata": {},
   "outputs": [
    {
     "data": {
      "text/html": [
       "<div>\n",
       "<style scoped>\n",
       "    .dataframe tbody tr th:only-of-type {\n",
       "        vertical-align: middle;\n",
       "    }\n",
       "\n",
       "    .dataframe tbody tr th {\n",
       "        vertical-align: top;\n",
       "    }\n",
       "\n",
       "    .dataframe thead th {\n",
       "        text-align: right;\n",
       "    }\n",
       "</style>\n",
       "<table border=\"1\" class=\"dataframe\">\n",
       "  <thead>\n",
       "    <tr style=\"text-align: right;\">\n",
       "      <th></th>\n",
       "      <th>enzyme</th>\n",
       "      <th>substrate</th>\n",
       "    </tr>\n",
       "  </thead>\n",
       "  <tbody>\n",
       "    <tr>\n",
       "      <th>0</th>\n",
       "      <td>ABL1</td>\n",
       "      <td>ABI1(Y213)</td>\n",
       "    </tr>\n",
       "    <tr>\n",
       "      <th>15</th>\n",
       "      <td>ABL1</td>\n",
       "      <td>CDK5(Y15)</td>\n",
       "    </tr>\n",
       "    <tr>\n",
       "      <th>18</th>\n",
       "      <td>ABL1</td>\n",
       "      <td>CRKL(Y207)</td>\n",
       "    </tr>\n",
       "    <tr>\n",
       "      <th>22</th>\n",
       "      <td>ABL1</td>\n",
       "      <td>DGCR8(Y267)</td>\n",
       "    </tr>\n",
       "    <tr>\n",
       "      <th>50</th>\n",
       "      <td>ABL1</td>\n",
       "      <td>PIK3AP1(Y570)</td>\n",
       "    </tr>\n",
       "    <tr>\n",
       "      <th>...</th>\n",
       "      <td>...</td>\n",
       "      <td>...</td>\n",
       "    </tr>\n",
       "    <tr>\n",
       "      <th>10328</th>\n",
       "      <td>WEE1</td>\n",
       "      <td>CDK1(Y15)</td>\n",
       "    </tr>\n",
       "    <tr>\n",
       "      <th>10330</th>\n",
       "      <td>WEE1</td>\n",
       "      <td>CDK2(Y15)</td>\n",
       "    </tr>\n",
       "    <tr>\n",
       "      <th>10332</th>\n",
       "      <td>WEE1</td>\n",
       "      <td>WEE1(T173)</td>\n",
       "    </tr>\n",
       "    <tr>\n",
       "      <th>10337</th>\n",
       "      <td>WNK1</td>\n",
       "      <td>STK39(S371)</td>\n",
       "    </tr>\n",
       "    <tr>\n",
       "      <th>10339</th>\n",
       "      <td>WNK2</td>\n",
       "      <td>STK39(S371)</td>\n",
       "    </tr>\n",
       "  </tbody>\n",
       "</table>\n",
       "<p>2905 rows × 2 columns</p>\n",
       "</div>"
      ],
      "text/plain": [
       "      enzyme      substrate\n",
       "0       ABL1     ABI1(Y213)\n",
       "15      ABL1      CDK5(Y15)\n",
       "18      ABL1     CRKL(Y207)\n",
       "22      ABL1    DGCR8(Y267)\n",
       "50      ABL1  PIK3AP1(Y570)\n",
       "...      ...            ...\n",
       "10328   WEE1      CDK1(Y15)\n",
       "10330   WEE1      CDK2(Y15)\n",
       "10332   WEE1     WEE1(T173)\n",
       "10337   WNK1    STK39(S371)\n",
       "10339   WNK2    STK39(S371)\n",
       "\n",
       "[2905 rows x 2 columns]"
      ]
     },
     "execution_count": 6,
     "metadata": {},
     "output_type": "execute_result"
    }
   ],
   "source": [
    "es_interaction"
   ]
  },
  {
   "cell_type": "code",
   "execution_count": 7,
   "metadata": {},
   "outputs": [
    {
     "data": {
      "text/plain": [
       "<Axes: ylabel='Frequency'>"
      ]
     },
     "execution_count": 7,
     "metadata": {},
     "output_type": "execute_result"
    },
    {
     "data": {
      "image/png": "[encoded data removed]",
      "text/plain": [
       "<Figure size 640x480 with 1 Axes>"
      ]
     },
     "metadata": {},
     "output_type": "display_data"
    }
   ],
   "source": [
    "# plot histogram of number of interactions per phosphosite\n",
    "es_interaction['substrate'].value_counts().plot(kind='hist', bins=100)"
   ]
  },
  {
   "cell_type": "code",
   "execution_count": 8,
   "metadata": {},
   "outputs": [],
   "source": [
    "# Create pandas DataFrames\n",
    "interactions = es_interaction.loc[es_interaction['substrate'].isin(es_interaction['substrate'].value_counts()[es_interaction['substrate'].value_counts() >= 7].index)].reset_index(drop=True)\n",
    "subs = p_fc.loc[p_fc['phosphosite'].isin(interactions['substrate'])].reset_index(drop=True)\n",
    "enz = e_ksea.loc[e_ksea['enzyme'].isin(interactions['enzyme'])].reset_index(drop=True)\n",
    "\n",
    "substrate_correlations, sorted_enzyme_correlations = prep.extract_top_corr_enzymes(subs, enz, interactions, max_enzymes=7, min_corr=0)\n",
    "\n",
    "# Filter the interactions based on substrate_correlations\n",
    "filtered_interactions = prep.filter_interactions_by_correlations(es_interaction, substrate_correlations)"
   ]
  },
  {
   "cell_type": "code",
   "execution_count": 9,
   "metadata": {},
   "outputs": [
    {
     "data": {
      "text/plain": [
       "<Axes: ylabel='Frequency'>"
      ]
     },
     "execution_count": 9,
     "metadata": {},
     "output_type": "execute_result"
    },
    {
     "data": {
      "image/png": "[encoded data removed]",
      "text/plain": [
       "<Figure size 640x480 with 1 Axes>"
      ]
     },
     "metadata": {},
     "output_type": "display_data"
    }
   ],
   "source": [
    "filtered_interactions.substrate.value_counts().plot(kind='hist', bins=100)"
   ]
  },
  {
   "cell_type": "code",
   "execution_count": 14,
   "metadata": {},
   "outputs": [],
   "source": [
    "e_ksea = e_ksea[e_ksea['enzyme'].isin(filtered_interactions['enzyme'])]\n",
    "e_function = e_function[e_function['enzyme'].isin(filtered_interactions['enzyme'])]"
   ]
  },
  {
   "cell_type": "code",
   "execution_count": 11,
   "metadata": {},
   "outputs": [],
   "source": [
    "# Mapping data to Problog predicates\n",
    "predicates = {}\n",
    "predicates['enzyme'] = schema.EnzymePredicate(enzyme_list=enzymes)\n",
    "predicates['phosphosite'] = schema.PhosphositePredicate(phosphosite_list=phosphosites)\n",
    "predicates['es_interaction'] = schema.ESInteractionPredicate(dataframe=filtered_interactions, enzyme_col='enzyme', phosphosite_col='substrate')\n",
    "predicates['e_function'] = schema.EFunctionPredicate(dataframe=e_function, enzyme_col='enzyme', function_col='function')\n",
    "\n",
    "# Adding entites, relationships, and fixed attributes to template model\n",
    "model_skeleton = 'models/ebdt_data/p_model/p_model_lfi_run1.pl'\n",
    "\n",
    "for predicate in predicates:\n",
    "    fact_generator = build.ProblogStatementGenerator(predicates[predicate])\n",
    "    problog_facts = fact_generator.generate_facts(build.FactTemplate) # generate Problog facts\n",
    "    build.insert_statements(model=model_skeleton, statements=problog_facts, location='%% {}'.format(predicate)) # insert into Problog file"
   ]
  },
  {
   "cell_type": "code",
   "execution_count": 15,
   "metadata": {},
   "outputs": [
    {
     "data": {
      "text/html": [
       "<div>\n",
       "<style scoped>\n",
       "    .dataframe tbody tr th:only-of-type {\n",
       "        vertical-align: middle;\n",
       "    }\n",
       "\n",
       "    .dataframe tbody tr th {\n",
       "        vertical-align: top;\n",
       "    }\n",
       "\n",
       "    .dataframe thead th {\n",
       "        text-align: right;\n",
       "    }\n",
       "</style>\n",
       "<table border=\"1\" class=\"dataframe\">\n",
       "  <thead>\n",
       "    <tr style=\"text-align: right;\">\n",
       "      <th></th>\n",
       "      <th>phosphosite</th>\n",
       "      <th>sample</th>\n",
       "      <th>value</th>\n",
       "      <th>prob</th>\n",
       "      <th>p_dec</th>\n",
       "      <th>p_inc</th>\n",
       "      <th>p_base</th>\n",
       "    </tr>\n",
       "  </thead>\n",
       "  <tbody>\n",
       "    <tr>\n",
       "      <th>0</th>\n",
       "      <td>AAK1(T389)</td>\n",
       "      <td>AC220</td>\n",
       "      <td>dec</td>\n",
       "      <td>0.932900</td>\n",
       "      <td>0.932900</td>\n",
       "      <td>0.001000</td>\n",
       "      <td>0.066100</td>\n",
       "    </tr>\n",
       "    <tr>\n",
       "      <th>1</th>\n",
       "      <td>AAK1(T389)</td>\n",
       "      <td>AC220</td>\n",
       "      <td>inc</td>\n",
       "      <td>0.932900</td>\n",
       "      <td>0.001000</td>\n",
       "      <td>0.932900</td>\n",
       "      <td>0.066100</td>\n",
       "    </tr>\n",
       "    <tr>\n",
       "      <th>2</th>\n",
       "      <td>AAK1(T389)</td>\n",
       "      <td>AT13148</td>\n",
       "      <td>dec</td>\n",
       "      <td>0.009176</td>\n",
       "      <td>0.009176</td>\n",
       "      <td>0.001000</td>\n",
       "      <td>0.989824</td>\n",
       "    </tr>\n",
       "    <tr>\n",
       "      <th>3</th>\n",
       "      <td>AAK1(T389)</td>\n",
       "      <td>AT13148</td>\n",
       "      <td>inc</td>\n",
       "      <td>0.009176</td>\n",
       "      <td>0.001000</td>\n",
       "      <td>0.009176</td>\n",
       "      <td>0.989824</td>\n",
       "    </tr>\n",
       "    <tr>\n",
       "      <th>4</th>\n",
       "      <td>AAK1(T389)</td>\n",
       "      <td>AZ20</td>\n",
       "      <td>dec</td>\n",
       "      <td>0.456921</td>\n",
       "      <td>0.456921</td>\n",
       "      <td>0.001000</td>\n",
       "      <td>0.542079</td>\n",
       "    </tr>\n",
       "    <tr>\n",
       "      <th>...</th>\n",
       "      <td>...</td>\n",
       "      <td>...</td>\n",
       "      <td>...</td>\n",
       "      <td>...</td>\n",
       "      <td>...</td>\n",
       "      <td>...</td>\n",
       "      <td>...</td>\n",
       "    </tr>\n",
       "    <tr>\n",
       "      <th>140661</th>\n",
       "      <td>ZYX(S308)</td>\n",
       "      <td>U73122</td>\n",
       "      <td>inc</td>\n",
       "      <td>0.083518</td>\n",
       "      <td>0.001000</td>\n",
       "      <td>0.083518</td>\n",
       "      <td>0.915482</td>\n",
       "    </tr>\n",
       "    <tr>\n",
       "      <th>140662</th>\n",
       "      <td>ZYX(S308)</td>\n",
       "      <td>Ulixertinib</td>\n",
       "      <td>dec</td>\n",
       "      <td>0.820205</td>\n",
       "      <td>0.820205</td>\n",
       "      <td>0.001000</td>\n",
       "      <td>0.178795</td>\n",
       "    </tr>\n",
       "    <tr>\n",
       "      <th>140663</th>\n",
       "      <td>ZYX(S308)</td>\n",
       "      <td>Ulixertinib</td>\n",
       "      <td>inc</td>\n",
       "      <td>0.820205</td>\n",
       "      <td>0.001000</td>\n",
       "      <td>0.820205</td>\n",
       "      <td>0.178795</td>\n",
       "    </tr>\n",
       "    <tr>\n",
       "      <th>140664</th>\n",
       "      <td>ZYX(S308)</td>\n",
       "      <td>Vemurafenib</td>\n",
       "      <td>dec</td>\n",
       "      <td>0.549124</td>\n",
       "      <td>0.549124</td>\n",
       "      <td>0.001000</td>\n",
       "      <td>0.449876</td>\n",
       "    </tr>\n",
       "    <tr>\n",
       "      <th>140665</th>\n",
       "      <td>ZYX(S308)</td>\n",
       "      <td>Vemurafenib</td>\n",
       "      <td>inc</td>\n",
       "      <td>0.549124</td>\n",
       "      <td>0.001000</td>\n",
       "      <td>0.549124</td>\n",
       "      <td>0.449876</td>\n",
       "    </tr>\n",
       "  </tbody>\n",
       "</table>\n",
       "<p>140666 rows × 7 columns</p>\n",
       "</div>"
      ],
      "text/plain": [
       "       phosphosite       sample value      prob     p_dec     p_inc    p_base\n",
       "0       AAK1(T389)        AC220   dec  0.932900  0.932900  0.001000  0.066100\n",
       "1       AAK1(T389)        AC220   inc  0.932900  0.001000  0.932900  0.066100\n",
       "2       AAK1(T389)      AT13148   dec  0.009176  0.009176  0.001000  0.989824\n",
       "3       AAK1(T389)      AT13148   inc  0.009176  0.001000  0.009176  0.989824\n",
       "4       AAK1(T389)         AZ20   dec  0.456921  0.456921  0.001000  0.542079\n",
       "...            ...          ...   ...       ...       ...       ...       ...\n",
       "140661   ZYX(S308)       U73122   inc  0.083518  0.001000  0.083518  0.915482\n",
       "140662   ZYX(S308)  Ulixertinib   dec  0.820205  0.820205  0.001000  0.178795\n",
       "140663   ZYX(S308)  Ulixertinib   inc  0.820205  0.001000  0.820205  0.178795\n",
       "140664   ZYX(S308)  Vemurafenib   dec  0.549124  0.549124  0.001000  0.449876\n",
       "140665   ZYX(S308)  Vemurafenib   inc  0.549124  0.001000  0.549124  0.449876\n",
       "\n",
       "[140666 rows x 7 columns]"
      ]
     },
     "execution_count": 15,
     "metadata": {},
     "output_type": "execute_result"
    }
   ],
   "source": [
    "e_ksea_ad = prep.expand_ad_cpd(e_ksea, 'value')\n",
    "p_fc_ad = prep.expand_ad_cpd(p_fc, 'value')\n",
    "p_fc_ad"
   ]
  },
  {
   "cell_type": "code",
   "execution_count": 13,
   "metadata": {},
   "outputs": [],
   "source": [
    "# Mapping data to Problog predicates\n",
    "# make sure to delete 'base' from schemata and AnnotatedDisjunctionClauseTemplate\n",
    "predicates = {}\n",
    "predicates['e_ksea'] = schema.EKseaPredicate()\n",
    "predicates['e_ksea'].add_data(e_ksea_ad, 'enzyme', 'sample', 'value')\n",
    "predicates['e_ksea'].add_ad_probabilities(e_ksea_ad, p_dec_col='p_dec', p_base_col='p_base', p_inc_col='p_inc')\n",
    "predicates['p_fc'] = schema.PFoldChangePredicate()\n",
    "predicates['p_fc'].add_data(p_fc_ad, 'phosphosite', 'sample', 'value')\n",
    "predicates['p_fc'].add_ad_probabilities(p_fc_ad, p_dec_col='p_dec', p_base_col='p_base', p_inc_col='p_inc')"
   ]
  },
  {
   "cell_type": "code",
   "execution_count": 14,
   "metadata": {},
   "outputs": [],
   "source": [
    "model_lfi = 'models/ebdt_data/p_model/p_model_lfi_run1.pl'\n",
    "for predicate in predicates: \n",
    "    ad_generator = build.ProblogStatementGenerator(predicates[predicate])\n",
    "    clauses = ad_generator.generate_ad_clauses(type='boolean')\n",
    "    clauses.extend(ad_generator.generate_ad_clauses(type='domain'))\n",
    "    build.insert_statements(model=model_lfi, statements=clauses, location='%% p1::{}'.format(predicate)) # insert into Problog file"
   ]
  },
  {
   "cell_type": "code",
   "execution_count": 16,
   "metadata": {},
   "outputs": [],
   "source": [
    "es_interaction.to_csv('data/processed/ebdt_data/run1/es_interaction.csv', index=False)\n",
    "filtered_interactions.to_csv('data/processed/ebdt_data/run1/es_interaction_top7enz.csv', index=False)\n",
    "p_fc.to_csv('data/processed/ebdt_data/run1/p_fc.csv', index=False)\n",
    "e_ksea.to_csv('data/processed/ebdt_data/run1/e_ksea.csv', index=False)\n",
    "e_function.to_csv('data/processed/ebdt_data/run1/e_function.csv', index=False)"
   ]
  },
  {
   "cell_type": "code",
   "execution_count": 31,
   "metadata": {},
   "outputs": [
    {
     "data": {
      "text/plain": [
       "CDK2       False\n",
       "CDK1       False\n",
       "MAPK1      False\n",
       "PRKACA     False\n",
       "CSNK2A1    False\n",
       "           ...  \n",
       "PTPRF       True\n",
       "TNK2        True\n",
       "PTPN2       True\n",
       "ERBB2       True\n",
       "WNK2        True\n",
       "Name: enzyme, Length: 273, dtype: bool"
      ]
     },
     "execution_count": 31,
     "metadata": {},
     "output_type": "execute_result"
    }
   ],
   "source": [
    "filtered_interactions['enzyme'].value_counts() < 6"
   ]
  },
  {
   "cell_type": "code",
   "execution_count": null,
   "metadata": {},
   "outputs": [],
   "source": []
  }
 ],
 "metadata": {
  "kernelspec": {
   "display_name": "phospho_pi",
   "language": "python",
   "name": "python3"
  },
  "language_info": {
   "codemirror_mode": {
    "name": "ipython",
    "version": 3
   },
   "file_extension": ".py",
   "mimetype": "text/x-python",
   "name": "python",
   "nbconvert_exporter": "python",
   "pygments_lexer": "ipython3",
   "version": "3.10.13"
  },
  "orig_nbformat": 4
 },
 "nbformat": 4,
 "nbformat_minor": 2
}
