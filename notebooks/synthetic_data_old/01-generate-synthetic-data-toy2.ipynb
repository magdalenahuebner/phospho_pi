{
 "cells": [
  {
   "cell_type": "code",
   "execution_count": 1,
   "metadata": {},
   "outputs": [],
   "source": [
    "%load_ext autoreload\n",
    "%autoreload 2"
   ]
  },
  {
   "cell_type": "code",
   "execution_count": 2,
   "metadata": {},
   "outputs": [],
   "source": [
    "# Libraries\n",
    "import pandas as pd\n",
    "import os\n",
    "import random\n",
    "\n",
    "from src.data import synthesise_data\n",
    "from src.models import build_model, train_model"
   ]
  },
  {
   "cell_type": "code",
   "execution_count": 3,
   "metadata": {},
   "outputs": [],
   "source": [
    "os.chdir('/Users/magdalena/OneDrive - Queen Mary, University of London/bezzlab/research/projects/phospho_pi/')\n",
    "# os.chdir('/home/mhuebner/Desktop/bezzlab/research/projects/phospho_pi/')"
   ]
  },
  {
   "attachments": {},
   "cell_type": "markdown",
   "metadata": {},
   "source": [
    "### Setting up model architecture"
   ]
  },
  {
   "cell_type": "code",
   "execution_count": 4,
   "metadata": {},
   "outputs": [],
   "source": [
    "# Prior knowledge\n",
    "# Enzymes\n",
    "enzymes = ['e1', 'e2', 'e3', 'e4']\n",
    "# Phosphosites\n",
    "phosphosites = ['p41', 'p51', 'p52', 'p61']\n",
    "# Enzyme classes\n",
    "enz_classes = [['e1', 'kinase'], ['e2', 'kinase'], ['e3', 'phosphatase'], ['e4', 'kinase']]\n",
    "# Enzyme-substrate interactions\n",
    "interactions = [['e1', 'p41'], ['e2', 'p41'], ['e3', 'p41'], \n",
    "                ['e4', 'p51'], ['e4', 'p52'], ['e4', 'p61']]\n",
    "\n",
    "# Model\n",
    "MODEL = 'modelA'\n",
    "PATH_TO_DATA = f'data/processed/synthetic_data/{MODEL}/'\n",
    "# Templates for sampling/inference\n",
    "sampling_template = f'models/templates/{MODEL}_sampling.pl'\n",
    "inference_template = f'models/templates/{MODEL}_inference.pl'\n",
    "# Models for sampling/inference\n",
    "sampling_model = f'models/synthetic_data/{MODEL}_sampling.pl'\n",
    "inference_model = f'models/synthetic_data/{MODEL}_inference.pl'"
   ]
  },
  {
   "cell_type": "code",
   "execution_count": 5,
   "metadata": {},
   "outputs": [],
   "source": [
    "# Converting prior knowledge to facts and saving to files\n",
    "pk_dict = {}\n",
    "pk_dict['enzyme'] = build_model.df_to_facts(pd.DataFrame(enzymes), 'enzyme')\n",
    "pk_dict['phosphosite'] = build_model.df_to_facts(pd.DataFrame(phosphosites), 'phosphosite')\n",
    "pk_dict['enz_class'] = build_model.df_to_facts(pd.DataFrame(enz_classes), 'enz_class')\n",
    "pk_dict['interaction'] = build_model.df_to_facts(pd.DataFrame(interactions), 'interaction')\n",
    "\n",
    "build_model.write_predicate_files(pk_dict, PATH_TO_DATA, suffix = '')\n",
    "\n",
    "# Adding prior knowledge to the template models\n",
    "build_model.add_pk(sampling_template, sampling_model, pk_dict)\n",
    "build_model.add_pk(inference_template, inference_model, pk_dict)"
   ]
  },
  {
   "attachments": {},
   "cell_type": "markdown",
   "metadata": {},
   "source": [
    "### Synthesising data (through sampling + inference)"
   ]
  },
  {
   "cell_type": "code",
   "execution_count": 6,
   "metadata": {},
   "outputs": [],
   "source": [
    "# Settings\n",
    "experiments = [25, 50, 100, 250, 500, 1000]\n",
    "infer_from = 'facts'  # 'facts' faster and more reliable "
   ]
  },
  {
   "attachments": {},
   "cell_type": "markdown",
   "metadata": {},
   "source": [
    "Ideal data"
   ]
  },
  {
   "cell_type": "code",
   "execution_count": null,
   "metadata": {},
   "outputs": [],
   "source": [
    "for n_samples in experiments:\n",
    "    # Ideal data\n",
    "    data = synthesise_data.main(MODEL, n_samples, sampling_model=sampling_model, inference_model=inference_model, targets=['fold_change', 'occupancy'], infer_from=infer_from, suffix=f'_{n_samples}')"
   ]
  },
  {
   "attachments": {},
   "cell_type": "markdown",
   "metadata": {},
   "source": [
    "Noisy data"
   ]
  },
  {
   "cell_type": "code",
   "execution_count": 7,
   "metadata": {},
   "outputs": [],
   "source": [
    "# REDO!\n",
    "# Settings for noisy data\n",
    "# Four noisy datasets (occupancy always the same, either act (which enzymes) or fc or both, if both either independent or correlated\n",
    "# 1 Interaction wrong (mutate 80 of interaction)\n",
    "# Random interactions (mutate 80 of all interactions)\n",
    "# Data for enzyme/pst missing completely ('missing data')\n",
    "#m1 = [['activity', 'occupancy', 'fold_change'], [0, 1, 2], [0, 1, 2]]\n",
    "#m2 = [['activity'], [0], [0]]\n",
    "m3 = [['fold_change'], [0], [0]]\n",
    "#m4 = [['occupancy'], [0], [0]]\n",
    "#m5 = [['activity', 'occupancy'], [0, 0], [0, 0]]\n",
    "#m6 = [['fold_change', 'occupancy'], [0, 0], [0, 0]]\n",
    "#m7 = [['activity', 'fold_change'], [0, 0], [0, 0]]\n",
    "\n",
    "# frac = [0.1, 1, 5, 10, 20]\n",
    "frac = [20]\n",
    "# mutate = {'m1': m1, 'm2': m2, 'm3': m3, 'm4': m4, 'm5': m5, 'm6': m6, 'm7': m7}\n",
    "mutate = {'m3': m3}"
   ]
  },
  {
   "cell_type": "code",
   "execution_count": null,
   "metadata": {},
   "outputs": [],
   "source": [
    "for n_samples in experiments:\n",
    "    PATH_TO_DATA = f'data/processed/synthetic_data/{MODEL}/n{n_samples}/'\n",
    "    data = synthesise_data.get_data(PATH_TO_DATA)\n",
    "    # Noisy data\n",
    "    for f in frac:\n",
    "        for key, m in mutate.items():\n",
    "            data_mut = data.copy()\n",
    "            for idx, predicate in enumerate(m[0]):\n",
    "                data_mut[predicate] = synthesise_data.mutate_facts(data_mut[predicate], frac=f/100, sample_seed=m[1][idx], value_seed=m[2][idx])\n",
    "            build_model.write_predicate_files(data_mut, path=f'{PATH_TO_DATA}mutate/{key}/mutate_{key}_{f}/')\n",
    "            train_model.infer_occupancy(MODEL, f'{PATH_TO_DATA}mutate/{key}/mutate_{key}_{f}/', pk_dict)\n"
   ]
  },
  {
   "cell_type": "code",
   "execution_count": null,
   "metadata": {},
   "outputs": [],
   "source": [
    "# Noisy data (enzym e2 only) \n",
    "m8 = [['activity', 'occupancy', 'fold_change'], [0, 1, 1], [0, 1, 1]]\n",
    "frac = [1, 20, 80]\n",
    "mutate = {'m1': m1, 'm2': m2, 'm8': m8}\n",
    "PATH_TO_DATA = f'data/processed/synthetic_data/{MODEL}/n1000/'\n",
    "data = synthesise_data.get_data(PATH_TO_DATA)\n",
    "# Noisy data\n",
    "for f in frac:\n",
    "    for key, m in mutate.items():\n",
    "        data_mut = data.copy()\n",
    "        for idx, predicate in enumerate(m[0]):\n",
    "            data_mut[predicate] = synthesise_data.mutate_facts(data_mut[predicate], frac=f/100, sample_seed=m[1][idx], value_seed=m[2][idx], enzymes=['e2'])\n",
    "        build_model.write_predicate_files(data_mut, path=f'{PATH_TO_DATA}/mutate_e2_{key}_{f}/')"
   ]
  },
  {
   "attachments": {},
   "cell_type": "markdown",
   "metadata": {},
   "source": [
    "Incomplete data"
   ]
  },
  {
   "cell_type": "code",
   "execution_count": null,
   "metadata": {},
   "outputs": [],
   "source": [
    "for n_samples in experiments:\n",
    "    PATH_TO_DATA = f'data/processed/synthetic_data/{MODEL}/n{n_samples}/'\n",
    "    data = synthesise_data.get_data(PATH_TO_DATA)\n",
    "    # Incomplete data\n",
    "    for f in frac:\n",
    "        for key, m in mutate.items():\n",
    "            data_miss = data.copy()\n",
    "            for idx, predicate in enumerate(m[0]):\n",
    "                data_miss[predicate] = synthesise_data.remove_facts(data_miss[predicate], frac=f/100, sample_seed=m[1][idx])\n",
    "            build_model.write_predicate_files(data_miss, path=f'{PATH_TO_DATA}/missing_{key}_{f}/')"
   ]
  },
  {
   "attachments": {},
   "cell_type": "markdown",
   "metadata": {},
   "source": [
    "Probabilistic data - random"
   ]
  },
  {
   "cell_type": "code",
   "execution_count": null,
   "metadata": {},
   "outputs": [],
   "source": [
    "PATH_TO_DATA = f'data/processed/synthetic_data/{MODEL}/n1000/'\n",
    "data = synthesise_data.get_data(f'{PATH_TO_DATA}/mutate_m1_20/')\n",
    "for predicate, facts in data.items():\n",
    "        if predicate in ['activity', 'fold_change']:\n",
    "            for idx, fact in enumerate(facts):\n",
    "                p = random.uniform(0.5, 1) \n",
    "                data[predicate][idx] = f'{p}::{fact}'\n",
    "build_model.write_predicate_files(data, path=f'{PATH_TO_DATA}/mutate_m1_20_prand/')"
   ]
  },
  {
   "attachments": {},
   "cell_type": "markdown",
   "metadata": {},
   "source": [
    "Probabilistic data - selected"
   ]
  },
  {
   "cell_type": "code",
   "execution_count": null,
   "metadata": {},
   "outputs": [],
   "source": [
    "PATH_TO_DATA = f'data/processed/synthetic_data/{MODEL}/n1000/'\n",
    "data = build_model.dict_to_list(synthesise_data.get_data(f'{PATH_TO_DATA}/mutate_m1_20/'))\n",
    "true_data = build_model.dict_to_list(synthesise_data.get_data(PATH_TO_DATA))\n",
    "err_facts = set(data) - set(true_data)\n",
    "data = synthesise_data.get_data(f'{PATH_TO_DATA}/mutate_m1_20/')\n",
    "for predicate, facts in data.items():\n",
    "        if predicate in ['activity', 'fold_change']:\n",
    "            for idx, fact in enumerate(facts):\n",
    "                if fact in err_facts:\n",
    "                     p = random.uniform(0.5, 0.75)  # needs to be above 0.5\n",
    "                else:\n",
    "                     p = random.uniform(0.76, 1)\n",
    "                data[predicate][idx] = f'{p}::{fact}'\n",
    "build_model.write_predicate_files(data, path=f'{PATH_TO_DATA}/mutate_m1_20_pspec/')"
   ]
  },
  {
   "cell_type": "code",
   "execution_count": null,
   "metadata": {},
   "outputs": [],
   "source": [
    "# add function so can control which enzyme more noisy\n",
    "# maybe something to make sure same samples are mutated (instead of using df order)"
   ]
  }
 ],
 "metadata": {
  "kernelspec": {
   "display_name": "phospho_pi",
   "language": "python",
   "name": "python3"
  },
  "language_info": {
   "codemirror_mode": {
    "name": "ipython",
    "version": 3
   },
   "file_extension": ".py",
   "mimetype": "text/x-python",
   "name": "python",
   "nbconvert_exporter": "python",
   "pygments_lexer": "ipython3",
   "version": "3.10.9"
  },
  "orig_nbformat": 4,
  "vscode": {
   "interpreter": {
    "hash": "c426e39212dc5f767e334eb158beed769ebe6a384c743b542c18b80202c66ede"
   }
  }
 },
 "nbformat": 4,
 "nbformat_minor": 2
}
