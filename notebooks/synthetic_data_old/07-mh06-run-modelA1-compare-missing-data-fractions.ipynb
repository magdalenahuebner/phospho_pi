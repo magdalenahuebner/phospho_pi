{
 "cells": [
  {
   "cell_type": "code",
   "execution_count": 16,
   "metadata": {},
   "outputs": [
    {
     "name": "stdout",
     "output_type": "stream",
     "text": [
      "The autoreload extension is already loaded. To reload it, use:\n",
      "  %reload_ext autoreload\n"
     ]
    }
   ],
   "source": [
    "%load_ext autoreload\n",
    "%autoreload 2"
   ]
  },
  {
   "cell_type": "code",
   "execution_count": 17,
   "metadata": {},
   "outputs": [],
   "source": [
    "# Libraries\n",
    "import os\n",
    "import pickle\n",
    "\n",
    "from src.models import train_model, test_model"
   ]
  },
  {
   "cell_type": "code",
   "execution_count": 18,
   "metadata": {},
   "outputs": [],
   "source": [
    "# os.chdir('/Users/magdalena/OneDrive - Queen Mary, University of London/bezzlab/research/projects/phospho_pi/')\n",
    "os.chdir('/home/mhuebner/Desktop/bezzlab/research/projects/phospho_pi/')"
   ]
  },
  {
   "cell_type": "code",
   "execution_count": 19,
   "metadata": {},
   "outputs": [],
   "source": [
    "EXPERIMENT = 'mh06'\n",
    "MODEL = 'model_A1'\n",
    "EXP_DIR = f'./models/{EXPERIMENT}/'\n",
    "# Training\n",
    "PATH_TO_DATA = f'data/processed/synthetic_data/{MODEL}/n1000/'\n",
    "# Models\n",
    "model_template = f'./models/templates/{MODEL}.pl'"
   ]
  },
  {
   "cell_type": "code",
   "execution_count": 20,
   "metadata": {},
   "outputs": [],
   "source": [
    "fractions = [0.1, 1, 5, 10, 20]\n",
    "mutate = ['m1', 'm2', 'm3', 'm4', 'm5', 'm6', 'm7']"
   ]
  },
  {
   "cell_type": "code",
   "execution_count": null,
   "metadata": {},
   "outputs": [],
   "source": [
    "for frac in fractions:\n",
    "    for m in mutate:\n",
    "        path_to_data = f'{PATH_TO_DATA}missing_{m}_{frac}/'\n",
    "        train_model.main(\n",
    "            experiment = EXPERIMENT, \n",
    "            path_to_data = path_to_data, \n",
    "            model_template = model_template, \n",
    "            training = 0.8, \n",
    "            max_iter = 3, \n",
    "            evidence = ['activity', 'occupancy', 'fold_change'],\n",
    "            facts = [],\n",
    "            suffix = f'_{m}_{frac}'\n",
    "        )"
   ]
  },
  {
   "cell_type": "code",
   "execution_count": 21,
   "metadata": {},
   "outputs": [],
   "source": [
    "# Testing\n",
    "test = ['training', 'testing']\n",
    "PATH_TO_TRUTH = f'data/processed/synthetic_data/{MODEL}/n1000/'\n",
    "results = {}"
   ]
  },
  {
   "cell_type": "code",
   "execution_count": null,
   "metadata": {},
   "outputs": [],
   "source": [
    "for frac in fractions:\n",
    "    for m in mutate:\n",
    "        model_trained = f'{EXP_DIR}model_trained_{m}_{frac}.pl'\n",
    "        results[f'{m}_{frac}'] = {}\n",
    "        for test_on in test:\n",
    "            PATH_TO_TESTING = f'{EXP_DIR}{test_on}_{m}_{frac}/'\n",
    "            compare_to = [test_on, 'truth']\n",
    "            for compare in compare_to:\n",
    "                if compare == 'truth':\n",
    "                    path_to_truth = PATH_TO_TRUTH\n",
    "                else: \n",
    "                    path_to_truth = PATH_TO_TESTING\n",
    "\n",
    "                test_results = test_model.main(\n",
    "                    experiment = EXPERIMENT, \n",
    "                    path_to_data = PATH_TO_TESTING, \n",
    "                    path_to_truth = path_to_truth, \n",
    "                    model_trained = model_trained, \n",
    "                    targets = ['occupancy', 'modification'], \n",
    "                    test_on = f'{test_on}_{m}_{frac}', compare = f'{compare}_{m}_{frac}')\n",
    "                results[f'{m}_{frac}'][f'{test_on}_vs_{compare}'] = test_results"
   ]
  },
  {
   "cell_type": "code",
   "execution_count": 23,
   "metadata": {},
   "outputs": [],
   "source": [
    "with open(f'{EXP_DIR}results.pickle', 'wb') as file:\n",
    "    pickle.dump(results, file, protocol=pickle.HIGHEST_PROTOCOL)"
   ]
  }
 ],
 "metadata": {
  "kernelspec": {
   "display_name": "phospho_pi",
   "language": "python",
   "name": "python3"
  },
  "language_info": {
   "codemirror_mode": {
    "name": "ipython",
    "version": 3
   },
   "file_extension": ".py",
   "mimetype": "text/x-python",
   "name": "python",
   "nbconvert_exporter": "python",
   "pygments_lexer": "ipython3",
   "version": "3.11.0"
  },
  "orig_nbformat": 4,
  "vscode": {
   "interpreter": {
    "hash": "c426e39212dc5f767e334eb158beed769ebe6a384c743b542c18b80202c66ede"
   }
  }
 },
 "nbformat": 4,
 "nbformat_minor": 2
}
