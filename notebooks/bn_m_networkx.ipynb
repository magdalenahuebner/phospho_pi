{
 "cells": [
  {
   "cell_type": "code",
   "execution_count": 1,
   "metadata": {},
   "outputs": [],
   "source": [
    "%load_ext autoreload\n",
    "%autoreload 2"
   ]
  },
  {
   "cell_type": "code",
   "execution_count": 11,
   "metadata": {},
   "outputs": [],
   "source": [
    "import os\n",
    "import networkx as nx\n",
    "from pyvis.network import Network\n",
    "import matplotlib.pyplot as plt"
   ]
  },
  {
   "cell_type": "code",
   "execution_count": 4,
   "metadata": {},
   "outputs": [],
   "source": [
    "os.chdir('/Users/magdalena/OneDrive - Queen Mary, University of London/bezzlab/research/logic_things/fges_data/')\n",
    "# os.chdir('/home/mhuebner/Desktop/bezzlab/research/projects/phospho_pi/')"
   ]
  },
  {
   "cell_type": "code",
   "execution_count": 25,
   "metadata": {},
   "outputs": [],
   "source": [
    "# Read the data from the file\n",
    "file_path = 'simulated_data/knet_simbnlearn_bipart_cyto.txt'  # Replace with your file path"
   ]
  },
  {
   "cell_type": "code",
   "execution_count": 26,
   "metadata": {},
   "outputs": [],
   "source": [
    "# Read the data from the filefile_path = 'your_file.txt'  # Replace with your file path\n",
    "edges = []  # This will hold the edges from your file\n",
    "with open(file_path, 'r') as file:\n",
    "    next(file)  # Skip the header line\n",
    "    for line in file:\n",
    "        from_node, to_node, where = line.strip().split('\\t')\n",
    "        edges.append((from_node, to_node))  # Storing edges without 'where' attribute"
   ]
  },
  {
   "cell_type": "code",
   "execution_count": 27,
   "metadata": {},
   "outputs": [],
   "source": [
    "# Create a directed graph\n",
    "G = nx.DiGraph()\n",
    "\n",
    "# Add nodes and edges to the graph\n",
    "for from_node, to_node in edges:\n",
    "    if ':' in from_node:\n",
    "        G.add_node(from_node, bipartite=1)\n",
    "    else:\n",
    "        G.add_node(from_node, bipartite=0)\n",
    "\n",
    "    if ':' in to_node:\n",
    "        G.add_node(to_node, bipartite=1)\n",
    "    else:\n",
    "        G.add_node(to_node, bipartite=0)\n",
    "    \n",
    "    G.add_edge(from_node, to_node)\n",
    "\n",
    "# Create a Pyvis network\n",
    "net = Network()\n",
    "\n",
    "# Add nodes and edges from the bipartite graph\n",
    "for node, attributes in G.nodes(data=True):\n",
    "    if attributes[\"bipartite\"] == 0:\n",
    "        net.add_node(node, color=\"#E0F4DA\", shape=\"square\", borderWidth=1.5)\n",
    "    else:\n",
    "        net.add_node(node, color=\"#D8F0F6\", borderWidth=1.5)\n",
    "\n",
    "for edge in G.edges():\n",
    "    net.add_edge(edge[0], edge[1], width=4)\n",
    "\n",
    "# Show the network\n",
    "net.show('bipartite_network_phos.html')"
   ]
  },
  {
   "cell_type": "code",
   "execution_count": 21,
   "metadata": {},
   "outputs": [],
   "source": [
    "# Read the data from the file\n",
    "file_path = 'simulated_data/knet_simbnlearn_pst_cyto.txt'  # Replace with your file path"
   ]
  },
  {
   "cell_type": "code",
   "execution_count": 22,
   "metadata": {},
   "outputs": [],
   "source": [
    "# Read the data from the filefile_path = 'your_file.txt'  # Replace with your file path\n",
    "edges = []  # This will hold the edges from your file\n",
    "with open(file_path, 'r') as file:\n",
    "    next(file)  # Skip the header line\n",
    "    for line in file:\n",
    "        from_node, to_node, where = line.strip().split('\\t')\n",
    "        edges.append((from_node, to_node))  # Storing edges without 'where' attribute"
   ]
  },
  {
   "cell_type": "code",
   "execution_count": 24,
   "metadata": {},
   "outputs": [],
   "source": [
    "# Create a directed graph\n",
    "G = nx.DiGraph()\n",
    "\n",
    "# Add nodes and edges to the graph\n",
    "for from_node, to_node in edges:\n",
    "    if ':' in from_node:\n",
    "        G.add_node(from_node, bipartite=1)\n",
    "    else:\n",
    "        G.add_node(from_node, bipartite=0)\n",
    "\n",
    "    if ':' in to_node:\n",
    "        G.add_node(to_node, bipartite=1)\n",
    "    else:\n",
    "        G.add_node(to_node, bipartite=0)\n",
    "    \n",
    "    G.add_edge(from_node, to_node)\n",
    "\n",
    "# Create a Pyvis network\n",
    "net = Network()\n",
    "\n",
    "# Add nodes and edges from the bipartite graph\n",
    "for node, attributes in G.nodes(data=True):\n",
    "    if attributes[\"bipartite\"] == 0:\n",
    "        net.add_node(node, color=\"#E0F4DA\", shape=\"square\", borderWidth=1.5)\n",
    "    else:\n",
    "        net.add_node(node, color=\"#D8F0F6\", borderWidth=1.5)\n",
    "\n",
    "for edge in G.edges():\n",
    "    net.add_edge(edge[0], edge[1], width=4)\n",
    "\n",
    "# Show the network\n",
    "net.show('bipartite_network_prot.html')"
   ]
  }
 ],
 "metadata": {
  "kernelspec": {
   "display_name": "phospho_pi",
   "language": "python",
   "name": "python3"
  },
  "language_info": {
   "codemirror_mode": {
    "name": "ipython",
    "version": 3
   },
   "file_extension": ".py",
   "mimetype": "text/x-python",
   "name": "python",
   "nbconvert_exporter": "python",
   "pygments_lexer": "ipython3",
   "version": "3.10.13"
  },
  "orig_nbformat": 4
 },
 "nbformat": 4,
 "nbformat_minor": 2
}
